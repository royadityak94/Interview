{
 "cells": [
  {
   "cell_type": "code",
   "execution_count": 3,
   "metadata": {},
   "outputs": [],
   "source": [
    "%load_ext autoreload\n",
    "%autoreload 2\n",
    "%reload_ext autoreload"
   ]
  },
  {
   "cell_type": "code",
   "execution_count": 6,
   "metadata": {},
   "outputs": [],
   "source": [
    "from utilities import fetch_dictionary_file, fetch_dictionary_information"
   ]
  },
  {
   "cell_type": "code",
   "execution_count": 38,
   "metadata": {},
   "outputs": [],
   "source": [
    "class Anagram:\n",
    "    def __init__(self):\n",
    "        # Fetch the dictionary\n",
    "        dict_file_path = fetch_dictionary_information()\n",
    "        # Load the character map\n",
    "        self.character_dictionary = fetch_dictionary_file(dict_file_path)\n",
    "    \n",
    "    def get_anagrams(self, input_string, maximum_size=None):\n",
    "        reconstructed = CharacterMap(input_string)\n",
    "        generated_anagrams = list()\n",
    "        for letters in self.character_dictionary.keys():\n",
    "            if letters.isalpha() \\\n",
    "                and not letters == input_string \\\n",
    "                and not (len(letters) - len(input_string)) \\\n",
    "                and reconstructed.remove(self.character_dictionary.get(letters)):\n",
    "                generated_anagrams += letters,\n",
    "\n",
    "            if maximum_size and len(generated_anagrams) == maximum_size:\n",
    "                break\n",
    "        return generated_anagrams\n",
    "    \n",
    "    def add_custom_words(self, new_words, local_only=False):\n",
    "        for word in new_words:\n",
    "            if len(word):\n",
    "                chars = word.lower()\n",
    "                self.character_dictionary.update({chars: CharacterMap(chars)})\n",
    "        if not local_only:\n",
    "            try:\n",
    "                persist_dictionary_file(self.character_dictionary, dict_file_path)\n",
    "            except Exception as ex: \n",
    "                print (\"The process couldn't complete.\")\n",
    "                raise Exception(ex)\n",
    "        return"
   ]
  },
  {
   "cell_type": "code",
   "execution_count": 39,
   "metadata": {},
   "outputs": [
    {
     "name": "stdout",
     "output_type": "stream",
     "text": [
      "['pool', 'polo']\n",
      "['xes', 'esx']\n",
      "['brei']\n"
     ]
    }
   ],
   "source": [
    "anagram_instance = Anagram()\n",
    "print (anagram_instance.get_anagrams('loop'))\n",
    "print (anagram_instance.get_anagrams('sex'))\n",
    "print (anagram_instance.get_anagrams('bier', 1))"
   ]
  },
  {
   "cell_type": "code",
   "execution_count": 23,
   "metadata": {},
   "outputs": [
    {
     "name": "stdout",
     "output_type": "stream",
     "text": [
      "[]\n"
     ]
    }
   ],
   "source": [
    "print (anagram_instance.get_anagrams('mex'))"
   ]
  },
  {
   "cell_type": "code",
   "execution_count": 40,
   "metadata": {},
   "outputs": [
    {
     "name": "stdout",
     "output_type": "stream",
     "text": [
      "[]\n",
      "['emx', 'xme']\n"
     ]
    }
   ],
   "source": [
    "print (anagram_instance.get_anagrams('mex'))\n",
    "new_words= 'emx,xme,mex'.split(',')\n",
    "anagram_instance.add_custom_words(new_words, True)\n",
    "print (anagram_instance.get_anagrams('mex'))"
   ]
  },
  {
   "cell_type": "code",
   "execution_count": 29,
   "metadata": {},
   "outputs": [
    {
     "data": {
      "text/plain": [
       "['emx', 'xme']"
      ]
     },
     "execution_count": 29,
     "metadata": {},
     "output_type": "execute_result"
    }
   ],
   "source": [
    "new_words"
   ]
  },
  {
   "cell_type": "code",
   "execution_count": 34,
   "metadata": {},
   "outputs": [],
   "source": [
    "def add_new_words(new_words):\n",
    "    \"\"\"Module to support custom new words into the dictionary\n",
    "    \"\"\"\n",
    "    # Fetch the dictionary\n",
    "    dict_file_path = fetch_dictionary_information()\n",
    "    character_dictionary = fetch_dictionary_file(dict_file_path)\n",
    "    \n",
    "    for word in new_words:\n",
    "        if len(word):\n",
    "            chars = word.lower()\n",
    "            self.character_dictionary.update({chars: CharacterMap(chars)})\n",
    "    try:\n",
    "        persist_dictionary_file(self.character_dictionary, dict_file_path)\n",
    "    except Exception as ex: \n",
    "        print (\"The process couldn't complete.\")\n",
    "        raise Exception(ex)\n",
    "    return"
   ]
  },
  {
   "cell_type": "code",
   "execution_count": null,
   "metadata": {},
   "outputs": [],
   "source": []
  },
  {
   "cell_type": "code",
   "execution_count": 35,
   "metadata": {},
   "outputs": [],
   "source": [
    "def get_anagrams(input_string, maximum_size=None):\n",
    "    # Fetch the dictionary\n",
    "    dict_file_path = fetch_dictionary_information()\n",
    "    character_dictionary = fetch_dictionary_file(dict_file_path)\n",
    "    reconstructed = CharacterMap(input_string)\n",
    "    generated_anagrams = list()\n",
    "    for letters in character_dictionary.keys():\n",
    "        if letters.isalpha() \\\n",
    "            and not letters == input_string \\\n",
    "            and not (len(letters) - len(input_string)) \\\n",
    "            and reconstructed.remove(character_dictionary.get(letters)):\n",
    "            generated_anagrams += letters,\n",
    "        \n",
    "        if maximum_size and len(generated_anagrams) == maximum_size:\n",
    "            break\n",
    "    return generated_anagrams"
   ]
  },
  {
   "cell_type": "code",
   "execution_count": null,
   "metadata": {},
   "outputs": [],
   "source": []
  },
  {
   "cell_type": "code",
   "execution_count": null,
   "metadata": {},
   "outputs": [],
   "source": []
  },
  {
   "cell_type": "code",
   "execution_count": null,
   "metadata": {},
   "outputs": [],
   "source": []
  },
  {
   "cell_type": "code",
   "execution_count": null,
   "metadata": {},
   "outputs": [],
   "source": []
  },
  {
   "cell_type": "code",
   "execution_count": null,
   "metadata": {},
   "outputs": [],
   "source": []
  },
  {
   "cell_type": "code",
   "execution_count": null,
   "metadata": {},
   "outputs": [],
   "source": []
  },
  {
   "cell_type": "code",
   "execution_count": null,
   "metadata": {},
   "outputs": [],
   "source": []
  },
  {
   "cell_type": "code",
   "execution_count": 2,
   "metadata": {},
   "outputs": [],
   "source": [
    "#!/usr/bin/python3\n",
    "from character_tree import CharacterMap\n",
    "from utilities import fetch_dictionary_file, fetch_dictionary_information\n",
    "import argparse\n",
    "import logging\n",
    "import os\n",
    "import mmap"
   ]
  },
  {
   "cell_type": "code",
   "execution_count": null,
   "metadata": {},
   "outputs": [],
   "source": [
    "dict_file_path = fetch_dictionary_information()\n",
    "print (\"Got: \",dict_file_path)\n"
   ]
  },
  {
   "cell_type": "code",
   "execution_count": null,
   "metadata": {},
   "outputs": [],
   "source": [
    "from add_custom_words import add_new_words"
   ]
  },
  {
   "cell_type": "code",
   "execution_count": null,
   "metadata": {},
   "outputs": [],
   "source": [
    "new_words = 'azs,kas,srt'.split(',')\n",
    "add_new_words(new_words)"
   ]
  },
  {
   "cell_type": "code",
   "execution_count": null,
   "metadata": {},
   "outputs": [],
   "source": []
  },
  {
   "cell_type": "code",
   "execution_count": null,
   "metadata": {},
   "outputs": [],
   "source": [
    "character_dictionary = fetch_dictionary_file(dict_file_path)"
   ]
  },
  {
   "cell_type": "code",
   "execution_count": null,
   "metadata": {},
   "outputs": [],
   "source": [
    "character_dictionary"
   ]
  },
  {
   "cell_type": "code",
   "execution_count": null,
   "metadata": {},
   "outputs": [],
   "source": [
    "def get_anagrams(input_string, maximum_size=None):\n",
    "    # Fetch the dictionary\n",
    "    dict_file_path = fetch_dictionary_information()\n",
    "    character_dictionary = fetch_dictionary_file(dict_file_path)\n",
    "    reconstructed = CharacterMap(input_string)\n",
    "    generated_anagrams = list()\n",
    "    for letters in character_dictionary.keys():\n",
    "        if letters.isalpha() \\\n",
    "            and not letters == input_string \\\n",
    "            and not (len(letters) - len(input_string)) \\\n",
    "            and reconstructed.remove(character_dictionary.get(letters)):\n",
    "            generated_anagrams += letters,\n",
    "        \n",
    "        if maximum_size and len(generated_anagrams) == maximum_size:\n",
    "            break\n",
    "    return generated_anagrams"
   ]
  },
  {
   "cell_type": "code",
   "execution_count": null,
   "metadata": {},
   "outputs": [],
   "source": []
  },
  {
   "cell_type": "code",
   "execution_count": null,
   "metadata": {},
   "outputs": [],
   "source": []
  },
  {
   "cell_type": "code",
   "execution_count": null,
   "metadata": {},
   "outputs": [],
   "source": []
  },
  {
   "cell_type": "code",
   "execution_count": null,
   "metadata": {},
   "outputs": [],
   "source": []
  },
  {
   "cell_type": "code",
   "execution_count": null,
   "metadata": {},
   "outputs": [],
   "source": []
  }
 ],
 "metadata": {
  "kernelspec": {
   "display_name": "Python 3",
   "language": "python",
   "name": "python3"
  },
  "language_info": {
   "codemirror_mode": {
    "name": "ipython",
    "version": 3
   },
   "file_extension": ".py",
   "mimetype": "text/x-python",
   "name": "python",
   "nbconvert_exporter": "python",
   "pygments_lexer": "ipython3",
   "version": "3.7.6"
  }
 },
 "nbformat": 4,
 "nbformat_minor": 4
}
