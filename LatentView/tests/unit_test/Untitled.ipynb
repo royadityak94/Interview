{
 "cells": [
  {
   "cell_type": "code",
   "execution_count": null,
   "metadata": {},
   "outputs": [],
   "source": [
    "import sys\n",
    "sys.path.append('../../src')"
   ]
  },
  {
   "cell_type": "code",
   "execution_count": null,
   "metadata": {},
   "outputs": [],
   "source": [
    "import os\n",
    "abs_path = os.path.abspath(\"../../src\")"
   ]
  },
  {
   "cell_type": "code",
   "execution_count": null,
   "metadata": {},
   "outputs": [],
   "source": []
  },
  {
   "cell_type": "code",
   "execution_count": null,
   "metadata": {},
   "outputs": [],
   "source": [
    "import sys, os\n",
    "os.path.abspath('')\n",
    "testdir = os.path.dirname(\"__file__\")\n",
    "srcdir = '../../src'\n",
    "sys.path.insert(0, os.path.abspath(os.path.join(testdir, srcdir)))"
   ]
  },
  {
   "cell_type": "code",
   "execution_count": 5,
   "metadata": {},
   "outputs": [],
   "source": [
    "import sys\n",
    "sys.path.insert(0, \"../../src\")"
   ]
  },
  {
   "cell_type": "code",
   "execution_count": 6,
   "metadata": {},
   "outputs": [],
   "source": [
    "import unittest\n",
    "from anagram_class import Anagram"
   ]
  },
  {
   "cell_type": "code",
   "execution_count": 7,
   "metadata": {},
   "outputs": [],
   "source": [
    "class TestGetterModules(unittest.TestCase):\n",
    "    def setUp(self):\n",
    "        pass\n",
    "    def tearDown(self):\n",
    "        pass\n",
    "    \n",
    "    def test_fetch_anagrams(self):\n",
    "        self.instance = Anagram()\n",
    "        self.assertEqual(1 == 1)\n",
    "#         output = self.instance.get_anagrams('loop')\n",
    "#         print (output)"
   ]
  },
  {
   "cell_type": "code",
   "execution_count": 8,
   "metadata": {},
   "outputs": [
    {
     "name": "stderr",
     "output_type": "stream",
     "text": [
      "E\n",
      "======================================================================\n",
      "ERROR: test_fetch_anagrams (__main__.TestGetterModules)\n",
      "----------------------------------------------------------------------\n",
      "Traceback (most recent call last):\n",
      "  File \"<ipython-input-7-986d4db5a10c>\", line 3, in setUp\n",
      "    self.instance = Anagram()\n",
      "  File \"../../src\\anagram_class.py\", line 8, in __init__\n",
      "    dict_file_path = fetch_dictionary_information()\n",
      "  File \"../../src\\utilities.py\", line 46, in fetch_dictionary_information\n",
      "    environ_variables = fetch_working_variables(properties_var= properties, group_name= group)\n",
      "  File \"../../src\\utilities.py\", line 22, in fetch_working_variables\n",
      "    raise FileNotFoundError(errno.ENOENT, os.strerror(errno.ENOENT), properties_var)\n",
      "FileNotFoundError: [Errno 2] No such file or directory: '../environment.properties'\n",
      "\n",
      "----------------------------------------------------------------------\n",
      "Ran 1 test in 0.005s\n",
      "\n",
      "FAILED (errors=1)\n"
     ]
    },
    {
     "data": {
      "text/plain": [
       "<unittest.main.TestProgram at 0x19bd0022908>"
      ]
     },
     "execution_count": 8,
     "metadata": {},
     "output_type": "execute_result"
    }
   ],
   "source": [
    "unittest.main(argv=['first-arg-is-ignored'], exit=False)"
   ]
  },
  {
   "cell_type": "code",
   "execution_count": null,
   "metadata": {},
   "outputs": [],
   "source": []
  },
  {
   "cell_type": "code",
   "execution_count": null,
   "metadata": {},
   "outputs": [],
   "source": []
  },
  {
   "cell_type": "code",
   "execution_count": null,
   "metadata": {},
   "outputs": [],
   "source": [
    "class Anagram:\n",
    "    def __init__(self):\n",
    "        # Fetch the dictionary\n",
    "        dict_file_path = fetch_dictionary_information()\n",
    "        # Load the character map\n",
    "        self.character_dictionary = fetch_dictionary_file(dict_file_path)\n",
    "    \n",
    "    def get_anagrams(self, input_string, maximum_size=None):\n",
    "        reconstructed = CharacterMap(input_string)\n",
    "        generated_anagrams = list()\n",
    "        for letters in self.character_dictionary.keys():\n",
    "            if letters.isalpha() \\\n",
    "                and not letters == input_string \\\n",
    "                and not (len(letters) - len(input_string)) \\\n",
    "                and reconstructed.remove(self.character_dictionary.get(letters)):\n",
    "                generated_anagrams += letters,\n",
    "\n",
    "            if maximum_size and len(generated_anagrams) == maximum_size:\n",
    "                break\n",
    "        return generated_anagrams\n",
    "    \n",
    "    def add_custom_words(self, new_words, local_only=False):\n",
    "        for word in new_words:\n",
    "            if len(word):\n",
    "                chars = word.lower()\n",
    "                self.character_dictionary.update({chars: CharacterMap(chars)})\n",
    "        if not local_only:\n",
    "            try:\n",
    "                persist_dictionary_file(self.character_dictionary, dict_file_path)\n",
    "            except Exception as ex: \n",
    "                print (\"The process couldn't complete.\")\n",
    "                raise Exception(ex)\n",
    "        return"
   ]
  },
  {
   "cell_type": "code",
   "execution_count": null,
   "metadata": {},
   "outputs": [],
   "source": []
  }
 ],
 "metadata": {
  "kernelspec": {
   "display_name": "Python 3",
   "language": "python",
   "name": "python3"
  },
  "language_info": {
   "codemirror_mode": {
    "name": "ipython",
    "version": 3
   },
   "file_extension": ".py",
   "mimetype": "text/x-python",
   "name": "python",
   "nbconvert_exporter": "python",
   "pygments_lexer": "ipython3",
   "version": "3.7.6"
  }
 },
 "nbformat": 4,
 "nbformat_minor": 4
}
