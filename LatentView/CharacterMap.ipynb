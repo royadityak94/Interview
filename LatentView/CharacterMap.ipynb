{
 "cells": [
  {
   "cell_type": "code",
   "execution_count": 2,
   "metadata": {},
   "outputs": [
    {
     "ename": "ModuleNotFoundError",
     "evalue": "No module named 'character_tree'",
     "output_type": "error",
     "traceback": [
      "\u001b[1;31m---------------------------------------------------------------------------\u001b[0m",
      "\u001b[1;31mModuleNotFoundError\u001b[0m                       Traceback (most recent call last)",
      "\u001b[1;32m<ipython-input-2-f08be15e90fe>\u001b[0m in \u001b[0;36m<module>\u001b[1;34m\u001b[0m\n\u001b[0;32m      1\u001b[0m \u001b[1;31m#!/usr/bin/python3\u001b[0m\u001b[1;33m\u001b[0m\u001b[1;33m\u001b[0m\u001b[1;33m\u001b[0m\u001b[0m\n\u001b[1;32m----> 2\u001b[1;33m \u001b[1;32mfrom\u001b[0m \u001b[0mcharacter_tree\u001b[0m \u001b[1;32mimport\u001b[0m \u001b[0mCharacterMap\u001b[0m\u001b[1;33m\u001b[0m\u001b[1;33m\u001b[0m\u001b[0m\n\u001b[0m\u001b[0;32m      3\u001b[0m \u001b[1;32mfrom\u001b[0m \u001b[0mutilities\u001b[0m \u001b[1;32mimport\u001b[0m \u001b[0mfetch_dictionary_file\u001b[0m\u001b[1;33m,\u001b[0m \u001b[0mfetch_dictionary_information\u001b[0m\u001b[1;33m\u001b[0m\u001b[1;33m\u001b[0m\u001b[0m\n\u001b[0;32m      4\u001b[0m \u001b[1;32mimport\u001b[0m \u001b[0margparse\u001b[0m\u001b[1;33m\u001b[0m\u001b[1;33m\u001b[0m\u001b[0m\n\u001b[0;32m      5\u001b[0m \u001b[1;32mimport\u001b[0m \u001b[0mlogging\u001b[0m\u001b[1;33m\u001b[0m\u001b[1;33m\u001b[0m\u001b[0m\n",
      "\u001b[1;31mModuleNotFoundError\u001b[0m: No module named 'character_tree'"
     ]
    }
   ],
   "source": [
    "#!/usr/bin/python3\n",
    "from character_tree import CharacterMap\n",
    "from utilities import fetch_dictionary_file, fetch_dictionary_information\n",
    "import argparse\n",
    "import logging\n",
    "import os\n",
    "import mmap"
   ]
  },
  {
   "cell_type": "code",
   "execution_count": null,
   "metadata": {},
   "outputs": [],
   "source": []
  },
  {
   "cell_type": "code",
   "execution_count": null,
   "metadata": {},
   "outputs": [],
   "source": [
    "def get_anagrams(input_string, maximum_size=None):\n",
    "    # Fetch the dictionary\n",
    "    dict_file_path = fetch_dictionary_information()\n",
    "    character_dictionary = fetch_dictionary_file(dict_file_path)\n",
    "    reconstructed = CharacterMap(input_string)\n",
    "    generated_anagrams = list()\n",
    "    for letters in character_dictionary.keys():\n",
    "        if letters.isalpha() \\\n",
    "            and not letters == input_string \\\n",
    "            and not (len(letters) - len(input_string)) \\\n",
    "            and reconstructed.remove(character_dictionary.get(letters)):\n",
    "            generated_anagrams += letters,\n",
    "        \n",
    "        if maximum_size and len(generated_anagrams) == maximum_size:\n",
    "            break\n",
    "    return generated_anagrams"
   ]
  },
  {
   "cell_type": "code",
   "execution_count": null,
   "metadata": {},
   "outputs": [],
   "source": []
  },
  {
   "cell_type": "code",
   "execution_count": null,
   "metadata": {},
   "outputs": [],
   "source": []
  },
  {
   "cell_type": "code",
   "execution_count": null,
   "metadata": {},
   "outputs": [],
   "source": []
  },
  {
   "cell_type": "code",
   "execution_count": null,
   "metadata": {},
   "outputs": [],
   "source": []
  },
  {
   "cell_type": "code",
   "execution_count": null,
   "metadata": {},
   "outputs": [],
   "source": []
  },
  {
   "cell_type": "code",
   "execution_count": null,
   "metadata": {},
   "outputs": [],
   "source": []
  },
  {
   "cell_type": "code",
   "execution_count": null,
   "metadata": {},
   "outputs": [],
   "source": []
  },
  {
   "cell_type": "code",
   "execution_count": null,
   "metadata": {},
   "outputs": [],
   "source": [
    "from character_tree import *"
   ]
  },
  {
   "cell_type": "code",
   "execution_count": null,
   "metadata": {},
   "outputs": [],
   "source": []
  },
  {
   "cell_type": "code",
   "execution_count": null,
   "metadata": {},
   "outputs": [],
   "source": [
    "from character_tree import CharacterMap"
   ]
  },
  {
   "cell_type": "code",
   "execution_count": null,
   "metadata": {},
   "outputs": [],
   "source": []
  },
  {
   "cell_type": "code",
   "execution_count": null,
   "metadata": {},
   "outputs": [],
   "source": []
  },
  {
   "cell_type": "code",
   "execution_count": null,
   "metadata": {},
   "outputs": [],
   "source": []
  },
  {
   "cell_type": "code",
   "execution_count": null,
   "metadata": {},
   "outputs": [],
   "source": []
  },
  {
   "cell_type": "code",
   "execution_count": null,
   "metadata": {},
   "outputs": [],
   "source": []
  },
  {
   "cell_type": "code",
   "execution_count": null,
   "metadata": {},
   "outputs": [],
   "source": []
  },
  {
   "cell_type": "code",
   "execution_count": null,
   "metadata": {},
   "outputs": [],
   "source": [
    "%load_ext autoreload\n",
    "%autoreload 2\n",
    "%reload_ext autoreload"
   ]
  },
  {
   "cell_type": "code",
   "execution_count": null,
   "metadata": {},
   "outputs": [],
   "source": [
    "from character_tree import CharacterMap\n",
    "from utilities import fetch_working_variables, fetch_dictionary_file, persist_dictionary_file, load_data_from_file, create_dictionary\n",
    "import os\n",
    "import logging\n",
    "import mmap\n",
    "import argparse\n",
    "from nltk.corpus import words"
   ]
  },
  {
   "cell_type": "code",
   "execution_count": null,
   "metadata": {},
   "outputs": [],
   "source": [
    "import logging\n",
    "import argparse\n",
    "from utilities import fetch_dictionary_information, create_dictionary, load_data_from_file\n",
    "import os\n",
    "from nltk.corpus import words"
   ]
  },
  {
   "cell_type": "code",
   "execution_count": null,
   "metadata": {},
   "outputs": [],
   "source": []
  },
  {
   "cell_type": "code",
   "execution_count": null,
   "metadata": {},
   "outputs": [],
   "source": []
  },
  {
   "cell_type": "code",
   "execution_count": null,
   "metadata": {},
   "outputs": [],
   "source": [
    "__name__"
   ]
  },
  {
   "cell_type": "code",
   "execution_count": null,
   "metadata": {},
   "outputs": [],
   "source": [
    "from anagram_generator import get_anagrams"
   ]
  },
  {
   "cell_type": "code",
   "execution_count": null,
   "metadata": {},
   "outputs": [],
   "source": [
    "if __name__ == '__main__':\n",
    "    # Setting up the argument parser\n",
    "    parser = argparse.ArgumentParser()\n",
    "    parser_input = parser.add_argument(\n",
    "            \"-i\",\n",
    "            \"--input\",\n",
    "            help= 'input string for which anagrams are requested',\n",
    "            type= str,\n",
    "            default= 'nltk'\n",
    "        )\n",
    "    parser_input = parser.add_argument(\n",
    "            \"-f\",\n",
    "            \"--file\",\n",
    "            help= 'input file path (for data load from file)',\n",
    "            type= str\n",
    "        )\n",
    "    args = parser.parse_args() #\n",
    "    file_path = create_charmap_dictionary(args.input, args.file)\n",
    "    print (\"Successfully loaded dictionary at {file_path}\".format(file_path= file_path))"
   ]
  },
  {
   "cell_type": "code",
   "execution_count": null,
   "metadata": {},
   "outputs": [],
   "source": [
    "args.input, args.file"
   ]
  },
  {
   "cell_type": "code",
   "execution_count": null,
   "metadata": {},
   "outputs": [],
   "source": [
    "def fetch_dictionary_information(properties=None, group = None):\n",
    "    if not properties:\n",
    "        properties = 'environment.properties'\n",
    "    if not group:\n",
    "        group = 'WorkingVariables'\n",
    "    environ_variables = fetch_working_variables(properties_var= properties, group_name= group)\n",
    "    dict_file_path = os.path.join(environ_variables['working.dir'], 'shelve_dict.pickle')\n",
    "    assert os.path.exists(dict_file_path), 'The dictionary file is missing!'\n",
    "    return dict_file_path"
   ]
  },
  {
   "cell_type": "code",
   "execution_count": null,
   "metadata": {},
   "outputs": [],
   "source": []
  },
  {
   "cell_type": "code",
   "execution_count": null,
   "metadata": {},
   "outputs": [],
   "source": [
    "fetch_dictionary_information()"
   ]
  },
  {
   "cell_type": "code",
   "execution_count": null,
   "metadata": {},
   "outputs": [],
   "source": [
    "get_anagrams('cat', 2)"
   ]
  },
  {
   "cell_type": "code",
   "execution_count": null,
   "metadata": {},
   "outputs": [],
   "source": [
    "dict_file_path"
   ]
  },
  {
   "cell_type": "code",
   "execution_count": null,
   "metadata": {},
   "outputs": [],
   "source": [
    "character_dictionary = dict()\n",
    "for word in frozenset(words.words()):\n",
    "    chars = word.lower()\n",
    "    character_dictionary.update({chars: CharacterMap(chars)})"
   ]
  },
  {
   "cell_type": "code",
   "execution_count": null,
   "metadata": {},
   "outputs": [],
   "source": [
    "args.file"
   ]
  },
  {
   "cell_type": "code",
   "execution_count": null,
   "metadata": {},
   "outputs": [],
   "source": [
    "data_list = frozenset(words.words())"
   ]
  },
  {
   "cell_type": "code",
   "execution_count": null,
   "metadata": {},
   "outputs": [],
   "source": [
    "CharacterMap"
   ]
  },
  {
   "cell_type": "code",
   "execution_count": null,
   "metadata": {},
   "outputs": [],
   "source": [
    "lst = frozenset(words.words())\n",
    "i = 0\n"
   ]
  },
  {
   "cell_type": "code",
   "execution_count": null,
   "metadata": {},
   "outputs": [],
   "source": [
    "def reload"
   ]
  },
  {
   "cell_type": "code",
   "execution_count": null,
   "metadata": {},
   "outputs": [],
   "source": []
  },
  {
   "cell_type": "code",
   "execution_count": null,
   "metadata": {},
   "outputs": [],
   "source": [
    "# Setting up the logger\n",
    "logger = logging.getLogger()\n",
    "logger.setLevel(logging.DEBUG)\n",
    "# Setting up the argument parser\n",
    "parser = argparse.ArgumentParser()\n",
    "parser_input = parser.add_argument(\n",
    "        \"-s\",\n",
    "        \"--input\",\n",
    "        help= 'input string for which anagrams are requested',\n",
    "        type= str\n",
    "    )\n",
    "args = parser.parse_args()\n",
    "if not args.input:\n",
    "    raise argparse.ArgumentError(parser_input, 'Missing input or input cannot be empty string')\n",
    "\n",
    "print (\"Found anagrams: \", end= '')\n",
    "for idx, anagram in enumerate(get_anagrams(args.input.lower())):\n",
    "    if idx:\n",
    "        print (', ', end= '')\n",
    "    print ('(%d) %s' % (idx+1, anagram), end= '')\n",
    "print ()"
   ]
  },
  {
   "cell_type": "code",
   "execution_count": null,
   "metadata": {},
   "outputs": [],
   "source": [
    "idx"
   ]
  },
  {
   "cell_type": "code",
   "execution_count": null,
   "metadata": {},
   "outputs": [],
   "source": [
    "args"
   ]
  },
  {
   "cell_type": "code",
   "execution_count": null,
   "metadata": {},
   "outputs": [],
   "source": []
  },
  {
   "cell_type": "code",
   "execution_count": null,
   "metadata": {},
   "outputs": [],
   "source": []
  },
  {
   "cell_type": "code",
   "execution_count": null,
   "metadata": {},
   "outputs": [],
   "source": []
  },
  {
   "cell_type": "code",
   "execution_count": null,
   "metadata": {},
   "outputs": [],
   "source": []
  },
  {
   "cell_type": "code",
   "execution_count": null,
   "metadata": {},
   "outputs": [],
   "source": []
  },
  {
   "cell_type": "code",
   "execution_count": null,
   "metadata": {},
   "outputs": [],
   "source": []
  },
  {
   "cell_type": "code",
   "execution_count": null,
   "metadata": {},
   "outputs": [],
   "source": []
  },
  {
   "cell_type": "code",
   "execution_count": null,
   "metadata": {},
   "outputs": [],
   "source": []
  },
  {
   "cell_type": "code",
   "execution_count": null,
   "metadata": {},
   "outputs": [],
   "source": [
    "# #!/usr/bin/python3\n",
    "\n",
    "# def add_new_words(new_words):\n",
    "#     \"\"\"Module to support custom new words into the dictionary\n",
    "#     \"\"\"\n",
    "#     # Fetch the dictionary\n",
    "#     properties = 'environment.properties'\n",
    "#     group = 'WorkingVariables'\n",
    "#     environ_variables = fetch_working_variables(properties_var= properties, group_name= group)\n",
    "#     dict_file_path = os.path.join(environ_variables['working.dir'], 'shelve_dict.pickle')\n",
    "#     assert os.path.exists(dict_file_path), 'The dictionary file is missing!'\n",
    "#     character_dictionary = fetch_dictionary_file(dict_file_path)\n",
    "    \n",
    "#     for word in new_words:\n",
    "#         if len(word):\n",
    "#             chars = word.lower()\n",
    "#             character_dictionary.update({chars: CharacterMap(chars)})\n",
    "#     try:\n",
    "#         persist_dictionary_file(character_dictionary, dict_file_path)\n",
    "#     except Exception as ex: \n",
    "#         print (\"The process couldn't complete.\")\n",
    "#         raise Exception(ex)\n",
    "#     return\n",
    "\n",
    "# if __name__ == '__main__':\n",
    "#     pass"
   ]
  },
  {
   "cell_type": "code",
   "execution_count": null,
   "metadata": {},
   "outputs": [],
   "source": [
    "from utilities import persist_dictionary_file\n",
    "\n",
    "def add_new_words(new_words):\n",
    "    \"\"\"Module to support custom new words into the dictionary\n",
    "    \"\"\"\n",
    "    # Fetch the dictionary\n",
    "    properties = 'environment.properties'\n",
    "    group = 'WorkingVariables'\n",
    "    environ_variables = fetch_working_variables(properties_var= properties, group_name= group)\n",
    "    dict_file_path = os.path.join(environ_variables['working.dir'], 'shelve_dict.pickle')\n",
    "    assert os.path.exists(dict_file_path), 'The dictionary file is missing!'\n",
    "    character_dictionary = fetch_dictionary_file(dict_file_path)\n",
    "    \n",
    "    for word in new_words:\n",
    "        if len(word):\n",
    "            chars = word.lower()\n",
    "            character_dictionary.update({chars: CharacterMap(chars)})\n",
    "    \n",
    "    try:\n",
    "        persist_dictionary_file(character_dictionary, dict_file_path)\n",
    "    except Exception as ex: \n",
    "        print (\"The process couldn't complete.\")\n",
    "        raise Exception(ex)\n",
    "    return"
   ]
  },
  {
   "cell_type": "code",
   "execution_count": null,
   "metadata": {},
   "outputs": [],
   "source": [
    "help(persist_dictionary_file)"
   ]
  },
  {
   "cell_type": "code",
   "execution_count": null,
   "metadata": {},
   "outputs": [],
   "source": []
  },
  {
   "cell_type": "code",
   "execution_count": null,
   "metadata": {},
   "outputs": [],
   "source": [
    "args"
   ]
  },
  {
   "cell_type": "code",
   "execution_count": null,
   "metadata": {},
   "outputs": [],
   "source": [
    "args"
   ]
  },
  {
   "cell_type": "code",
   "execution_count": null,
   "metadata": {},
   "outputs": [],
   "source": [
    "add_new_words([])"
   ]
  },
  {
   "cell_type": "code",
   "execution_count": null,
   "metadata": {},
   "outputs": [],
   "source": [
    "generate_anagrams('evil', -1)"
   ]
  },
  {
   "cell_type": "code",
   "execution_count": null,
   "metadata": {},
   "outputs": [],
   "source": []
  },
  {
   "cell_type": "code",
   "execution_count": null,
   "metadata": {},
   "outputs": [],
   "source": [
    "words_to_add = ['Zerowall', 'latentView']\n",
    "for word in words_to_add:\n",
    "    chars = word.lower()\n",
    "    "
   ]
  },
  {
   "cell_type": "code",
   "execution_count": null,
   "metadata": {},
   "outputs": [],
   "source": []
  },
  {
   "cell_type": "code",
   "execution_count": null,
   "metadata": {},
   "outputs": [],
   "source": []
  },
  {
   "cell_type": "code",
   "execution_count": null,
   "metadata": {},
   "outputs": [],
   "source": [
    "input_string = 'Zreowall' #loop\n",
    "\n",
    "print (generated_anagrams)"
   ]
  },
  {
   "cell_type": "code",
   "execution_count": null,
   "metadata": {},
   "outputs": [],
   "source": []
  },
  {
   "cell_type": "code",
   "execution_count": null,
   "metadata": {},
   "outputs": [],
   "source": []
  },
  {
   "cell_type": "code",
   "execution_count": null,
   "metadata": {},
   "outputs": [],
   "source": []
  },
  {
   "cell_type": "code",
   "execution_count": null,
   "metadata": {},
   "outputs": [],
   "source": [
    "fetch_working_variables(properties_var, group)"
   ]
  },
  {
   "cell_type": "code",
   "execution_count": null,
   "metadata": {},
   "outputs": [],
   "source": [
    "properties_var = ''\n",
    "group = ''"
   ]
  },
  {
   "cell_type": "code",
   "execution_count": null,
   "metadata": {},
   "outputs": [],
   "source": [
    "environ_variables = fetch_working_variables()\n",
    "dict_file_path = os.path.join(environ_variables['working.dir'], 'shelve_dict.pickle')\n",
    "\n",
    "character_dictionary = {}"
   ]
  },
  {
   "cell_type": "code",
   "execution_count": null,
   "metadata": {},
   "outputs": [],
   "source": [
    "lst = frozenset(words.words())\n",
    "i = 0\n",
    "for word in frozenset(words.words()):\n",
    "    chars = word.lower()\n",
    "    character_dictionary.update({chars: CharacterMap(chars)})\n",
    "\n"
   ]
  },
  {
   "cell_type": "code",
   "execution_count": null,
   "metadata": {},
   "outputs": [],
   "source": [
    "# load pickle\n",
    "with open(dict_file_path, 'rb') as handle:\n",
    "    character_dictionary = pickle.load(handle)"
   ]
  },
  {
   "cell_type": "code",
   "execution_count": null,
   "metadata": {},
   "outputs": [],
   "source": [
    "input_string = 'Zreowall' #loop\n",
    "reconstructed = CharacterMap(input_string)\n",
    "generated_anagrams = list()\n",
    "for letters in character_dictionary.keys():\n",
    "    if letters.isalpha() \\\n",
    "        and not letters == input_string \\\n",
    "        and not (len(letters) - len(input_string)) \\\n",
    "        and reconstructed.remove(character_dictionary.get(letters)):\n",
    "        generated_anagrams += letters,\n",
    "print (generated_anagrams)"
   ]
  },
  {
   "cell_type": "code",
   "execution_count": null,
   "metadata": {},
   "outputs": [],
   "source": [
    "# Add word to the dictionary\n",
    "words_to_add = ['Zerowall', 'latentView']\n",
    "for word in words_to_add:\n",
    "    chars = word.lower()\n",
    "    character_dictionary.update({chars: CharacterMap(chars)})"
   ]
  },
  {
   "cell_type": "code",
   "execution_count": null,
   "metadata": {},
   "outputs": [],
   "source": []
  },
  {
   "cell_type": "code",
   "execution_count": null,
   "metadata": {},
   "outputs": [],
   "source": []
  },
  {
   "cell_type": "code",
   "execution_count": null,
   "metadata": {},
   "outputs": [],
   "source": [
    "character_dictionary.get('loop'))"
   ]
  },
  {
   "cell_type": "code",
   "execution_count": null,
   "metadata": {},
   "outputs": [],
   "source": []
  },
  {
   "cell_type": "code",
   "execution_count": null,
   "metadata": {},
   "outputs": [],
   "source": []
  },
  {
   "cell_type": "code",
   "execution_count": null,
   "metadata": {},
   "outputs": [],
   "source": []
  },
  {
   "cell_type": "code",
   "execution_count": null,
   "metadata": {},
   "outputs": [],
   "source": []
  },
  {
   "cell_type": "code",
   "execution_count": null,
   "metadata": {},
   "outputs": [],
   "source": []
  },
  {
   "cell_type": "code",
   "execution_count": null,
   "metadata": {},
   "outputs": [],
   "source": [
    "dict_file_path = os.pimport pickle\n",
    "\n",
    "your_data = {'foo': 'bar'}\n",
    "\n",
    "# Store data (serialize)\n",
    "with open('filename.pickle', 'wb') as handle:\n",
    "    pickle.dump(your_data, handle, protocol=pickle.HIGHEST_PROTOCOL)\n",
    "\n",
    "# Load data (deserialize)\n",
    "with open('filename.pickle', 'rb') as handle:\n",
    "    unserialized_data = pickle.load(handle)\n",
    "ath.join(environ_variables['working.dir'], 'shelve_dict.pickle')\n",
    "if not os.path.exists(dict_file_path):\n",
    "    os.makedirs(dict_file_path)\n",
    "character_dictionary = {}"
   ]
  },
  {
   "cell_type": "code",
   "execution_count": null,
   "metadata": {},
   "outputs": [],
   "source": []
  },
  {
   "cell_type": "code",
   "execution_count": null,
   "metadata": {},
   "outputs": [],
   "source": [
    "CharacterMap('').len"
   ]
  },
  {
   "cell_type": "code",
   "execution_count": null,
   "metadata": {},
   "outputs": [],
   "source": [
    "reconstructed = CharacterMap(input_string.lower())"
   ]
  },
  {
   "cell_type": "code",
   "execution_count": null,
   "metadata": {},
   "outputs": [],
   "source": []
  },
  {
   "cell_type": "code",
   "execution_count": null,
   "metadata": {},
   "outputs": [],
   "source": [
    "generated_anagrams"
   ]
  },
  {
   "cell_type": "code",
   "execution_count": null,
   "metadata": {},
   "outputs": [],
   "source": [
    "anagrams = []\n",
    "for word in short_dict:\n",
    "    current_word = reconstructed.remove(character_dictionary.get(word))\n",
    "    if difference:\n",
    "        anagrams += word,\n",
    "        reconstructed = difference "
   ]
  },
  {
   "cell_type": "code",
   "execution_count": null,
   "metadata": {},
   "outputs": [],
   "source": [
    "len(reconstructed)"
   ]
  },
  {
   "cell_type": "code",
   "execution_count": null,
   "metadata": {},
   "outputs": [],
   "source": [
    "def generate_anagrams_recursive(reconstructed, current_map, generated_anagrams, character_dictionary):\n",
    "    #print (\"Current: \", reconstructed, type(reconstructed))\n",
    "    for word in current_map:\n",
    "        current_word = reconstructed.remove(character_dictionary.get(word))\n",
    "        if current_word:\n",
    "            generated_anagrams += word,\n",
    "            print (\"Got: \", word)\n",
    "            generate_anagrams_recursive(current_word, current_map, generated_anagrams, character_dictionary)\n",
    "            generated_anagrams.remove(word)"
   ]
  },
  {
   "cell_type": "code",
   "execution_count": null,
   "metadata": {},
   "outputs": [],
   "source": [
    "generated_anagrams = []\n",
    "generate_anagrams_recursive(reconstructed, short_dict, generated_anagrams, character_dictionary)"
   ]
  },
  {
   "cell_type": "code",
   "execution_count": null,
   "metadata": {},
   "outputs": [],
   "source": [
    "generated_anagrams"
   ]
  },
  {
   "cell_type": "code",
   "execution_count": null,
   "metadata": {},
   "outputs": [],
   "source": [
    "if max_words_in_anagram < 0:\n",
    "            raise ValueError(\"max_words_in_anagram must be >= 0\")\n",
    "        short_dictionary = list()\n",
    "        string_letters = LetterInventory(string)\n",
    "        anagram = list()\n",
    "        for word in self.dictionary_of_words:\n",
    "            if string_letters.subtract(self.words_to_inventories.get(word)) is not None:\n",
    "                short_dictionary.append(word)\n",
    "        self.generate_anagrams(string_letters, max_words_in_anagram, short_dictionary, anagram)"
   ]
  },
  {
   "cell_type": "code",
   "execution_count": null,
   "metadata": {},
   "outputs": [],
   "source": []
  },
  {
   "cell_type": "code",
   "execution_count": null,
   "metadata": {},
   "outputs": [],
   "source": []
  },
  {
   "cell_type": "code",
   "execution_count": null,
   "metadata": {},
   "outputs": [],
   "source": [
    "def generate_anagrams(self, remaining_letters, max_words_in_anagram, dictionary, anagram):\n",
    "        if remaining_letters.is_empty():\n",
    "            print(anagram)\n",
    "        elif max_words_in_anagram == 0 or len(anagram) < max_words_in_anagram:\n",
    "            for word in dictionary:\n",
    "                difference = remaining_letters.subtract(self.words_to_inventories.get(word))\n",
    "                if difference is not None:\n",
    "                    anagram.append(word)\n",
    "                    self.generate_anagrams(difference, max_words_in_anagram, dictionary, anagram)\n",
    "                    anagram.remove(word)"
   ]
  },
  {
   "cell_type": "code",
   "execution_count": null,
   "metadata": {},
   "outputs": [],
   "source": []
  },
  {
   "cell_type": "code",
   "execution_count": null,
   "metadata": {},
   "outputs": [],
   "source": []
  },
  {
   "cell_type": "code",
   "execution_count": null,
   "metadata": {},
   "outputs": [],
   "source": []
  },
  {
   "cell_type": "code",
   "execution_count": null,
   "metadata": {},
   "outputs": [],
   "source": [
    "short_dict"
   ]
  },
  {
   "cell_type": "code",
   "execution_count": null,
   "metadata": {},
   "outputs": [],
   "source": [
    "['pool', 'o', 'pol', 'lo', 'p', 'lop', 'l', 'polo', 'po', 'loop', 'loo']"
   ]
  },
  {
   "cell_type": "code",
   "execution_count": null,
   "metadata": {},
   "outputs": [],
   "source": []
  },
  {
   "cell_type": "code",
   "execution_count": null,
   "metadata": {},
   "outputs": [],
   "source": []
  },
  {
   "cell_type": "code",
   "execution_count": null,
   "metadata": {},
   "outputs": [],
   "source": [
    "input = 'olop'\n",
    "required = ''.join(sorted(input))\n",
    "add = []\n",
    "for word in words.words():\n",
    "    if ''.join(sorted(word)) == required:\n",
    "        add += word,"
   ]
  },
  {
   "cell_type": "code",
   "execution_count": null,
   "metadata": {},
   "outputs": [],
   "source": [
    "add"
   ]
  },
  {
   "cell_type": "code",
   "execution_count": null,
   "metadata": {},
   "outputs": [],
   "source": [
    "sorted('polo')"
   ]
  },
  {
   "cell_type": "code",
   "execution_count": null,
   "metadata": {},
   "outputs": [],
   "source": []
  },
  {
   "cell_type": "code",
   "execution_count": null,
   "metadata": {},
   "outputs": [],
   "source": []
  },
  {
   "cell_type": "code",
   "execution_count": null,
   "metadata": {},
   "outputs": [],
   "source": [
    "print(reconstructed)"
   ]
  },
  {
   "cell_type": "code",
   "execution_count": null,
   "metadata": {},
   "outputs": [],
   "source": [
    "len(reconstructed)"
   ]
  },
  {
   "cell_type": "code",
   "execution_count": null,
   "metadata": {},
   "outputs": [],
   "source": []
  },
  {
   "cell_type": "code",
   "execution_count": null,
   "metadata": {},
   "outputs": [],
   "source": []
  },
  {
   "cell_type": "code",
   "execution_count": null,
   "metadata": {},
   "outputs": [],
   "source": []
  },
  {
   "cell_type": "code",
   "execution_count": null,
   "metadata": {},
   "outputs": [],
   "source": []
  },
  {
   "cell_type": "code",
   "execution_count": null,
   "metadata": {},
   "outputs": [],
   "source": [
    "def print(self, string, max_words_in_anagram):\n",
    "        if max_words_in_anagram < 0:\n",
    "            raise ValueError(\"max_words_in_anagram must be >= 0\")\n",
    "        short_dictionary = list()\n",
    "        string_letters = LetterInventory(string)\n",
    "        anagram = list()\n",
    "        for word in self.dictionary_of_words:\n",
    "            if string_letters.subtract(self.words_to_inventories.get(word)) is not None:\n",
    "                short_dictionary.append(word)\n",
    "        self.generate_anagrams(string_letters, max_words_in_anagram, short_dictionary, anagram)\n",
    "\n",
    "    # post : finishes generating and prints all the possible anagrams that can be\n",
    "        # created based on the letters remaining and the given dictionary of words,\n",
    "        # by searching for and adding new the words to the word in the anagram so\n",
    "        # far. Anagrams must contain less words or have an equal number of words to\n",
    "        # the given max, however, max of 0 means that there is no maximum number of\n",
    "        # words in the anagram.\n",
    "    def generate_anagrams(self, remaining_letters, max_words_in_anagram, dictionary, anagram):\n",
    "        if remaining_letters.is_empty():\n",
    "            print(anagram)\n",
    "        elif max_words_in_anagram == 0 or len(anagram) < max_words_in_anagram:\n",
    "            for word in dictionary:\n",
    "                difference = remaining_letters.subtract(self.words_to_inventories.get(word))\n",
    "                if difference is not None:\n",
    "                    anagram.append(word)\n",
    "                    self.generate_anagrams(difference, max_words_in_anagram, dictionary, anagram)\n",
    "                    anagram.remove(word)"
   ]
  },
  {
   "cell_type": "code",
   "execution_count": null,
   "metadata": {},
   "outputs": [],
   "source": [
    "import pickle\n",
    "\n",
    "your_data = {'foo': 'bar'}\n",
    "\n",
    "# Store data (serialize)\n",
    "with open('filename.pickle', 'wb') as handle:\n",
    "    pickle.dump(your_data, handle, protocol=pickle.HIGHEST_PROTOCOL)\n",
    "\n",
    "# Load data (deserialize)\n",
    "with open('filename.pickle', 'rb') as handle:\n",
    "    unserialized_data = pickle.load(handle)\n"
   ]
  },
  {
   "cell_type": "code",
   "execution_count": null,
   "metadata": {},
   "outputs": [],
   "source": []
  },
  {
   "cell_type": "code",
   "execution_count": null,
   "metadata": {},
   "outputs": [],
   "source": []
  },
  {
   "cell_type": "code",
   "execution_count": null,
   "metadata": {},
   "outputs": [],
   "source": [
    "character_dictionary.dump(dict_file_path)"
   ]
  },
  {
   "cell_type": "code",
   "execution_count": null,
   "metadata": {},
   "outputs": [],
   "source": [
    "import configparser\n",
    "config = configparser.RawConfigParser()\n",
    "config.read('environment.properties')\n",
    "dict(config.items('WorkingVariables'))"
   ]
  },
  {
   "cell_type": "code",
   "execution_count": null,
   "metadata": {},
   "outputs": [],
   "source": []
  },
  {
   "cell_type": "code",
   "execution_count": null,
   "metadata": {},
   "outputs": [],
   "source": [
    "environ_variables = fetch_working_variables()"
   ]
  },
  {
   "cell_type": "code",
   "execution_count": null,
   "metadata": {},
   "outputs": [],
   "source": [
    "environ_variables"
   ]
  },
  {
   "cell_type": "code",
   "execution_count": null,
   "metadata": {},
   "outputs": [],
   "source": []
  },
  {
   "cell_type": "code",
   "execution_count": null,
   "metadata": {},
   "outputs": [],
   "source": []
  },
  {
   "cell_type": "code",
   "execution_count": null,
   "metadata": {},
   "outputs": [],
   "source": []
  },
  {
   "cell_type": "code",
   "execution_count": null,
   "metadata": {},
   "outputs": [],
   "source": []
  },
  {
   "cell_type": "code",
   "execution_count": null,
   "metadata": {},
   "outputs": [],
   "source": [
    "self.words_to_inventories = dict()\n",
    "        self.dictionary_of_words = dictionary\n",
    "        for word in dictionary:\n",
    "            self.words_to_inventories.update({word: LetterInventory(word)})"
   ]
  },
  {
   "cell_type": "code",
   "execution_count": null,
   "metadata": {},
   "outputs": [],
   "source": [
    " dict_file_path = os.path.join(working_dir, 'shelve_dict')\n",
    "    if os.path.exists(tmp_dir):\n",
    "        shutil.rmtree(tmp_dir)\n",
    "    os.makedirs(tmp_dir)\n",
    "    # Registering the shelve in the working directory\n",
    "    chunk_activities = shelve.open(dict_file_path)"
   ]
  },
  {
   "cell_type": "code",
   "execution_count": null,
   "metadata": {},
   "outputs": [],
   "source": [
    "dict_file_path = os.path.join(working_dir, 'anagrams')"
   ]
  },
  {
   "cell_type": "code",
   "execution_count": null,
   "metadata": {},
   "outputs": [],
   "source": []
  },
  {
   "cell_type": "code",
   "execution_count": null,
   "metadata": {},
   "outputs": [],
   "source": [
    "character_dictionary"
   ]
  },
  {
   "cell_type": "code",
   "execution_count": null,
   "metadata": {},
   "outputs": [],
   "source": []
  },
  {
   "cell_type": "code",
   "execution_count": null,
   "metadata": {},
   "outputs": [],
   "source": []
  },
  {
   "cell_type": "code",
   "execution_count": null,
   "metadata": {},
   "outputs": [],
   "source": []
  },
  {
   "cell_type": "code",
   "execution_count": null,
   "metadata": {},
   "outputs": [],
   "source": []
  },
  {
   "cell_type": "code",
   "execution_count": null,
   "metadata": {},
   "outputs": [],
   "source": []
  },
  {
   "cell_type": "code",
   "execution_count": null,
   "metadata": {},
   "outputs": [],
   "source": []
  },
  {
   "cell_type": "code",
   "execution_count": null,
   "metadata": {},
   "outputs": [],
   "source": [
    "mapper = [0, 1, 0, 0, 1, 0, 0, 0, 1, 0, 0, 0, 0, 0, 0, 0, 0, 1, 1, 0, 0, 0, 0, 0, 0, 0]\n",
    "start = ord('a')\n",
    "''.join(map(lambda sequence: chr(sequence[0] + start) * sequence[1], zip(range(len(mapper)), mapper)))"
   ]
  },
  {
   "cell_type": "code",
   "execution_count": null,
   "metadata": {},
   "outputs": [],
   "source": [
    "for idx, frequency in zip(range(len(mapper)), mapper):\n",
    "    print (idx, frequency)"
   ]
  },
  {
   "cell_type": "code",
   "execution_count": null,
   "metadata": {},
   "outputs": [],
   "source": [
    "CharacterMap('biers').mapper"
   ]
  },
  {
   "cell_type": "code",
   "execution_count": null,
   "metadata": {},
   "outputs": [],
   "source": [
    "self.mapper"
   ]
  },
  {
   "cell_type": "code",
   "execution_count": null,
   "metadata": {},
   "outputs": [],
   "source": [
    " def __str__(self):\n",
    "    result = \"[\"\n",
    "    i = 0\n",
    "    chr(idx + self.start)for idx, frequency in enumerate(self.mapper)\n",
    "    for letter_count in self.counts:\n",
    "        result += chr(i + ord('a')) * letter_count\n",
    "        i += 1\n",
    "    return result + \"]\""
   ]
  },
  {
   "cell_type": "code",
   "execution_count": null,
   "metadata": {},
   "outputs": [],
   "source": [
    "CharacterMap('birse').counts"
   ]
  },
  {
   "cell_type": "code",
   "execution_count": null,
   "metadata": {},
   "outputs": [],
   "source": [
    "data = 'birse'\n",
    "size = 0\n",
    "counts = []\n",
    "i = 1\n",
    "while i <= 26:\n",
    "    counts.append(0)\n",
    "    i += 1\n",
    "for ch in data:\n",
    "    ch = ch.lower()\n",
    "    counts[ord(ch) - ord('a')] += 1\n",
    "    size += 1\n",
    "counts"
   ]
  },
  {
   "cell_type": "code",
   "execution_count": null,
   "metadata": {},
   "outputs": [],
   "source": []
  },
  {
   "cell_type": "code",
   "execution_count": null,
   "metadata": {},
   "outputs": [],
   "source": []
  },
  {
   "cell_type": "code",
   "execution_count": null,
   "metadata": {},
   "outputs": [],
   "source": []
  },
  {
   "cell_type": "code",
   "execution_count": null,
   "metadata": {},
   "outputs": [],
   "source": []
  },
  {
   "cell_type": "code",
   "execution_count": null,
   "metadata": {},
   "outputs": [],
   "source": [
    "LetterInventory"
   ]
  },
  {
   "cell_type": "code",
   "execution_count": null,
   "metadata": {},
   "outputs": [],
   "source": []
  },
  {
   "cell_type": "code",
   "execution_count": null,
   "metadata": {},
   "outputs": [],
   "source": [
    "dictionary = [line.rstrip('\\n') for line in open(filename)]\n",
    "self.words_to_inventories = dict()\n",
    "        self.dictionary_of_words = dictionary\n",
    "        for word in dictionary:\n",
    "            self.words_to_inventories.update({word: LetterInventory(word)})"
   ]
  },
  {
   "cell_type": "code",
   "execution_count": null,
   "metadata": {},
   "outputs": [],
   "source": []
  },
  {
   "cell_type": "code",
   "execution_count": null,
   "metadata": {},
   "outputs": [],
   "source": []
  },
  {
   "cell_type": "code",
   "execution_count": null,
   "metadata": {},
   "outputs": [],
   "source": []
  },
  {
   "cell_type": "code",
   "execution_count": null,
   "metadata": {},
   "outputs": [],
   "source": [
    "from letter_inventory import LetterInventory\n",
    "import os.path\n",
    "\n",
    "\"\"\"\n",
    "Class AnagramSolver allows one to generate anagrams, based off a given\n",
    "input and dictionary. An anagram solver is constructed using a dictionary\n",
    "of words. An anagram solver can also generate and print anagrams based\n",
    "of a given input, by scrambling all the letters in the input and making\n",
    "combinations of words (an anagram) from them using the dictionary of words.\n",
    "One can also specify the max number of words they want the anagrams to be.\n",
    "\"\"\"\n",
    "\n",
    "\n",
    "class AnagramGenerator:\n",
    "\n",
    "    # pre  : dictionary is not empty and contains no duplicates\n",
    "    # post : constructs an anagram solver with given list of words and\n",
    "        # stores he words, representing the dictionary of words the anagrams\n",
    "        # are going to be generated from, a corresponding letter inventory\n",
    "        # for each words is also created and stored\n",
    "    def __init__(self, dictionary):\n",
    "        self.words_to_inventories = dict()\n",
    "        self.dictionary_of_words = dictionary\n",
    "        for word in dictionary:\n",
    "            self.words_to_inventories.update({word: LetterInventory(word)})\n",
    "\n",
    "    # pre: max >= 0 (raises ValueError if not)\n",
    "    # post : prints to System.out all the possible anagrams (combinations of\n",
    "        # words with the same letters as the given input) that can been created using\n",
    "        # the stored dictionary of words, anagrams must contain less words or have\n",
    "        # an equal number of words to the given max, however, max of 0 represents\n",
    "        # no maximum number of words in the anagram.\n",
    "    def print(self, string, max_words_in_anagram):\n",
    "        if max_words_in_anagram < 0:\n",
    "            raise ValueError(\"max_words_in_anagram must be >= 0\")\n",
    "        short_dictionary = list()\n",
    "        string_letters = LetterInventory(string)\n",
    "        anagram = list()\n",
    "        for word in self.dictionary_of_words:\n",
    "            if string_letters.subtract(self.words_to_inventories.get(word)) is not None:\n",
    "                short_dictionary.append(word)\n",
    "        self.generate_anagrams(string_letters, max_words_in_anagram, short_dictionary, anagram)\n",
    "\n",
    "    # post : finishes generating and prints all the possible anagrams that can be\n",
    "        # created based on the letters remaining and the given dictionary of words,\n",
    "        # by searching for and adding new the words to the word in the anagram so\n",
    "        # far. Anagrams must contain less words or have an equal number of words to\n",
    "        # the given max, however, max of 0 means that there is no maximum number of\n",
    "        # words in the anagram.\n",
    "    def generate_anagrams(self, remaining_letters, max_words_in_anagram, dictionary, anagram):\n",
    "        if remaining_letters.is_empty():\n",
    "            print(anagram)\n",
    "        elif max_words_in_anagram == 0 or len(anagram) < max_words_in_anagram:\n",
    "            for word in dictionary:\n",
    "                difference = remaining_letters.subtract(self.words_to_inventories.get(word))\n",
    "                if difference is not None:\n",
    "                    anagram.append(word)\n",
    "                    self.generate_anagrams(difference, max_words_in_anagram, dictionary, anagram)\n",
    "                    anagram.remove(word)\n",
    "\n",
    "\n",
    "# main prompts a user for a file and then creates an anagram generator to generate\n",
    "# anagrams\n",
    "def main():\n",
    "    print(\"Welcome to the anagram generator.\")\n",
    "    print(\"Enter the name of the dictionary file: \", end=\"\")\n",
    "    filename = input()\n",
    "    while not os.path.isfile(filename):\n",
    "        print(\"File Not Found. Enter the name of the dictionary file: \", end=\"\")\n",
    "        filename = input()\n",
    "    with open(filename):\n",
    "        dictionary = [line.rstrip('\\n') for line in open(filename)]\n",
    "    solver = AnagramGenerator(dictionary)\n",
    "\n",
    "    while True:\n",
    "        print()\n",
    "        print(\"phrase to scramble (return to quit): \", end=\"\")\n",
    "        phrase = input()\n",
    "        if len(phrase) == 0:\n",
    "            break\n",
    "        print(\"max words in anagram words to include (0 for no max): \", end=\"\")\n",
    "        max_words_in_anagram = input()\n",
    "        solver.print(phrase, int(max_words_in_anagram))\n",
    "\n",
    "if __name__ == \"__main__\":\n",
    "    main()"
   ]
  },
  {
   "cell_type": "code",
   "execution_count": null,
   "metadata": {},
   "outputs": [],
   "source": []
  },
  {
   "cell_type": "code",
   "execution_count": null,
   "metadata": {},
   "outputs": [],
   "source": [
    "if 5:\n",
    "    print ('Yes')"
   ]
  },
  {
   "cell_type": "code",
   "execution_count": null,
   "metadata": {},
   "outputs": [],
   "source": [
    "chr(97)"
   ]
  },
  {
   "cell_type": "code",
   "execution_count": null,
   "metadata": {},
   "outputs": [],
   "source": [
    "LetterInventory.num_letters"
   ]
  },
  {
   "cell_type": "code",
   "execution_count": null,
   "metadata": {},
   "outputs": [],
   "source": [
    " post: constructs and returns a new letter inventory that is\n",
    "    #       the result of subtracting another inventory from this inventory.\n",
    "    #       If any of the resulting counts in the new letter inventory would\n",
    "    #       be negative then null is returned.\n",
    "    def subtract(self, other_letter_inventory):\n",
    "        result = LetterInventory(\"\")\n",
    "        i = 0\n",
    "        while i < LetterInventory.num_letters:\n",
    "            letter = chr(i + ord('a'))\n",
    "            difference = self.get(letter) - other_letter_inventory.get(letter)\n",
    "            if difference < 0:\n",
    "                return None\n",
    "            result.set(letter, difference)\n",
    "            i += 1\n",
    "        return result"
   ]
  },
  {
   "cell_type": "code",
   "execution_count": null,
   "metadata": {},
   "outputs": [],
   "source": []
  },
  {
   "cell_type": "code",
   "execution_count": null,
   "metadata": {},
   "outputs": [],
   "source": [
    " def subtract(self, other_letter_inventory):\n",
    "        result = LetterInventory(\"\")\n",
    "        i = 0\n",
    "        while i < LetterInventory.num_letters:\n",
    "            letter = chr(i + ord('a'))\n",
    "            difference = self.get(letter) - other_letter_inventory.get(letter)\n",
    "            if difference < 0:\n",
    "                return None\n",
    "            result.set(letter, difference)\n",
    "            i += 1\n",
    "        return result"
   ]
  },
  {
   "cell_type": "code",
   "execution_count": null,
   "metadata": {},
   "outputs": [],
   "source": []
  },
  {
   "cell_type": "code",
   "execution_count": null,
   "metadata": {},
   "outputs": [],
   "source": [
    "# post: constructs and returns a new letter inventory that is the result\n",
    "    #       of adding this letter inventory to another given letter inventory\n",
    "    def add(self, other_letter_inventory):\n",
    "        result = LetterInventory(\"\")\n",
    "        i = 0\n",
    "        while i < LetterInventory.num_letters:\n",
    "            letter = chr(i + ord('a'))\n",
    "            together = self.get(letter) + other_letter_inventory.get(letter)\n",
    "            result.set(letter, together)\n",
    "            i += 1\n",
    "        return result\n",
    "\n",
    "    # post: constructs and returns a new letter inventory that is"
   ]
  },
  {
   "cell_type": "code",
   "execution_count": null,
   "metadata": {},
   "outputs": [],
   "source": []
  },
  {
   "cell_type": "code",
   "execution_count": null,
   "metadata": {},
   "outputs": [],
   "source": [
    "def add(self, other_letter_inventory):\n",
    "        result = LetterInventory(\"\")\n",
    "        i = 0\n",
    "        while i < LetterInventory.num_letters:\n",
    "            letter = chr(i + ord('a'))\n",
    "            together = self.get(letter) + other_letter_inventory.get(letter)\n",
    "            result.set(letter, together)\n",
    "            i += 1\n",
    "        return result"
   ]
  },
  {
   "cell_type": "code",
   "execution_count": null,
   "metadata": {},
   "outputs": [],
   "source": []
  },
  {
   "cell_type": "code",
   "execution_count": null,
   "metadata": {},
   "outputs": [],
   "source": [
    "# pre : letter is an alphabetic lowercase letter && value >= 0 (raises\n",
    "    #       ValueError if not)\n",
    "    # post: sets the count of the given letter to the given value\n",
    "    def set(self, letter, value):\n",
    "        letter = letter.lower()\n",
    "        if not LetterInventory.is_lowercase_letter(letter) or value < 0:\n",
    "            raise ValueError(\"letter must be an alphabetical letter and value must be >= 0\")\n",
    "        original_value = self.counts[ord(letter) - ord('a')]\n",
    "        self.counts[ord(letter) - ord('a')] = value\n",
    "        self.size += (value - original_value)"
   ]
  },
  {
   "cell_type": "code",
   "execution_count": null,
   "metadata": {},
   "outputs": [],
   "source": []
  },
  {
   "cell_type": "code",
   "execution_count": null,
   "metadata": {},
   "outputs": [],
   "source": [
    "ord('c') - ord('a')"
   ]
  },
  {
   "cell_type": "code",
   "execution_count": null,
   "metadata": {},
   "outputs": [],
   "source": []
  },
  {
   "cell_type": "code",
   "execution_count": null,
   "metadata": {},
   "outputs": [],
   "source": [
    "data = 'smithi'\n",
    "size = 0\n",
    "counts = []\n",
    "i = 1\n",
    "while i <= 26:\n",
    "    counts.append(0)\n",
    "    i += 1\n",
    "counts\n",
    "\n",
    "for ch in data:\n",
    "    ch = ch.lower()\n",
    "    counts[ord(ch) - ord('a')] += 1\n",
    "    size += 1"
   ]
  },
  {
   "cell_type": "code",
   "execution_count": null,
   "metadata": {},
   "outputs": [],
   "source": [
    "counts"
   ]
  },
  {
   "cell_type": "code",
   "execution_count": null,
   "metadata": {},
   "outputs": [],
   "source": [
    "len(counts)"
   ]
  },
  {
   "cell_type": "code",
   "execution_count": null,
   "metadata": {},
   "outputs": [],
   "source": [
    "[0] * 26"
   ]
  },
  {
   "cell_type": "code",
   "execution_count": null,
   "metadata": {},
   "outputs": [],
   "source": []
  },
  {
   "cell_type": "code",
   "execution_count": null,
   "metadata": {},
   "outputs": [],
   "source": [
    "print (CharacterMap('biers'))"
   ]
  },
  {
   "cell_type": "code",
   "execution_count": null,
   "metadata": {},
   "outputs": [],
   "source": [
    "k1 = CharacterMap('biers')"
   ]
  },
  {
   "cell_type": "code",
   "execution_count": null,
   "metadata": {},
   "outputs": [],
   "source": [
    "for idx, frequency in k1.mapper:\n",
    "    print (idx, chr(idx+ord('a')))"
   ]
  },
  {
   "cell_type": "code",
   "execution_count": null,
   "metadata": {},
   "outputs": [],
   "source": [
    "def __str__(self):\n",
    "    result = \"[\"\n",
    "    i = 0\n",
    "    for letter_count in self.mapper:\n",
    "        result += chr(i + self.start) * self.bound\n",
    "        i += 1\n",
    "    return result + \"]\""
   ]
  },
  {
   "cell_type": "code",
   "execution_count": null,
   "metadata": {},
   "outputs": [],
   "source": [
    "print(LetterInventory('biers'))"
   ]
  },
  {
   "cell_type": "code",
   "execution_count": null,
   "metadata": {},
   "outputs": [],
   "source": [
    "class LetterInventory:\n",
    "    num_letters = 26  # number of letters in english alphabet\n",
    "\n",
    "    # pre : String data is not None\n",
    "    # post: constructs an letter inventory which stores the counts of the\n",
    "    #       letters of the given string\n",
    "    def __init__(self, data):\n",
    "        self.size = 0\n",
    "        self.counts = []\n",
    "        i = 1\n",
    "        while i <= 26:\n",
    "            self.counts.append(0)\n",
    "            i += 1\n",
    "        for ch in data:\n",
    "            ch = ch.lower()\n",
    "            if LetterInventory.is_lowercase_letter(ch):\n",
    "                self.counts[ord(ch) - ord('a')] += 1\n",
    "                self.size += 1\n",
    "        print (self.counts)\n",
    "\n",
    "    # post: returns True if the given character is an alphabetic lowercase letter,\n",
    "    #      False otherwise\n",
    "    @staticmethod\n",
    "    def is_lowercase_letter(ch):\n",
    "        return 0 <= ord(ch) - ord('a') < LetterInventory.num_letters\n",
    "\n",
    "    # post: returns true if all the counts of the letters are zero,\n",
    "    #       false otherwise\n",
    "    def is_empty(self):\n",
    "        return self.size == 0\n",
    "\n",
    "    # pre : given letter is an alphabetic letter (raises\n",
    "    #       ValueError if not)\n",
    "    # post: returns the count of the given letter in the inventory\n",
    "    def get(self, letter):\n",
    "        letter = letter.lower()\n",
    "        if not LetterInventory.is_lowercase_letter(letter):\n",
    "            raise ValueError(\"letter must be an alphabetical letter\")\n",
    "        return self.counts[ord(letter) - ord('a')]\n",
    "\n",
    "    # pre : letter is an alphabetic lowercase letter && value >= 0 (raises\n",
    "    #       ValueError if not)\n",
    "    # post: sets the count of the given letter to the given value\n",
    "    def set(self, letter, value):\n",
    "        letter = letter.lower()\n",
    "        if not LetterInventory.is_lowercase_letter(letter) or value < 0:\n",
    "            raise ValueError(\"letter must be an alphabetical letter and value must be >= 0\")\n",
    "        original_value = self.counts[ord(letter) - ord('a')]\n",
    "        self.counts[ord(letter) - ord('a')] = value\n",
    "        self.size += (value - original_value)\n",
    "\n",
    "    # post: constructs and returns a new letter inventory that is the result\n",
    "    #       of adding this letter inventory to another given letter inventory\n",
    "    def add(self, other_letter_inventory):\n",
    "        result = LetterInventory(\"\")\n",
    "        i = 0\n",
    "        while i < LetterInventory.num_letters:\n",
    "            letter = chr(i + ord('a'))\n",
    "            together = self.get(letter) + other_letter_inventory.get(letter)\n",
    "            result.set(letter, together)\n",
    "            i += 1\n",
    "        return result\n",
    "\n",
    "    # post: constructs and returns a new letter inventory that is\n",
    "    #       the result of subtracting another inventory from this inventory.\n",
    "    #       If any of the resulting counts in the new letter inventory would\n",
    "    #       be negative then null is returned.\n",
    "    def subtract(self, other_letter_inventory):\n",
    "        result = LetterInventory(\"\")\n",
    "        i = 0\n",
    "        while i < LetterInventory.num_letters:\n",
    "            letter = chr(i + ord('a'))\n",
    "            difference = self.get(letter) - other_letter_inventory.get(letter)\n",
    "            if difference < 0:\n",
    "                return None\n",
    "            result.set(letter, difference)\n",
    "            i += 1\n",
    "        return result\n",
    "\n",
    "    # post: returns a String representation of the inventory with lowercase\n",
    "    #       letters based of the count of each letter\n",
    "    def __str__(self):\n",
    "        result = \"[\"\n",
    "        i = 0\n",
    "        for letter_count in self.counts:\n",
    "            result += chr(i + ord('a')) * letter_count\n",
    "            i += 1\n",
    "        return result + \"]\""
   ]
  }
 ],
 "metadata": {
  "kernelspec": {
   "display_name": "Python 3",
   "language": "python",
   "name": "python3"
  },
  "language_info": {
   "codemirror_mode": {
    "name": "ipython",
    "version": 3
   },
   "file_extension": ".py",
   "mimetype": "text/x-python",
   "name": "python",
   "nbconvert_exporter": "python",
   "pygments_lexer": "ipython3",
   "version": "3.7.6"
  }
 },
 "nbformat": 4,
 "nbformat_minor": 4
}
