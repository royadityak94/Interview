{
 "cells": [
  {
   "cell_type": "code",
   "execution_count": 1,
   "metadata": {},
   "outputs": [],
   "source": [
    "import pandas as pd\n",
    "from selenium import webdriver\n",
    "from bs4 import BeautifulSoup\n",
    "import csv\n",
    "import os\n",
    "import re\n",
    "from dateutil.parser import parse\n"
   ]
  },
  {
   "cell_type": "code",
   "execution_count": null,
   "metadata": {},
   "outputs": [],
   "source": []
  },
  {
   "cell_type": "code",
   "execution_count": null,
   "metadata": {},
   "outputs": [],
   "source": []
  },
  {
   "cell_type": "code",
   "execution_count": 23,
   "metadata": {},
   "outputs": [],
   "source": [
    "TRANSACTION_FILE_PATH = 'logs/transaction.csv'\n",
    "CERTIFICATION_FILE_PATH = 'logs/certificate.csv'"
   ]
  },
  {
   "cell_type": "code",
   "execution_count": 24,
   "metadata": {},
   "outputs": [],
   "source": [
    "def get_particular_unique_rows(file_path, index):\n",
    "    rows = []\n",
    "    with open(file_path) as csvfile:\n",
    "        data = csv.reader(csvfile, delimiter=',')\n",
    "        for row in data:\n",
    "            if row[index] not in rows:\n",
    "                rows.append(row[index])\n",
    "    return rows"
   ]
  },
  {
   "cell_type": "code",
   "execution_count": 28,
   "metadata": {},
   "outputs": [],
   "source": [
    "existing_certificates_in_transaction = set(get_particular_unique_rows(TRANSACTION_FILE_PATH, 11))\n",
    "existing_certificates_in_certificates = set(get_particular_unique_rows(CERTIFICATION_FILE_PATH, 0))\n",
    "\n",
    "new_certificates = existing_certificates_in_transaction - existing_certificates_in_certificates"
   ]
  },
  {
   "cell_type": "code",
   "execution_count": 26,
   "metadata": {},
   "outputs": [
    {
     "data": {
      "text/plain": [
       "['27306384']"
      ]
     },
     "execution_count": 26,
     "metadata": {},
     "output_type": "execute_result"
    }
   ],
   "source": [
    "set(existing_certificates_in_transaction) - existing_certificates_in_certificates"
   ]
  },
  {
   "cell_type": "code",
   "execution_count": 31,
   "metadata": {},
   "outputs": [
    {
     "name": "stdout",
     "output_type": "stream",
     "text": [
      "27306384\n"
     ]
    }
   ],
   "source": [
    "for x in new_certificates:\n",
    "    print (x)"
   ]
  },
  {
   "cell_type": "code",
   "execution_count": null,
   "metadata": {},
   "outputs": [],
   "source": [
    "topps-magic-photos-all-american-basketball,manhattan,$71.00,633276,7/25/2017,71.00,6,362042965071,eBay,probstein123,Auction,27306384,Most Recent Price,1948 Topps Magic Photos All-American Basketball Manhattan #6B All American Basketball,https://www.psacard.com/auctionprices/basketball-cards/1948-topps-magic-photos-all-american-basketball/manhattan/summary/633276,1,basketball_cards\n",
    "topps-magic-photos-all-american-basketball,manhattan,$71.00,633276,7/25/2017,71.00,6,362042965071,eBay,probstein123,Auction,27306384,Average Price,1948 Topps Magic Photos All-American Basketball Manhattan #6B All American Basketball,https://www.psacard.com/auctionprices/basketball-cards/1948-topps-magic-photos-all-american-basketball/manhattan/summary/633276,1,basketball_cards"
   ]
  },
  {
   "cell_type": "code",
   "execution_count": null,
   "metadata": {},
   "outputs": [],
   "source": []
  },
  {
   "cell_type": "code",
   "execution_count": null,
   "metadata": {},
   "outputs": [],
   "source": []
  },
  {
   "cell_type": "code",
   "execution_count": 16,
   "metadata": {},
   "outputs": [],
   "source": [
    "def load_driver(SELENIUM_EXECUTABLE_PATH=r'/mnt/c/Users/adity/Downloads/Chrome/geckodriver-v0.27.0-win64/geckodriver.exe'):\n",
    "    driver = webdriver.Firefox(executable_path=SELENIUM_EXECUTABLE_PATH)\n",
    "    return driver\n",
    "\n",
    "def save_to_csv(data, SAVE_PATH, MODE):\n",
    "    if not os.path.exists(SAVE_PATH.split('/')[0]):\n",
    "        os.makedirs(SAVE_PATH.split('/')[0])\n",
    "\n",
    "    fileWriter = csv.DictWriter(open(SAVE_PATH, MODE), data[0].keys(), delimiter=',', quotechar='\"', quoting=csv.QUOTE_MINIMAL)\n",
    "    fileWriter.writerows(data)\n",
    "    \n",
    "def validate_date(date):\n",
    "    try:\n",
    "        parse(date)\n",
    "        return True\n",
    "    except ValueError:\n",
    "        return False\n",
    "    \n",
    "def format_registry_url(str_msg):\n",
    "    try:\n",
    "        url_ref = ''\n",
    "        if 'href' in str_msg:\n",
    "            href_subset = str_msg[str_msg.index('href')+6:]\n",
    "            url_ref = '/'.join(BASE_PATH.split('/')[:-1]) + href_subset[:href_subset.index('\">')]\n",
    "        return url_ref\n",
    "    except:\n",
    "        return None\n",
    "    \n",
    "def persist_certification_details(certificate_id, SAVE_PATH='logs/certificate.csv'):\n",
    "    BASE_PATH='https://www.psacard.com/cert'\n",
    "    url = '/'.join([BASE_PATH, certificate_id])\n",
    "    driver = load_driver()\n",
    "    driver.get(url)\n",
    "    soup=BeautifulSoup(driver.page_source)\n",
    "    \n",
    "    certificate_details = soup.find_all(\"div\", attrs={\"class\": \"cert-container\"})[0].findAll('tr')[2:]\n",
    "    certificate_map = {'certificate_number': certificate_id}\n",
    "    certificate_map['reverse_cert_number'] = certificate_details[0].contents[-1].contents[0]\n",
    "    certificate_map['year'] = certificate_details[1].contents[-1].contents[0]\n",
    "    certificate_map['brand'] = certificate_details[2].contents[-1].contents[0]\n",
    "    certificate_map['sport'] = certificate_details[3].contents[-1].contents[0]\n",
    "    certificate_map['card_number'] = certificate_details[4].contents[-1].contents[0]\n",
    "    certificate_map['player'] = certificate_details[5].contents[-1].contents[0]\n",
    "    certificate_map['variety_or_pedigree'] = certificate_details[6].contents[-1].contents[0]\n",
    "    certificate_map['grade'] = certificate_details[7].contents[-1].contents[0]\n",
    "    \n",
    "    # Adding PSA Auction Prices Realized\n",
    "    realized_auction_prices = soup.find_all('table', attrs={\"class\": \"apritem-results\"})[0].findAll('tr')\n",
    "    date = realized_auction_prices[0].contents[-1].contents[0]\n",
    "    if validate_date(date):\n",
    "        certificate_map['date'] = date\n",
    "        certificate_map['price'] = realized_auction_prices[1].contents[-1].contents[0]\n",
    "        certificate_map['auction_house'] = realized_auction_prices[2].contents[-1].contents[0]\n",
    "        certificate_map['lot_number'] = realized_auction_prices[3].contents[-1].contents[0]\n",
    "    else:\n",
    "        certificate_map['date'] = certificate_map['price'] = certificate_map['auction_house'] = certificate_map['lot_number'] = None\n",
    "\n",
    "    # Adding current PSA registry sets\n",
    "    registry_sets = soup.find_all('div', attrs={\"class\": \"col-xs-12\"})\n",
    "    certificate_map['registry_set_msg'] = str(soup.find_all('p')[3].contents)\n",
    "    certificate_map['registry_set_url'] = format_registry_url(certificate_map['registry_set_msg'])\n",
    "    certificate_map['population'] = registry_sets[0].find('span').contents[0]\n",
    "    certificate_map['population_w_equal'] = registry_sets[1].find('span').contents[0]\n",
    "    certificate_map['population_higher'] = registry_sets[2].find('span').contents[0]\n",
    "    \n",
    "    print (certificate_map)\n",
    "    \n",
    "    # Save to CSV\n",
    "    save_to_csv([certificate_map], SAVE_PATH, 'a')\n",
    "    return"
   ]
  },
  {
   "cell_type": "code",
   "execution_count": null,
   "metadata": {},
   "outputs": [],
   "source": [
    "certificate_id = '41599722'\n",
    "BASE_PATH='https://www.psacard.com/cert'\n",
    "url = '/'.join([BASE_PATH, certificate_id])\n",
    "driver = load_driver()\n",
    "driver.get(url)\n",
    "soup=BeautifulSoup(driver.page_source)"
   ]
  },
  {
   "cell_type": "code",
   "execution_count": null,
   "metadata": {},
   "outputs": [],
   "source": []
  },
  {
   "cell_type": "code",
   "execution_count": 17,
   "metadata": {},
   "outputs": [
    {
     "name": "stdout",
     "output_type": "stream",
     "text": [
      "{'certificate_number': '41599722', 'reverse_cert_number': 'Yes', 'year': '1948', 'brand': 'TOPPS MAGIC PHOTOS ALL-AMERICAN BASKETBALL', 'sport': 'BASKETBALL CARDS', 'card_number': '2B', 'player': 'MURRAY WIER', 'variety_or_pedigree': 'ALL AMERICAN BASKETBALL', 'grade': 'EX 5', 'date': '12/23/2018', 'price': '$10.61', 'auction_house': 'eBay (just_collect)', 'lot_number': <a href=\"/auctionprices/auction/2200741\" target=\"_blank\">382680512913</a>, 'registry_set_msg': \"['According to the PSA database, the requested certification number is defined as the following:']\", 'registry_set_url': '', 'population': '4', 'population_w_equal': '0', 'population_higher': '2'}\n"
     ]
    }
   ],
   "source": [
    "persist_certification_details('41599722')"
   ]
  },
  {
   "cell_type": "code",
   "execution_count": null,
   "metadata": {},
   "outputs": [],
   "source": [
    "certificate_map"
   ]
  },
  {
   "cell_type": "code",
   "execution_count": null,
   "metadata": {},
   "outputs": [],
   "source": [
    "m1 = str(soup.find_all('p')[3].contents)\n",
    "m1"
   ]
  },
  {
   "cell_type": "code",
   "execution_count": null,
   "metadata": {},
   "outputs": [],
   "source": [
    "\n",
    "    \n"
   ]
  },
  {
   "cell_type": "code",
   "execution_count": null,
   "metadata": {},
   "outputs": [],
   "source": [
    "format_registry_message(m1)"
   ]
  },
  {
   "cell_type": "code",
   "execution_count": null,
   "metadata": {},
   "outputs": [],
   "source": [
    "'/'.join(BASE_PATH.split('/')[:-1])"
   ]
  }
 ],
 "metadata": {
  "kernelspec": {
   "display_name": "Python 3",
   "language": "python",
   "name": "python3"
  },
  "language_info": {
   "codemirror_mode": {
    "name": "ipython",
    "version": 3
   },
   "file_extension": ".py",
   "mimetype": "text/x-python",
   "name": "python",
   "nbconvert_exporter": "python",
   "pygments_lexer": "ipython3",
   "version": "3.7.6"
  }
 },
 "nbformat": 4,
 "nbformat_minor": 4
}
