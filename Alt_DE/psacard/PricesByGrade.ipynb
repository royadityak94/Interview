{
 "cells": [
  {
   "cell_type": "code",
   "execution_count": 1,
   "metadata": {},
   "outputs": [],
   "source": [
    "import pandas as pd\n",
    "from selenium import webdriver\n",
    "from bs4 import BeautifulSoup\n",
    "import csv\n",
    "import os\n",
    "import re"
   ]
  },
  {
   "cell_type": "code",
   "execution_count": 2,
   "metadata": {},
   "outputs": [],
   "source": [
    "def load_driver(SELENIUM_EXECUTABLE_PATH=r'/mnt/c/Users/adity/Downloads/Chrome/geckodriver-v0.27.0-win64/geckodriver.exe'):\n",
    "    driver = webdriver.Firefox(executable_path=SELENIUM_EXECUTABLE_PATH)\n",
    "    return driver\n",
    "\n",
    "def save_to_csv(data, SAVE_PATH, MODE):\n",
    "    if not os.path.exists(SAVE_PATH.split('/')[0]):\n",
    "        os.makedirs(SAVE_PATH.split('/')[0])\n",
    "\n",
    "    fileWriter = csv.DictWriter(open(SAVE_PATH, MODE), data[0].keys(), delimiter=',', quotechar='\"', quoting=csv.QUOTE_MINIMAL)\n",
    "    fileWriter.writerows(data)\n",
    "    \n",
    "def parse_population_details(population, tag=None, SAVE_PATH='logs/population_report.csv', MODE='a'):\n",
    "    BASE_PATH='https://www.psacard.com'\n",
    "    rel_url = population['href'].split('/')[3:]\n",
    "    auction_year = rel_url[0]\n",
    "    population_id = rel_url[-1]\n",
    "    url = BASE_PATH + population['href']\n",
    "    driver = load_driver()\n",
    "    driver.get(url)\n",
    "    soup=BeautifulSoup(driver.page_source)\n",
    "    all_details = soup.find_all(\"div\", attrs={\"class\": \"dataTables_wrapper\"})[0]\n",
    "\n",
    "    population_arr = []\n",
    "    for row in all_details.findAll('tr')[1:]:\n",
    "        try:\n",
    "            population_row = {}\n",
    "            all_td = row.findAll('td')[1:]\n",
    "            metrices = [th.text.strip() for th in all_details.findAll('th')[3:]]\n",
    "            auction_meta = str(all_td[0])\n",
    "            population_row['auction_player'] = auction_meta[auction_meta.index('<strong>')+len('<strong>'):auction_meta.index('</strong>')].strip()\n",
    "            population_row['auction_league'] = auction_meta[auction_meta.index('<br/>')+8: auction_meta.index('<span')-3].strip()\n",
    "            population_row['population_id'] = population_id\n",
    "            population_row['auction_year'] = auction_year\n",
    "            \n",
    "\n",
    "            # Collecting all metrices for the player\n",
    "            idx = 0\n",
    "            for item in all_td[2:]:\n",
    "                cells = item.findAll('span')\n",
    "                population_row[metrices[idx]] = {'Grade': cells[0].contents[0], '+': cells[1].contents[0], 'Q': cells[2].contents[0]}\n",
    "                idx += 1\n",
    "            population_arr.append(population_row)\n",
    "        except:\n",
    "            continue\n",
    "    \n",
    "    # Append to the csv file \n",
    "    save_to_csv(population_arr, SAVE_PATH, MODE)\n",
    "    return\n",
    "    \n",
    "def parse_amount_details(rel_url, tag='None', SAVE_PATH='logs/transaction.csv', MODE='a'):\n",
    "    BASE_PATH='https://www.psacard.com'\n",
    "    identifiers = rel_url['href'].split('/')[3:]\n",
    "    auction_name = identifiers[0]\n",
    "    auction_player = identifiers[1]\n",
    "    value = rel_url.text\n",
    "    summary_id = re.sub(r'#.*', '', identifiers[-1])\n",
    "    \n",
    "    url = BASE_PATH + most_recent_prices['href']\n",
    "    driver = load_driver()\n",
    "    driver.get(url)\n",
    "    soup=BeautifulSoup(driver.page_source)\n",
    "    all_details = soup.find_all(\"div\", attrs={\"class\": \"item-lots-summary\"})[0].find_all(\"div\", attrs={\"class\": \"item-row\"})\n",
    "    amount_arr = []\n",
    "    for fine_details in all_details[1:]:\n",
    "        specifics = {}\n",
    "        specifics['auction_name'] = auction_name\n",
    "        specifics['auction_player'] = auction_player\n",
    "        specifics['value'] = value \n",
    "        specifics['summary_id'] = summary_id\n",
    "        specifics['date'] = fine_details['data-date']\n",
    "        specifics['price'] = fine_details['data-price']\n",
    "        specifics['grade'] = fine_details['data-gradevalue']\n",
    "        specifics['lot_number'] = fine_details['data-lot']\n",
    "        specifics['auction_house'] = fine_details['data-auctionhouse']\n",
    "        specifics['auction_seller'] = fine_details['data-auctionname']\n",
    "        specifics['auction_type'] = fine_details['data-auctiontype']\n",
    "        specifics['cert'] = fine_details['data-cert']\n",
    "        specifics['tag'] = tag\n",
    "        amount_arr.append(specifics)\n",
    "        \n",
    "    # Save to File\n",
    "    save_to_csv(amount_arr, SAVE_PATH, MODE)\n",
    "    return"
   ]
  },
  {
   "cell_type": "code",
   "execution_count": 3,
   "metadata": {},
   "outputs": [],
   "source": [
    "CSV_FILE_PATH='logs/allauctionprices.csv'"
   ]
  },
  {
   "cell_type": "code",
   "execution_count": 8,
   "metadata": {},
   "outputs": [
    {
     "ename": "ValueError",
     "evalue": "too many values to unpack (expected 3)",
     "output_type": "error",
     "traceback": [
      "\u001b[0;31m---------------------------------------------------------------------------\u001b[0m",
      "\u001b[0;31mValueError\u001b[0m                                Traceback (most recent call last)",
      "\u001b[0;32m<ipython-input-8-53d7db7a820c>\u001b[0m in \u001b[0;36m<module>\u001b[0;34m\u001b[0m\n\u001b[1;32m      2\u001b[0m     \u001b[0mauction_items\u001b[0m\u001b[0;34m=\u001b[0m \u001b[0mcsv\u001b[0m\u001b[0;34m.\u001b[0m\u001b[0mreader\u001b[0m\u001b[0;34m(\u001b[0m\u001b[0mcsvfile\u001b[0m\u001b[0;34m,\u001b[0m \u001b[0mdelimiter\u001b[0m\u001b[0;34m=\u001b[0m\u001b[0;34m','\u001b[0m\u001b[0;34m)\u001b[0m\u001b[0;34m\u001b[0m\u001b[0;34m\u001b[0m\u001b[0m\n\u001b[1;32m      3\u001b[0m     \u001b[0;32mfor\u001b[0m \u001b[0mrow\u001b[0m \u001b[0;32min\u001b[0m \u001b[0mauction_items\u001b[0m\u001b[0;34m:\u001b[0m\u001b[0;34m\u001b[0m\u001b[0;34m\u001b[0m\u001b[0m\n\u001b[0;32m----> 4\u001b[0;31m         \u001b[0mname\u001b[0m\u001b[0;34m,\u001b[0m \u001b[0murl\u001b[0m\u001b[0;34m,\u001b[0m \u001b[0mcount\u001b[0m \u001b[0;34m=\u001b[0m \u001b[0mrow\u001b[0m\u001b[0;34m\u001b[0m\u001b[0;34m\u001b[0m\u001b[0m\n\u001b[0m\u001b[1;32m      5\u001b[0m         \u001b[0mprint\u001b[0m \u001b[0;34m(\u001b[0m\u001b[0mrow\u001b[0m\u001b[0;34m)\u001b[0m\u001b[0;34m\u001b[0m\u001b[0;34m\u001b[0m\u001b[0m\n",
      "\u001b[0;31mValueError\u001b[0m: too many values to unpack (expected 3)"
     ]
    }
   ],
   "source": [
    "with open(CSV_FILE_PATH) as csvfile:\n",
    "    auction_items= csv.reader(csvfile, delimiter=',')\n",
    "    for row in auction_items:\n",
    "        name, url, count = row\n",
    "        print (row)"
   ]
  },
  {
   "cell_type": "code",
   "execution_count": 11,
   "metadata": {},
   "outputs": [
    {
     "data": {
      "text/plain": [
       "['1948 Topps Magic Photos All-American Basketball Murray Wier #2B All American Basketball',\n",
       " 'https://www.psacard.com/auctionprices/basketball-cards/1948-topps-magic-photos-all-american-basketball/murray-wier/summary/633272',\n",
       " '2',\n",
       " 'basketball_cards']"
      ]
     },
     "execution_count": 11,
     "metadata": {},
     "output_type": "execute_result"
    }
   ],
   "source": [
    "row"
   ]
  },
  {
   "cell_type": "code",
   "execution_count": 4,
   "metadata": {},
   "outputs": [],
   "source": [
    "# Read the csv file\n",
    "cnt = 0\n",
    "with open(CSV_FILE_PATH) as csvfile:\n",
    "    auction_items= csv.reader(csvfile, delimiter=',')\n",
    "    for row in auction_items:\n",
    "        name, url, count = row\n",
    "        driver = load_driver()\n",
    "        driver.get(url)\n",
    "        soup=BeautifulSoup(driver.page_source)\n",
    "        grade_prices = soup.find_all(\"table\", attrs={\"class\": \"set-items-results\"})\n",
    "        unit = grade_prices[4]\n",
    "        specifics = unit.findAll('tr')\n",
    "        grade = specifics[0].findAll('td')[-1].contents[0]\n",
    "        most_recent_prices = specifics[1].findAll('td')[-1].contents[0]\n",
    "        average_price = specifics[2].findAll('td')[-1].contents[0]\n",
    "        smr_price = specifics[3].findAll('td')[-1].contents[0]\n",
    "        population = specifics[4].findAll('td')[-1].contents[0]\n",
    "        pop_higher = specifics[5].findAll('td')[-1].contents[0]\n",
    "\n",
    "        if str(most_recent_prices) != '—':\n",
    "            parse_amount_details(most_recent_prices, 'Most Recent Price')\n",
    "\n",
    "        if str(average_price) != '—':\n",
    "            parse_amount_details(average_price, 'Average Price')\n",
    "\n",
    "        if str(smr_price) != '—':\n",
    "            parse_amount_details(most_recent_prices, 'SMR Price' )\n",
    "\n",
    "        if str(population) != '—':\n",
    "            parse_population_details(population, 'Population')\n",
    "        \n",
    "        cnt += 1\n",
    "        if cnt >= 2:\n",
    "            break"
   ]
  },
  {
   "cell_type": "code",
   "execution_count": null,
   "metadata": {},
   "outputs": [],
   "source": [
    "for item in auction_items:\n",
    "    item_info = {}\n",
    "    item_info['name'] = item.find('a').contents[0]\n",
    "    item_info['url'] = BASE_PATH + item.find('a')['href']\n",
    "    item_info['count'] = int(item.findAll('td')[-1].contents[0])\n",
    "    item_info['category'] = 'basketball_cards'\n",
    "    auction_data.append(item_info)"
   ]
  },
  {
   "cell_type": "code",
   "execution_count": null,
   "metadata": {},
   "outputs": [],
   "source": [
    "item.find('a').contents[0]"
   ]
  },
  {
   "cell_type": "code",
   "execution_count": null,
   "metadata": {},
   "outputs": [],
   "source": [
    "SAVE_PATH.split('/')[0]"
   ]
  },
  {
   "cell_type": "code",
   "execution_count": null,
   "metadata": {},
   "outputs": [],
   "source": [
    "\n",
    "if not os.path.exists(SAVE_PATH.split('/')[0]):\n",
    "    os.makedirs(SAVE_PATH.split('/')[0])\n",
    "        \n",
    "wtr = csv.DictWriter(open(SAVE_PATH, 'w'), auction_data[0].keys(), delimiter=',', quotechar='\"', quoting=csv.QUOTE_MINIMAL)\n",
    "wtr.writerows(auction_data)"
   ]
  },
  {
   "cell_type": "code",
   "execution_count": null,
   "metadata": {},
   "outputs": [],
   "source": [
    "auction_data[0]"
   ]
  }
 ],
 "metadata": {
  "kernelspec": {
   "display_name": "Python 3",
   "language": "python",
   "name": "python3"
  },
  "language_info": {
   "codemirror_mode": {
    "name": "ipython",
    "version": 3
   },
   "file_extension": ".py",
   "mimetype": "text/x-python",
   "name": "python",
   "nbconvert_exporter": "python",
   "pygments_lexer": "ipython3",
   "version": "3.7.6"
  }
 },
 "nbformat": 4,
 "nbformat_minor": 4
}
