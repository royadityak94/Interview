{
 "cells": [
  {
   "cell_type": "code",
   "execution_count": 49,
   "metadata": {},
   "outputs": [],
   "source": [
    "from selenium import webdriver\n",
    "from bs4 import BeautifulSoup\n",
    "import csv\n",
    "import os\n",
    "import re\n",
    "from dateutil.parser import parse"
   ]
  },
  {
   "cell_type": "code",
   "execution_count": 56,
   "metadata": {},
   "outputs": [],
   "source": [
    "def load_driver(SELENIUM_EXECUTABLE_PATH=r'/mnt/c/Users/adity/Downloads/Chrome/geckodriver-v0.27.0-win64/geckodriver.exe'):\n",
    "    driver = webdriver.Firefox(executable_path=SELENIUM_EXECUTABLE_PATH)\n",
    "    return driver\n",
    "\n",
    "def save_to_csv(data, SAVE_PATH, MODE):\n",
    "    if not os.path.exists(SAVE_PATH.split('/')[0]):\n",
    "        os.makedirs(SAVE_PATH.split('/')[0])\n",
    "\n",
    "    fileWriter = csv.DictWriter(open(SAVE_PATH, MODE), data[0].keys(), delimiter=',', quotechar='\"', quoting=csv.QUOTE_MINIMAL)\n",
    "    fileWriter.writeheader()\n",
    "    fileWriter.writerows(data)\n",
    "\n",
    "def validate_date(date):\n",
    "    try:\n",
    "        parse(date)\n",
    "        return True\n",
    "    except ValueError:\n",
    "        return False\n",
    "\n",
    "def format_registry_url(str_msg):\n",
    "    try:\n",
    "        url_ref = ''\n",
    "        if 'href' in str_msg:\n",
    "            href_subset = str_msg[str_msg.index('href')+6:]\n",
    "            url_ref = '/'.join(BASE_PATH.split('/')[:-1]) + href_subset[:href_subset.index('\">')]\n",
    "        return url_ref\n",
    "    except:\n",
    "        return None\n",
    "\n",
    "def get_particular_unique_rows(file_path, index):\n",
    "    rows = []\n",
    "    try:\n",
    "        with open(file_path) as csvfile:\n",
    "            data = csv.reader(csvfile, delimiter=',')\n",
    "            for row in data:\n",
    "                if row[index] not in rows:\n",
    "                    rows.append(row[index])\n",
    "    except:\n",
    "        pass\n",
    "    return rows\n",
    "\n",
    "def persist_certification_details(certificate_id, SAVE_PATH='logs/certificate.csv'):\n",
    "    BASE_PATH='https://www.psacard.com/cert'\n",
    "    url = '/'.join([BASE_PATH, certificate_id])\n",
    "    driver = load_driver()\n",
    "    driver.get(url)\n",
    "    soup=BeautifulSoup(driver.page_source)\n",
    "\n",
    "    certificate_details = soup.find_all(\"div\", attrs={\"class\": \"cert-container\"})[0].findAll('tr')[2:]\n",
    "    if len(certificate_details) == 0:\n",
    "        return\n",
    "    certificate_map = {'certificate_number': certificate_id}\n",
    "    ptr = 0\n",
    "    if not len(certificate_details[0].contents[-1].contents[0]) == 4:\n",
    "        certificate_map['reverse_cert_number'] = certificate_details[ptr].contents[-1].contents[0]\n",
    "        ptr += 1\n",
    "    else:\n",
    "        certificate_map['reverse_cert_number'] = None\n",
    "\n",
    "    certificate_map['year'] = certificate_details[ptr].contents[-1].contents[0]\n",
    "    ptr += 1\n",
    "    certificate_map['brand'] = certificate_details[ptr].contents[-1].contents[0]\n",
    "    ptr += 1\n",
    "    certificate_map['sport'] = certificate_details[ptr].contents[-1].contents[0]\n",
    "    ptr += 1\n",
    "    certificate_map['card_number'] = certificate_details[ptr].contents[-1].contents[0]\n",
    "    ptr += 1\n",
    "    certificate_map['player'] = certificate_details[ptr].contents[-1].contents[0]\n",
    "    ptr += 1\n",
    "    certificate_map['variety_or_pedigree'] = certificate_details[ptr].contents[-1].contents[0]\n",
    "    ptr += 1\n",
    "    certificate_map['grade'] = certificate_details[ptr].contents[-1].contents[0]\n",
    "    ptr += 1\n",
    "\n",
    "    # Adding PSA Auction Prices Realized\n",
    "    realized_auction_prices = soup.find_all('table', attrs={\"class\": \"apritem-results\"})[0].findAll('tr')\n",
    "    date = realized_auction_prices[0].contents[-1].contents[0]\n",
    "    if validate_date(date):\n",
    "        certificate_map['date'] = date\n",
    "        certificate_map['price'] = realized_auction_prices[1].contents[-1].contents[0]\n",
    "        certificate_map['auction_house'] = realized_auction_prices[2].contents[-1].contents[0]\n",
    "        certificate_map['lot_number'] = realized_auction_prices[3].contents[-1].contents[0]\n",
    "    else:\n",
    "        certificate_map['date'] = certificate_map['price'] = certificate_map['auction_house'] = certificate_map['lot_number'] = None\n",
    "\n",
    "    # Adding current PSA registry sets\n",
    "    registry_sets = soup.find_all('div', attrs={\"class\": \"col-xs-12\"})\n",
    "    certificate_map['registry_set_msg'] = str(soup.find_all('p')[3].contents)\n",
    "    certificate_map['registry_set_url'] = format_registry_url(certificate_map['registry_set_msg'])\n",
    "    certificate_map['population'] = registry_sets[0].find('span').contents[0]\n",
    "    certificate_map['population_w_equal'] = registry_sets[1].find('span').contents[0]\n",
    "    certificate_map['population_higher'] = registry_sets[2].find('span').contents[0]\n",
    "\n",
    "    # Save to CSV\n",
    "    save_to_csv([certificate_map], SAVE_PATH, 'a')\n",
    "    driver.quit()\n",
    "    return"
   ]
  },
  {
   "cell_type": "code",
   "execution_count": 51,
   "metadata": {},
   "outputs": [],
   "source": [
    "TRANSACTION_FILE_PATH = 'logs/transaction.csv'\n",
    "CERTIFICATION_FILE_PATH = 'logs/certificate.csv'\n",
    "existing_certificates_in_transaction = set(get_particular_unique_rows(TRANSACTION_FILE_PATH, 11))\n",
    "existing_certificates_in_certificates = set(get_particular_unique_rows(CERTIFICATION_FILE_PATH, 0))\n",
    "new_certificates = existing_certificates_in_transaction - existing_certificates_in_certificates"
   ]
  },
  {
   "cell_type": "code",
   "execution_count": 52,
   "metadata": {},
   "outputs": [],
   "source": [
    "# for new_certificate in new_certificates:\n",
    "#     persist_certification_details(new_certificate)"
   ]
  },
  {
   "cell_type": "code",
   "execution_count": 53,
   "metadata": {},
   "outputs": [],
   "source": [
    "certificate_id = list(new_certificates)[0]\n",
    "BASE_PATH='https://www.psacard.com/cert'\n",
    "url = '/'.join([BASE_PATH, certificate_id])\n",
    "driver = load_driver()certificate_details\n",
    "driver.get(url)\n",
    "soup=BeautifulSoup(driver.page_source)\n",
    "\n",
    "certificate_details = soup.find_all(\"div\", attrs={\"class\": \"cert-container\"})[0].findAll('tr')[2:]\n",
    "certificate_map = {'certificate_number': certificate_id}"
   ]
  },
  {
   "cell_type": "code",
   "execution_count": 57,
   "metadata": {},
   "outputs": [
    {
     "data": {
      "text/plain": [
       "True"
      ]
     },
     "execution_count": 57,
     "metadata": {},
     "output_type": "execute_result"
    }
   ],
   "source": [
    "len(certificate_details) == 0"
   ]
  },
  {
   "cell_type": "code",
   "execution_count": 42,
   "metadata": {},
   "outputs": [],
   "source": [
    "ptr = 0\n",
    "if not len(certificate_details[0].contents[-1].contents[0]) == 4:\n",
    "    certificate_map['reverse_cert_number'] = certificate_details[ptr].contents[-1].contents[0]\n",
    "    ptr += 1\n",
    "else:\n",
    "    certificate_map['reverse_cert_number'] = None\n",
    "\n",
    "certificate_map['year'] = certificate_details[ptr].contents[-1].contents[0]\n",
    "ptr += 1\n",
    "certificate_map['brand'] = certificate_details[ptr].contents[-1].contents[0]\n",
    "ptr += 1\n",
    "certificate_map['sport'] = certificate_details[ptr].contents[-1].contents[0]\n",
    "ptr += 1\n",
    "certificate_map['card_number'] = certificate_details[ptr].contents[-1].contents[0]\n",
    "ptr += 1\n",
    "certificate_map['player'] = certificate_details[ptr].contents[-1].contents[0]\n",
    "ptr += 1\n",
    "certificate_map['variety_or_pedigree'] = certificate_details[ptr].contents[-1].contents[0]\n",
    "ptr += 1\n",
    "certificate_map['grade'] = certificate_details[ptr].contents[-1].contents[0]\n",
    "ptr += 1"
   ]
  },
  {
   "cell_type": "code",
   "execution_count": 54,
   "metadata": {},
   "outputs": [
    {
     "data": {
      "text/plain": [
       "{'certificate_number': 'cert'}"
      ]
     },
     "execution_count": 54,
     "metadata": {},
     "output_type": "execute_result"
    }
   ],
   "source": [
    "certificate_map"
   ]
  },
  {
   "cell_type": "code",
   "execution_count": 39,
   "metadata": {},
   "outputs": [
    {
     "data": {
      "text/plain": [
       "4"
      ]
     },
     "execution_count": 39,
     "metadata": {},
     "output_type": "execute_result"
    }
   ],
   "source": [
    "len(certificate_details[0].contents[-1].contents[0])"
   ]
  },
  {
   "cell_type": "code",
   "execution_count": null,
   "metadata": {},
   "outputs": [],
   "source": []
  },
  {
   "cell_type": "code",
   "execution_count": 6,
   "metadata": {},
   "outputs": [
    {
     "ename": "AttributeError",
     "evalue": "'NavigableString' object has no attribute 'contents'",
     "output_type": "error",
     "traceback": [
      "\u001b[0;31m---------------------------------------------------------------------------\u001b[0m",
      "\u001b[0;31mAttributeError\u001b[0m                            Traceback (most recent call last)",
      "\u001b[0;32m<ipython-input-6-baf607c4a1cb>\u001b[0m in \u001b[0;36m<module>\u001b[0;34m\u001b[0m\n\u001b[1;32m      1\u001b[0m \u001b[0;32mfor\u001b[0m \u001b[0mnew_certificate\u001b[0m \u001b[0;32min\u001b[0m \u001b[0mnew_certificates\u001b[0m\u001b[0;34m:\u001b[0m\u001b[0;34m\u001b[0m\u001b[0;34m\u001b[0m\u001b[0m\n\u001b[0;32m----> 2\u001b[0;31m     \u001b[0mpersist_certification_details\u001b[0m\u001b[0;34m(\u001b[0m\u001b[0mnew_certificate\u001b[0m\u001b[0;34m)\u001b[0m\u001b[0;34m\u001b[0m\u001b[0;34m\u001b[0m\u001b[0m\n\u001b[0m\u001b[1;32m      3\u001b[0m \u001b[0;34m\u001b[0m\u001b[0m\n\u001b[1;32m      4\u001b[0m \u001b[0;31m#print (\"Total New Certificates Added = \", len(new_certificates))\u001b[0m\u001b[0;34m\u001b[0m\u001b[0;34m\u001b[0m\u001b[0;34m\u001b[0m\u001b[0m\n",
      "\u001b[0;32m<ipython-input-3-fd20346f824a>\u001b[0m in \u001b[0;36mpersist_certification_details\u001b[0;34m(certificate_id, SAVE_PATH)\u001b[0m\n\u001b[1;32m     56\u001b[0m     \u001b[0mcertificate_map\u001b[0m\u001b[0;34m[\u001b[0m\u001b[0;34m'player'\u001b[0m\u001b[0;34m]\u001b[0m \u001b[0;34m=\u001b[0m \u001b[0mcertificate_details\u001b[0m\u001b[0;34m[\u001b[0m\u001b[0;36m5\u001b[0m\u001b[0;34m]\u001b[0m\u001b[0;34m.\u001b[0m\u001b[0mcontents\u001b[0m\u001b[0;34m[\u001b[0m\u001b[0;34m-\u001b[0m\u001b[0;36m1\u001b[0m\u001b[0;34m]\u001b[0m\u001b[0;34m.\u001b[0m\u001b[0mcontents\u001b[0m\u001b[0;34m[\u001b[0m\u001b[0;36m0\u001b[0m\u001b[0;34m]\u001b[0m\u001b[0;34m\u001b[0m\u001b[0;34m\u001b[0m\u001b[0m\n\u001b[1;32m     57\u001b[0m     \u001b[0mcertificate_map\u001b[0m\u001b[0;34m[\u001b[0m\u001b[0;34m'variety_or_pedigree'\u001b[0m\u001b[0;34m]\u001b[0m \u001b[0;34m=\u001b[0m \u001b[0mcertificate_details\u001b[0m\u001b[0;34m[\u001b[0m\u001b[0;36m6\u001b[0m\u001b[0;34m]\u001b[0m\u001b[0;34m.\u001b[0m\u001b[0mcontents\u001b[0m\u001b[0;34m[\u001b[0m\u001b[0;34m-\u001b[0m\u001b[0;36m1\u001b[0m\u001b[0;34m]\u001b[0m\u001b[0;34m.\u001b[0m\u001b[0mcontents\u001b[0m\u001b[0;34m[\u001b[0m\u001b[0;36m0\u001b[0m\u001b[0;34m]\u001b[0m\u001b[0;34m\u001b[0m\u001b[0;34m\u001b[0m\u001b[0m\n\u001b[0;32m---> 58\u001b[0;31m     \u001b[0mcertificate_map\u001b[0m\u001b[0;34m[\u001b[0m\u001b[0;34m'grade'\u001b[0m\u001b[0;34m]\u001b[0m \u001b[0;34m=\u001b[0m \u001b[0mcertificate_details\u001b[0m\u001b[0;34m[\u001b[0m\u001b[0;36m7\u001b[0m\u001b[0;34m]\u001b[0m\u001b[0;34m.\u001b[0m\u001b[0mcontents\u001b[0m\u001b[0;34m[\u001b[0m\u001b[0;34m-\u001b[0m\u001b[0;36m1\u001b[0m\u001b[0;34m]\u001b[0m\u001b[0;34m.\u001b[0m\u001b[0mcontents\u001b[0m\u001b[0;34m[\u001b[0m\u001b[0;36m0\u001b[0m\u001b[0;34m]\u001b[0m\u001b[0;34m\u001b[0m\u001b[0;34m\u001b[0m\u001b[0m\n\u001b[0m\u001b[1;32m     59\u001b[0m \u001b[0;34m\u001b[0m\u001b[0m\n\u001b[1;32m     60\u001b[0m     \u001b[0;31m# Adding PSA Auction Prices Realized\u001b[0m\u001b[0;34m\u001b[0m\u001b[0;34m\u001b[0m\u001b[0;34m\u001b[0m\u001b[0m\n",
      "\u001b[0;32m~/anaconda3/lib/python3.7/site-packages/bs4/element.py\u001b[0m in \u001b[0;36m__getattr__\u001b[0;34m(self, attr)\u001b[0m\n\u001b[1;32m    869\u001b[0m             raise AttributeError(\n\u001b[1;32m    870\u001b[0m                 \"'%s' object has no attribute '%s'\" % (\n\u001b[0;32m--> 871\u001b[0;31m                     self.__class__.__name__, attr))\n\u001b[0m\u001b[1;32m    872\u001b[0m \u001b[0;34m\u001b[0m\u001b[0m\n\u001b[1;32m    873\u001b[0m     \u001b[0;32mdef\u001b[0m \u001b[0moutput_ready\u001b[0m\u001b[0;34m(\u001b[0m\u001b[0mself\u001b[0m\u001b[0;34m,\u001b[0m \u001b[0mformatter\u001b[0m\u001b[0;34m=\u001b[0m\u001b[0;34m\"minimal\"\u001b[0m\u001b[0;34m)\u001b[0m\u001b[0;34m:\u001b[0m\u001b[0;34m\u001b[0m\u001b[0;34m\u001b[0m\u001b[0m\n",
      "\u001b[0;31mAttributeError\u001b[0m: 'NavigableString' object has no attribute 'contents'"
     ]
    }
   ],
   "source": [
    "for new_certificate in new_certificates:\n",
    "    persist_certification_details(new_certificate)\n",
    "\n",
    "#print (\"Total New Certificates Added = \", len(new_certificates))"
   ]
  },
  {
   "cell_type": "code",
   "execution_count": 9,
   "metadata": {},
   "outputs": [
    {
     "data": {
      "text/plain": [
       "set()"
      ]
     },
     "execution_count": 9,
     "metadata": {},
     "output_type": "execute_result"
    }
   ],
   "source": [
    "existing_certificates_in_certificates"
   ]
  },
  {
   "cell_type": "code",
   "execution_count": null,
   "metadata": {},
   "outputs": [],
   "source": []
  },
  {
   "cell_type": "code",
   "execution_count": null,
   "metadata": {},
   "outputs": [],
   "source": [
    "def main():\n",
    "    TRANSACTION_FILE_PATH = 'logs/transaction.csv'\n",
    "    CERTIFICATION_FILE_PATH = 'logs/certificate.csv'\n",
    "    existing_certificates_in_transaction = set(get_particular_unique_rows(TRANSACTION_FILE_PATH, 11))\n",
    "    existing_certificates_in_certificates = set(get_particular_unique_rows(CERTIFICATION_FILE_PATH, 0))\n",
    "    new_certificates = existing_certificates_in_transaction - existing_certificates_in_certificates\n",
    "    for new_certificate in new_certificates:\n",
    "        persist_certification_details(new_certificate)\n",
    "\n",
    "    print (\"Total New Certificates Added = \", len(new_certificates))\n",
    "\n",
    "if __name__ == '__main__':\n",
    "    main()\n"
   ]
  },
  {
   "cell_type": "code",
   "execution_count": null,
   "metadata": {},
   "outputs": [],
   "source": []
  },
  {
   "cell_type": "code",
   "execution_count": null,
   "metadata": {},
   "outputs": [],
   "source": []
  },
  {
   "cell_type": "code",
   "execution_count": null,
   "metadata": {},
   "outputs": [],
   "source": []
  },
  {
   "cell_type": "code",
   "execution_count": null,
   "metadata": {},
   "outputs": [],
   "source": []
  },
  {
   "cell_type": "code",
   "execution_count": null,
   "metadata": {},
   "outputs": [],
   "source": []
  },
  {
   "cell_type": "code",
   "execution_count": null,
   "metadata": {},
   "outputs": [],
   "source": []
  },
  {
   "cell_type": "code",
   "execution_count": null,
   "metadata": {},
   "outputs": [],
   "source": []
  },
  {
   "cell_type": "code",
   "execution_count": null,
   "metadata": {},
   "outputs": [],
   "source": [
    "def load_driver(SELENIUM_EXECUTABLE_PATH=r'/mnt/c/Users/adity/Downloads/Chrome/geckodriver-v0.27.0-win64/geckodriver.exe'):\n",
    "    driver = webdriver.Firefox(executable_path=SELENIUM_EXECUTABLE_PATH)\n",
    "    return driver\n",
    "\n",
    "def save_to_csv(data, SAVE_PATH, MODE):\n",
    "    flag = os.path.isfile(SAVE_PATH)\n",
    "    with open(SAVE_PATH, MODE) as file:\n",
    "        fileWriter = csv.DictWriter(file, fieldnames=data[0].keys(), delimiter=',', quotechar='\"', quoting=csv.QUOTE_MINIMAL)\n",
    "\n",
    "        if not flag:\n",
    "            fileWriter.writeheader()\n",
    "        fileWriter.writerows(data)\n",
    "\n",
    "def parse_amount_details(rel_url, global_identifiers, tag='None', SAVE_PATH='logs/transaction.csv', MODE='a'):\n",
    "    BASE_PATH='https://www.psacard.com'\n",
    "    identifiers = rel_url['href'].split('/')[3:]\n",
    "    auction_name = identifiers[0]\n",
    "    auction_player = identifiers[1]\n",
    "    value = rel_url.text\n",
    "    summary_id = re.sub(r'#.*', '', identifiers[-1])\n",
    "\n",
    "    url = BASE_PATH + most_recent_prices['href']\n",
    "    driver = load_driver()\n",
    "    driver.get(url)\n",
    "    soup=BeautifulSoup(driver.page_source, features=\"lxml\")\n",
    "    all_details = soup.find_all(\"div\", attrs={\"class\": \"item-lots-summary\"})[0].find_all(\"div\", attrs={\"class\": \"item-row\"})\n",
    "    amount_arr = []\n",
    "    for fine_details in all_details[1:]:\n",
    "        specifics = {}\n",
    "        specifics['auction_name'] = auction_name\n",
    "        specifics['auction_player'] = auction_player\n",
    "        specifics['value'] = value\n",
    "        specifics['summary_id'] = summary_id\n",
    "        specifics['date'] = fine_details['data-date']\n",
    "        specifics['price'] = fine_details['data-price']\n",
    "        specifics['grade'] = fine_details['data-gradevalue']\n",
    "        specifics['lot_number'] = fine_details['data-lot']\n",
    "        specifics['auction_house'] = fine_details['data-auctionhouse']\n",
    "        specifics['auction_seller'] = fine_details['data-auctionname']\n",
    "        specifics['auction_type'] = fine_details['data-auctiontype']\n",
    "        specifics['cert'] = fine_details['data-cert']\n",
    "        specifics['tag'] = tag\n",
    "\n",
    "        specifics['fk_name'], specifics['fk_url'], specifics['fk_count'], specifics['fk_category'] = global_identifiers\n",
    "        amount_arr.append(specifics)\n",
    "\n",
    "    # Save to File\n",
    "    return amount_arr\n",
    "    print (\">\", amount_arr)\n",
    "    save_to_csv(amount_arr, SAVE_PATH, MODE)\n",
    "    driver.quit()\n",
    "    return"
   ]
  },
  {
   "cell_type": "code",
   "execution_count": null,
   "metadata": {},
   "outputs": [],
   "source": [
    "def parse_population_details(population, global_identifiers, tag=None, SAVE_PATH='logs/population_report.csv', MODE='a'):\n",
    "    BASE_PATH='https://www.psacard.com'\n",
    "    rel_url = population['href'].split('/')[3:]\n",
    "    auction_year = rel_url[0]\n",
    "    population_id = rel_url[-1]\n",
    "    url = BASE_PATH + population['href']\n",
    "    driver = load_driver()\n",
    "    driver.get(url)\n",
    "    soup=BeautifulSoup(driver.page_source, features=\"lxml\")\n",
    "    driver.quit()\n",
    "    all_details = soup.find_all(\"div\", attrs={\"class\": \"dataTables_wrapper\"})[0]\n",
    "\n",
    "    population_arr = []\n",
    "    for row in all_details.findAll('tr')[1:]:\n",
    "        population_row = {}\n",
    "        all_td = row.findAll('td')[1:]\n",
    "        metrices = [th.text.strip() for th in all_details.findAll('th')[3:]]\n",
    "        auction_meta = str(all_td[0])\n",
    "        population_row['auction_player'] = auction_meta[auction_meta.index('<strong>')+len('<strong>'):auction_meta.index('</strong>')].strip()\n",
    "        population_row['auction_league'] = auction_meta[auction_meta.index('<br/>')+8: auction_meta.index('<span')-3].strip()\n",
    "        population_row['population_id'] = population_id\n",
    "        population_row['auction_year'] = auction_year\n",
    "        population_row['fk_name'], population_row['fk_url'], population_row['fk_count'], population_row['fk_category'] = global_identifiers\n",
    "\n",
    "        # Collecting all metrices for the player\n",
    "        idx = 0\n",
    "        for item in all_td[2:]:\n",
    "            cells = item.findAll('span')\n",
    "            population_row[metrices[idx]] = {'Grade': cells[0].contents[0], '+': cells[1].contents[0], 'Q': cells[2].contents[0]}\n",
    "            idx += 1\n",
    "        population_arr.append(population_row)\n",
    "        \n",
    "\n",
    "    # Append to the csv file\n",
    "    save_to_csv(population_arr, SAVE_PATH, MODE)\n",
    "    return"
   ]
  },
  {
   "cell_type": "code",
   "execution_count": null,
   "metadata": {},
   "outputs": [],
   "source": [
    "CSV_FILE_PATH='logs/allauctionprices.csv'\n",
    "with open(CSV_FILE_PATH) as csvfile:\n",
    "    auction_items= csv.reader(csvfile, delimiter=',')\n",
    "    cnt = 0\n",
    "    for row in auction_items:\n",
    "        name, url, count, category = row\n",
    "        url = 'https://www.psacard.com/auctionprices/basketball-cards/1994-skybox-usa-basketball/shawn-kemp/summary/2684176'\n",
    "        global_identifiers = [name, url, count, category]\n",
    "        driver = load_driver()\n",
    "        driver.get(url)\n",
    "        soup=BeautifulSoup(driver.page_source, features=\"lxml\")\n",
    "        grade_prices = soup.find_all(\"table\", attrs={\"class\": \"set-items-results\"})\n",
    "        for idx in range(len(grade_prices)-1):\n",
    "            specifics = grade_prices[idx].findAll('tr')\n",
    "\n",
    "            grade = specifics[0].findAll('td')[-1].contents[0]\n",
    "            most_recent_prices = specifics[1].findAll('td')[-1].contents[0]\n",
    "            average_price = specifics[2].findAll('td')[-1].contents[0]\n",
    "            smr_price = specifics[3].findAll('td')[-1].contents[0]\n",
    "            population = specifics[4].findAll('td')[-1].contents[0]\n",
    "            pop_higher = specifics[5].findAll('td')[-1].contents[0]\n",
    "\n",
    "            if str(population) != '—':\n",
    "                parse_population_details(population, global_identifiers, 'Population')"
   ]
  },
  {
   "cell_type": "code",
   "execution_count": null,
   "metadata": {},
   "outputs": [],
   "source": []
  },
  {
   "cell_type": "code",
   "execution_count": null,
   "metadata": {},
   "outputs": [],
   "source": []
  },
  {
   "cell_type": "code",
   "execution_count": null,
   "metadata": {},
   "outputs": [],
   "source": []
  },
  {
   "cell_type": "code",
   "execution_count": null,
   "metadata": {},
   "outputs": [],
   "source": []
  },
  {
   "cell_type": "code",
   "execution_count": null,
   "metadata": {},
   "outputs": [],
   "source": []
  },
  {
   "cell_type": "code",
   "execution_count": null,
   "metadata": {},
   "outputs": [],
   "source": []
  },
  {
   "cell_type": "code",
   "execution_count": null,
   "metadata": {},
   "outputs": [],
   "source": [
    "\n",
    "for idx in range(len(grade_prices)-1):\n",
    "    specifics = grade_prices[idx].findAll('tr')\n",
    "\n",
    "    grade = specifics[0].findAll('td')[-1].contents[0]\n",
    "    most_recent_prices = specifics[1].findAll('td')[-1].contents[0]\n",
    "    average_price = specifics[2].findAll('td')[-1].contents[0]\n",
    "    smr_price = specifics[3].findAll('td')[-1].contents[0]\n",
    "    population = specifics[4].findAll('td')[-1].contents[0]\n",
    "    pop_higher = specifics[5].findAll('td')[-1].contents[0]\n",
    "    \n",
    "    print(idx, most_recent_prices, average_price, smr_price)\n",
    "    \n",
    "#     if str(most_recent_prices) != '—':\n",
    "#         parse_amount_details(most_recent_prices, global_identifiers, 'Most Recent Price')\n",
    "\n",
    "#     if str(average_price) != '—':\n",
    "#         parse_amount_details(average_price, global_identifiers, 'Average Price')\n",
    "\n",
    "#     if str(smr_price) != '—':\n",
    "#         parse_amount_details(most_recent_prices, global_identifiers, 'SMR Price' )"
   ]
  },
  {
   "cell_type": "code",
   "execution_count": null,
   "metadata": {},
   "outputs": [],
   "source": [
    "specifics = grade_prices[3].findAll('tr')\n",
    "grade = specifics[0].findAll('td')[-1].contents[0]\n",
    "most_recent_prices = specifics[1].findAll('td')[-1].contents[0]\n",
    "average_price = specifics[2].findAll('td')[-1].contents[0]\n",
    "smr_price = specifics[3].findAll('td')[-1].contents[0]\n",
    "population = specifics[4].findAll('td')[-1].contents[0]\n",
    "pop_higher = specifics[5].findAll('td')[-1].contents[0]"
   ]
  },
  {
   "cell_type": "code",
   "execution_count": null,
   "metadata": {},
   "outputs": [],
   "source": [
    "most_recent_prices"
   ]
  },
  {
   "cell_type": "code",
   "execution_count": null,
   "metadata": {},
   "outputs": [],
   "source": [
    "amount_arr = parse_amount_details(most_recent_prices, global_identifiers, 'Most Recent Price')"
   ]
  },
  {
   "cell_type": "code",
   "execution_count": null,
   "metadata": {},
   "outputs": [],
   "source": []
  },
  {
   "cell_type": "code",
   "execution_count": null,
   "metadata": {},
   "outputs": [],
   "source": []
  },
  {
   "cell_type": "code",
   "execution_count": null,
   "metadata": {},
   "outputs": [],
   "source": []
  },
  {
   "cell_type": "code",
   "execution_count": null,
   "metadata": {},
   "outputs": [],
   "source": []
  },
  {
   "cell_type": "code",
   "execution_count": null,
   "metadata": {},
   "outputs": [],
   "source": []
  },
  {
   "cell_type": "code",
   "execution_count": null,
   "metadata": {},
   "outputs": [],
   "source": [
    "global_identifiers"
   ]
  },
  {
   "cell_type": "code",
   "execution_count": null,
   "metadata": {},
   "outputs": [],
   "source": [
    "grade = specifics[0].findAll('td')[-1].contents[0]"
   ]
  },
  {
   "cell_type": "code",
   "execution_count": null,
   "metadata": {},
   "outputs": [],
   "source": [
    "grade_prices[12].findAll('tr')[1:].findAll('td')[-1]"
   ]
  },
  {
   "cell_type": "code",
   "execution_count": null,
   "metadata": {},
   "outputs": [],
   "source": [
    "name, url, count, category\n"
   ]
  },
  {
   "cell_type": "code",
   "execution_count": null,
   "metadata": {},
   "outputs": [],
   "source": [
    "CSV_FILE_PATH='logs/allauctionprices.csv'\n",
    "with open(CSV_FILE_PATH) as csvfile:\n",
    "    auction_items= csv.reader(csvfile, delimiter=',')\n",
    "    for row in auction_items:\n",
    "        try:\n",
    "            name, url, count, category = row\n",
    "            global_identifiers = [name, url, count, category]\n",
    "            driver = load_driver()\n",
    "            driver.get(url)\n",
    "            soup=BeautifulSoup(driver.page_source, features=\"lxml\")\n",
    "            grade_prices = soup.find_all(\"table\", attrs={\"class\": \"set-items-results\"})\n",
    "            unit = grade_prices[4]\n",
    "            specifics = unit.findAll('tr')\n",
    "            grade = specifics[0].findAll('td')[-1].contents[0]\n",
    "            most_recent_prices = specifics[1].findAll('td')[-1].contents[0]\n",
    "            average_price = specifics[2].findAll('td')[-1].contents[0]\n",
    "            smr_price = specifics[3].findAll('td')[-1].contents[0]\n",
    "            population = specifics[4].findAll('td')[-1].contents[0]\n",
    "            pop_higher = specifics[5].findAll('td')[-1].contents[0]\n",
    "\n",
    "            if str(most_recent_prices) != '—':\n",
    "                parse_amount_details(most_recent_prices, global_identifiers, 'Most Recent Price')\n",
    "\n",
    "            if str(average_price) != '—':\n",
    "                parse_amount_details(average_price, global_identifiers, 'Average Price')\n",
    "\n",
    "            if str(smr_price) != '—':\n",
    "                parse_amount_details(most_recent_prices, global_identifiers, 'SMR Price' )\n",
    "\n",
    "            driver.quit()\n",
    "        except:\n",
    "            print (\"Error ....\")\n"
   ]
  },
  {
   "cell_type": "code",
   "execution_count": null,
   "metadata": {},
   "outputs": [],
   "source": []
  },
  {
   "cell_type": "code",
   "execution_count": null,
   "metadata": {},
   "outputs": [],
   "source": []
  },
  {
   "cell_type": "code",
   "execution_count": null,
   "metadata": {},
   "outputs": [],
   "source": []
  },
  {
   "cell_type": "code",
   "execution_count": null,
   "metadata": {},
   "outputs": [],
   "source": []
  },
  {
   "cell_type": "code",
   "execution_count": null,
   "metadata": {},
   "outputs": [],
   "source": []
  },
  {
   "cell_type": "code",
   "execution_count": null,
   "metadata": {},
   "outputs": [],
   "source": []
  },
  {
   "cell_type": "code",
   "execution_count": null,
   "metadata": {},
   "outputs": [],
   "source": [
    "def main():\n",
    "    \n",
    "if __name__ == '__main__':\n",
    "    main()\n"
   ]
  }
 ],
 "metadata": {
  "kernelspec": {
   "display_name": "Python 3",
   "language": "python",
   "name": "python3"
  },
  "language_info": {
   "codemirror_mode": {
    "name": "ipython",
    "version": 3
   },
   "file_extension": ".py",
   "mimetype": "text/x-python",
   "name": "python",
   "nbconvert_exporter": "python",
   "pygments_lexer": "ipython3",
   "version": "3.7.6"
  }
 },
 "nbformat": 4,
 "nbformat_minor": 4
}
