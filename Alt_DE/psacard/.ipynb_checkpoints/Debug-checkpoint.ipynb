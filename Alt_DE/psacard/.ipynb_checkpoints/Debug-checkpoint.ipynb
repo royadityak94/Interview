{
 "cells": [
  {
   "cell_type": "code",
   "execution_count": 1,
   "metadata": {},
   "outputs": [],
   "source": [
    "from selenium import webdriver\n",
    "from bs4 import BeautifulSoup\n",
    "import csv\n",
    "import os\n",
    "import re"
   ]
  },
  {
   "cell_type": "code",
   "execution_count": 156,
   "metadata": {},
   "outputs": [],
   "source": [
    "def load_driver(SELENIUM_EXECUTABLE_PATH=r'/mnt/c/Users/adity/Downloads/Chrome/geckodriver-v0.27.0-win64/geckodriver.exe'):\n",
    "    driver = webdriver.Firefox(executable_path=SELENIUM_EXECUTABLE_PATH)\n",
    "    return driver\n",
    "\n",
    "def save_to_csv(data, SAVE_PATH, MODE):\n",
    "    with open(SAVE_PATH, MODE) as file:\n",
    "        fileWriter = csv.DictWriter(file, fieldnames=data[0].keys(), delimiter=',', quotechar='\"', quoting=csv.QUOTE_MINIMAL)\n",
    "\n",
    "        if not os.path.isfile(SAVE_PATH):\n",
    "            fileWriter.writeheader()\n",
    "        fileWriter.writerows(data)\n",
    "\n",
    "def parse_amount_details(rel_url, global_identifiers, tag='None', SAVE_PATH='logs/transaction.csv', MODE='a'):\n",
    "    BASE_PATH='https://www.psacard.com'\n",
    "    identifiers = rel_url['href'].split('/')[3:]\n",
    "    auction_name = identifiers[0]\n",
    "    auction_player = identifiers[1]\n",
    "    value = rel_url.text\n",
    "    summary_id = re.sub(r'#.*', '', identifiers[-1])\n",
    "\n",
    "    url = BASE_PATH + most_recent_prices['href']\n",
    "    driver = load_driver()\n",
    "    driver.get(url)\n",
    "    soup=BeautifulSoup(driver.page_source, features=\"lxml\")\n",
    "    all_details = soup.find_all(\"div\", attrs={\"class\": \"item-lots-summary\"})[0].find_all(\"div\", attrs={\"class\": \"item-row\"})\n",
    "    amount_arr = []\n",
    "    for fine_details in all_details[1:]:\n",
    "        specifics = {}\n",
    "        specifics['auction_name'] = auction_name\n",
    "        specifics['auction_player'] = auction_player\n",
    "        specifics['value'] = value\n",
    "        specifics['summary_id'] = summary_id\n",
    "        specifics['date'] = fine_details['data-date']\n",
    "        specifics['price'] = fine_details['data-price']\n",
    "        specifics['grade'] = fine_details['data-gradevalue']\n",
    "        specifics['lot_number'] = fine_details['data-lot']\n",
    "        specifics['auction_house'] = fine_details['data-auctionhouse']\n",
    "        specifics['auction_seller'] = fine_details['data-auctionname']\n",
    "        specifics['auction_type'] = fine_details['data-auctiontype']\n",
    "        specifics['cert'] = fine_details['data-cert']\n",
    "        specifics['tag'] = tag\n",
    "\n",
    "        specifics['fk_name'], specifics['fk_url'], specifics['fk_count'], specifics['fk_category'] = global_identifiers\n",
    "        amount_arr.append(specifics)\n",
    "\n",
    "    # Save to File\n",
    "    return amount_arr\n",
    "    print (\">\", amount_arr)\n",
    "    save_to_csv(amount_arr, SAVE_PATH, MODE)\n",
    "    driver.quit()\n",
    "    return"
   ]
  },
  {
   "cell_type": "code",
   "execution_count": 158,
   "metadata": {},
   "outputs": [],
   "source": [
    "# amount_arr = parse_amount_details(most_recent_prices, global_identifiers, 'Most Recent Price')"
   ]
  },
  {
   "cell_type": "code",
   "execution_count": 159,
   "metadata": {},
   "outputs": [],
   "source": [
    "save_to_csv(amount_arr, 'logs/transaction.csv', 'a')"
   ]
  },
  {
   "cell_type": "code",
   "execution_count": null,
   "metadata": {},
   "outputs": [],
   "source": []
  },
  {
   "cell_type": "code",
   "execution_count": 152,
   "metadata": {},
   "outputs": [],
   "source": [
    "def save_to_csv(data, SAVE_PATH, MODE):\n",
    "    flag = 0\n",
    "    if not os.path.exists(SAVE_PATH.split('/')[0]):\n",
    "        os.makedirs(SAVE_PATH.split('/')[0])\n",
    "        flag = 1\n",
    "\n",
    "    fileWriter = csv.DictWriter(open(SAVE_PATH, MODE), fieldnames=data[0].keys(), delimiter=',', quotechar='\"', quoting=csv.QUOTE_MINIMAL)\n",
    "\n",
    "    with open(SAVE_PATH, MODE) as file:\n",
    "        fileWriter = csv.DictWriter(file, delimiter=',', quotechar='\"', quoting=csv.QUOTE_MINIMAL)\n",
    "\n",
    "    if flag == 1:\n",
    "        fileWriter.writeheader()\n",
    "    fileWriter.writerows(data)"
   ]
  },
  {
   "cell_type": "code",
   "execution_count": null,
   "metadata": {},
   "outputs": [],
   "source": []
  },
  {
   "cell_type": "code",
   "execution_count": 147,
   "metadata": {},
   "outputs": [
    {
     "data": {
      "text/plain": [
       "[{'auction_name': 'skybox-usa-basketball',\n",
       "  'auction_player': 'shawn-kemp',\n",
       "  'value': '$10.94',\n",
       "  'summary_id': '2684176',\n",
       "  'date': '5/25/2020',\n",
       "  'price': '8.00',\n",
       "  'grade': '7',\n",
       "  'lot_number': '223609872386',\n",
       "  'auction_house': 'eBay',\n",
       "  'auction_seller': 'yesterdayskards',\n",
       "  'auction_type': 'Buy It Now',\n",
       "  'cert': '42469487',\n",
       "  'tag': 'Most Recent Price',\n",
       "  'fk_name': '1948 Topps Magic Photos All-American Basketball Murray Wier #2B All American Basketball',\n",
       "  'fk_url': 'https://www.psacard.com/auctionprices/basketball-cards/1994-skybox-usa-basketball/shawn-kemp/summary/2684176',\n",
       "  'fk_count': '2',\n",
       "  'fk_category': 'basketball_cards'}]"
      ]
     },
     "execution_count": 147,
     "metadata": {},
     "output_type": "execute_result"
    }
   ],
   "source": [
    "amount_arr"
   ]
  },
  {
   "cell_type": "code",
   "execution_count": null,
   "metadata": {},
   "outputs": [],
   "source": []
  },
  {
   "cell_type": "code",
   "execution_count": 4,
   "metadata": {},
   "outputs": [
    {
     "name": "stdout",
     "output_type": "stream",
     "text": [
      "['name', 'url', 'count', 'category']\n",
      "['1948 Topps Magic Photos All-American Basketball Murray Wier #2B All American Basketball', 'https://www.psacard.com/auctionprices/basketball-cards/1948-topps-magic-photos-all-american-basketball/murray-wier/summary/633272', '2', 'basketball_cards']\n"
     ]
    }
   ],
   "source": [
    "CSV_FILE_PATH='logs/allauctionprices.csv'\n",
    "with open(CSV_FILE_PATH) as csvfile:\n",
    "    auction_items= csv.reader(csvfile, delimiter=',')\n",
    "    cnt = 0\n",
    "    for row in auction_items:\n",
    "        print(row)\n",
    "        cnt += 1\n",
    "        if cnt == 2:\n",
    "            break"
   ]
  },
  {
   "cell_type": "code",
   "execution_count": 5,
   "metadata": {},
   "outputs": [
    {
     "data": {
      "text/plain": [
       "['1948 Topps Magic Photos All-American Basketball Murray Wier #2B All American Basketball',\n",
       " 'https://www.psacard.com/auctionprices/basketball-cards/1948-topps-magic-photos-all-american-basketball/murray-wier/summary/633272',\n",
       " '2',\n",
       " 'basketball_cards']"
      ]
     },
     "execution_count": 5,
     "metadata": {},
     "output_type": "execute_result"
    }
   ],
   "source": [
    "row"
   ]
  },
  {
   "cell_type": "code",
   "execution_count": 15,
   "metadata": {},
   "outputs": [],
   "source": [
    "name, url, count, category = row\n",
    "url = 'https://www.psacard.com/auctionprices/basketball-cards/1994-skybox-usa-basketball/shawn-kemp/summary/2684176'\n",
    "global_identifiers = [name, url, count, category]\n",
    "driver = load_driver()\n",
    "driver.get(url)\n",
    "soup=BeautifulSoup(driver.page_source, features=\"lxml\")\n",
    "grade_prices = soup.find_all(\"table\", attrs={\"class\": \"set-items-results\"})"
   ]
  },
  {
   "cell_type": "code",
   "execution_count": 37,
   "metadata": {},
   "outputs": [
    {
     "ename": "IndexError",
     "evalue": "list index out of range",
     "output_type": "error",
     "traceback": [
      "\u001b[0;31m---------------------------------------------------------------------------\u001b[0m",
      "\u001b[0;31mIndexError\u001b[0m                                Traceback (most recent call last)",
      "\u001b[0;32m<ipython-input-37-4a40f610a161>\u001b[0m in \u001b[0;36m<module>\u001b[0;34m\u001b[0m\n\u001b[1;32m      1\u001b[0m \u001b[0;32mfor\u001b[0m \u001b[0munit\u001b[0m \u001b[0;32min\u001b[0m \u001b[0mgrade_prices\u001b[0m\u001b[0;34m[\u001b[0m\u001b[0;36m1\u001b[0m\u001b[0;34m:\u001b[0m\u001b[0;34m]\u001b[0m\u001b[0;34m:\u001b[0m\u001b[0;34m\u001b[0m\u001b[0;34m\u001b[0m\u001b[0m\n\u001b[1;32m      2\u001b[0m     \u001b[0mspecifics\u001b[0m \u001b[0;34m=\u001b[0m \u001b[0munit\u001b[0m\u001b[0;34m.\u001b[0m\u001b[0mfindAll\u001b[0m\u001b[0;34m(\u001b[0m\u001b[0;34m'tr'\u001b[0m\u001b[0;34m)\u001b[0m\u001b[0;34m\u001b[0m\u001b[0;34m\u001b[0m\u001b[0m\n\u001b[0;32m----> 3\u001b[0;31m     \u001b[0mgrade\u001b[0m \u001b[0;34m=\u001b[0m \u001b[0mspecifics\u001b[0m\u001b[0;34m[\u001b[0m\u001b[0;36m0\u001b[0m\u001b[0;34m]\u001b[0m\u001b[0;34m.\u001b[0m\u001b[0mfindAll\u001b[0m\u001b[0;34m(\u001b[0m\u001b[0;34m'td'\u001b[0m\u001b[0;34m)\u001b[0m\u001b[0;34m[\u001b[0m\u001b[0;34m-\u001b[0m\u001b[0;36m1\u001b[0m\u001b[0;34m]\u001b[0m\u001b[0;34m.\u001b[0m\u001b[0mcontents\u001b[0m\u001b[0;34m[\u001b[0m\u001b[0;36m0\u001b[0m\u001b[0;34m]\u001b[0m\u001b[0;34m\u001b[0m\u001b[0;34m\u001b[0m\u001b[0m\n\u001b[0m\u001b[1;32m      4\u001b[0m     \u001b[0mmost_recent_prices\u001b[0m \u001b[0;34m=\u001b[0m \u001b[0mspecifics\u001b[0m\u001b[0;34m[\u001b[0m\u001b[0;36m1\u001b[0m\u001b[0;34m]\u001b[0m\u001b[0;34m.\u001b[0m\u001b[0mfindAll\u001b[0m\u001b[0;34m(\u001b[0m\u001b[0;34m'td'\u001b[0m\u001b[0;34m)\u001b[0m\u001b[0;34m[\u001b[0m\u001b[0;34m-\u001b[0m\u001b[0;36m1\u001b[0m\u001b[0;34m]\u001b[0m\u001b[0;34m.\u001b[0m\u001b[0mcontents\u001b[0m\u001b[0;34m[\u001b[0m\u001b[0;36m0\u001b[0m\u001b[0;34m]\u001b[0m\u001b[0;34m\u001b[0m\u001b[0;34m\u001b[0m\u001b[0m\n\u001b[1;32m      5\u001b[0m     \u001b[0maverage_price\u001b[0m \u001b[0;34m=\u001b[0m \u001b[0mspecifics\u001b[0m\u001b[0;34m[\u001b[0m\u001b[0;36m2\u001b[0m\u001b[0;34m]\u001b[0m\u001b[0;34m.\u001b[0m\u001b[0mfindAll\u001b[0m\u001b[0;34m(\u001b[0m\u001b[0;34m'td'\u001b[0m\u001b[0;34m)\u001b[0m\u001b[0;34m[\u001b[0m\u001b[0;34m-\u001b[0m\u001b[0;36m1\u001b[0m\u001b[0;34m]\u001b[0m\u001b[0;34m.\u001b[0m\u001b[0mcontents\u001b[0m\u001b[0;34m[\u001b[0m\u001b[0;36m0\u001b[0m\u001b[0;34m]\u001b[0m\u001b[0;34m\u001b[0m\u001b[0;34m\u001b[0m\u001b[0m\n",
      "\u001b[0;31mIndexError\u001b[0m: list index out of range"
     ]
    }
   ],
   "source": [
    "for unit in grade_prices:\n",
    "    specifics = unit.findAll('tr')\n",
    "    grade = specifics[0].findAll('td')[-1].contents[0]\n",
    "    most_recent_prices = specifics[1].findAll('td')[-1].contents[0]\n",
    "    average_price = specifics[2].findAll('td')[-1].contents[0]\n",
    "    smr_price = specifics[3].findAll('td')[-1].contents[0]\n",
    "    population = specifics[4].findAll('td')[-1].contents[0]\n",
    "    pop_higher = specifics[5].findAll('td')[-1].contents[0]\n",
    "\n",
    "    if str(most_recent_prices) != '—':\n",
    "        parse_amount_details(most_recent_prices, global_identifiers, 'Most Recent Price')\n",
    "\n",
    "    if str(average_price) != '—':\n",
    "        parse_amount_details(average_price, global_identifiers, 'Average Price')\n",
    "\n",
    "    if str(smr_price) != '—':\n",
    "        parse_amount_details(most_recent_prices, global_identifiers, 'SMR Price' )"
   ]
  },
  {
   "cell_type": "code",
   "execution_count": 125,
   "metadata": {},
   "outputs": [
    {
     "name": "stdout",
     "output_type": "stream",
     "text": [
      "0 — — —\n",
      "1 — — —\n",
      "2 — — —\n",
      "3 <a href=\"/auctionprices/basketball-cards/skybox-usa-basketball/shawn-kemp/values/2684176#g=7\">$10.94</a> <a href=\"/auctionprices/basketball-cards/skybox-usa-basketball/shawn-kemp/values/2684176#g=7\">$10.94</a> —\n",
      "4 — — —\n",
      "5 — — —\n",
      "6 — — —\n",
      "7 — — —\n",
      "8 — — —\n",
      "9 — — —\n",
      "10 — — —\n",
      "11 — — —\n"
     ]
    }
   ],
   "source": [
    "\n",
    "for idx in range(len(grade_prices)-1):\n",
    "    specifics = grade_prices[idx].findAll('tr')\n",
    "\n",
    "    grade = specifics[0].findAll('td')[-1].contents[0]\n",
    "    most_recent_prices = specifics[1].findAll('td')[-1].contents[0]\n",
    "    average_price = specifics[2].findAll('td')[-1].contents[0]\n",
    "    smr_price = specifics[3].findAll('td')[-1].contents[0]\n",
    "    population = specifics[4].findAll('td')[-1].contents[0]\n",
    "    pop_higher = specifics[5].findAll('td')[-1].contents[0]\n",
    "    \n",
    "    print(idx, most_recent_prices, average_price, smr_price)\n",
    "    \n",
    "#     if str(most_recent_prices) != '—':\n",
    "#         parse_amount_details(most_recent_prices, global_identifiers, 'Most Recent Price')\n",
    "\n",
    "#     if str(average_price) != '—':\n",
    "#         parse_amount_details(average_price, global_identifiers, 'Average Price')\n",
    "\n",
    "#     if str(smr_price) != '—':\n",
    "#         parse_amount_details(most_recent_prices, global_identifiers, 'SMR Price' )"
   ]
  },
  {
   "cell_type": "code",
   "execution_count": 140,
   "metadata": {},
   "outputs": [],
   "source": [
    "specifics = grade_prices[3].findAll('tr')\n",
    "grade = specifics[0].findAll('td')[-1].contents[0]\n",
    "most_recent_prices = specifics[1].findAll('td')[-1].contents[0]\n",
    "average_price = specifics[2].findAll('td')[-1].contents[0]\n",
    "smr_price = specifics[3].findAll('td')[-1].contents[0]\n",
    "population = specifics[4].findAll('td')[-1].contents[0]\n",
    "pop_higher = specifics[5].findAll('td')[-1].contents[0]"
   ]
  },
  {
   "cell_type": "code",
   "execution_count": 132,
   "metadata": {},
   "outputs": [
    {
     "data": {
      "text/plain": [
       "<a href=\"/auctionprices/basketball-cards/skybox-usa-basketball/shawn-kemp/values/2684176#g=7\">$10.94</a>"
      ]
     },
     "execution_count": 132,
     "metadata": {},
     "output_type": "execute_result"
    }
   ],
   "source": [
    "most_recent_prices"
   ]
  },
  {
   "cell_type": "code",
   "execution_count": 146,
   "metadata": {},
   "outputs": [],
   "source": [
    "amount_arr = parse_amount_details(most_recent_prices, global_identifiers, 'Most Recent Price')"
   ]
  },
  {
   "cell_type": "code",
   "execution_count": null,
   "metadata": {},
   "outputs": [],
   "source": []
  },
  {
   "cell_type": "code",
   "execution_count": null,
   "metadata": {},
   "outputs": [],
   "source": []
  },
  {
   "cell_type": "code",
   "execution_count": null,
   "metadata": {},
   "outputs": [],
   "source": []
  },
  {
   "cell_type": "code",
   "execution_count": null,
   "metadata": {},
   "outputs": [],
   "source": []
  },
  {
   "cell_type": "code",
   "execution_count": null,
   "metadata": {},
   "outputs": [],
   "source": []
  },
  {
   "cell_type": "code",
   "execution_count": 131,
   "metadata": {},
   "outputs": [
    {
     "data": {
      "text/plain": [
       "['1948 Topps Magic Photos All-American Basketball Murray Wier #2B All American Basketball',\n",
       " 'https://www.psacard.com/auctionprices/basketball-cards/1994-skybox-usa-basketball/shawn-kemp/summary/2684176',\n",
       " '2',\n",
       " 'basketball_cards']"
      ]
     },
     "execution_count": 131,
     "metadata": {},
     "output_type": "execute_result"
    }
   ],
   "source": [
    "global_identifiers"
   ]
  },
  {
   "cell_type": "code",
   "execution_count": 77,
   "metadata": {},
   "outputs": [
    {
     "ename": "AttributeError",
     "evalue": "ResultSet object has no attribute 'findAll'. You're probably treating a list of elements like a single element. Did you call find_all() when you meant to call find()?",
     "output_type": "error",
     "traceback": [
      "\u001b[0;31m---------------------------------------------------------------------------\u001b[0m",
      "\u001b[0;31mAttributeError\u001b[0m                            Traceback (most recent call last)",
      "\u001b[0;32m<ipython-input-77-987bfe24b1d5>\u001b[0m in \u001b[0;36m<module>\u001b[0;34m\u001b[0m\n\u001b[0;32m----> 1\u001b[0;31m \u001b[0mgrade\u001b[0m \u001b[0;34m=\u001b[0m \u001b[0mgrade_prices\u001b[0m\u001b[0;34m[\u001b[0m\u001b[0;36m12\u001b[0m\u001b[0;34m]\u001b[0m\u001b[0;34m.\u001b[0m\u001b[0mfindAll\u001b[0m\u001b[0;34m(\u001b[0m\u001b[0;34m'tr'\u001b[0m\u001b[0;34m)\u001b[0m\u001b[0;34m.\u001b[0m\u001b[0mfindAll\u001b[0m\u001b[0;34m(\u001b[0m\u001b[0;34m'td'\u001b[0m\u001b[0;34m)\u001b[0m\u001b[0;34m[\u001b[0m\u001b[0;34m-\u001b[0m\u001b[0;36m1\u001b[0m\u001b[0;34m]\u001b[0m\u001b[0;34m.\u001b[0m\u001b[0mcontents\u001b[0m\u001b[0;34m[\u001b[0m\u001b[0;36m0\u001b[0m\u001b[0;34m]\u001b[0m\u001b[0;34m\u001b[0m\u001b[0;34m\u001b[0m\u001b[0m\n\u001b[0m",
      "\u001b[0;32m~/anaconda3/lib/python3.7/site-packages/bs4/element.py\u001b[0m in \u001b[0;36m__getattr__\u001b[0;34m(self, key)\u001b[0m\n\u001b[1;32m   2079\u001b[0m         \u001b[0;34m\"\"\"Raise a helpful exception to explain a common code fix.\"\"\"\u001b[0m\u001b[0;34m\u001b[0m\u001b[0;34m\u001b[0m\u001b[0m\n\u001b[1;32m   2080\u001b[0m         raise AttributeError(\n\u001b[0;32m-> 2081\u001b[0;31m             \u001b[0;34m\"ResultSet object has no attribute '%s'. You're probably treating a list of elements like a single element. Did you call find_all() when you meant to call find()?\"\u001b[0m \u001b[0;34m%\u001b[0m \u001b[0mkey\u001b[0m\u001b[0;34m\u001b[0m\u001b[0;34m\u001b[0m\u001b[0m\n\u001b[0m\u001b[1;32m   2082\u001b[0m         )\n",
      "\u001b[0;31mAttributeError\u001b[0m: ResultSet object has no attribute 'findAll'. You're probably treating a list of elements like a single element. Did you call find_all() when you meant to call find()?"
     ]
    }
   ],
   "source": [
    "grade = specifics[0].findAll('td')[-1].contents[0]"
   ]
  },
  {
   "cell_type": "code",
   "execution_count": 79,
   "metadata": {},
   "outputs": [
    {
     "ename": "AttributeError",
     "evalue": "'list' object has no attribute 'findAll'",
     "output_type": "error",
     "traceback": [
      "\u001b[0;31m---------------------------------------------------------------------------\u001b[0m",
      "\u001b[0;31mAttributeError\u001b[0m                            Traceback (most recent call last)",
      "\u001b[0;32m<ipython-input-79-f2d2601ef471>\u001b[0m in \u001b[0;36m<module>\u001b[0;34m\u001b[0m\n\u001b[0;32m----> 1\u001b[0;31m \u001b[0mgrade_prices\u001b[0m\u001b[0;34m[\u001b[0m\u001b[0;36m12\u001b[0m\u001b[0;34m]\u001b[0m\u001b[0;34m.\u001b[0m\u001b[0mfindAll\u001b[0m\u001b[0;34m(\u001b[0m\u001b[0;34m'tr'\u001b[0m\u001b[0;34m)\u001b[0m\u001b[0;34m[\u001b[0m\u001b[0;36m1\u001b[0m\u001b[0;34m:\u001b[0m\u001b[0;34m]\u001b[0m\u001b[0;34m.\u001b[0m\u001b[0mfindAll\u001b[0m\u001b[0;34m(\u001b[0m\u001b[0;34m'td'\u001b[0m\u001b[0;34m)\u001b[0m\u001b[0;34m[\u001b[0m\u001b[0;34m-\u001b[0m\u001b[0;36m1\u001b[0m\u001b[0;34m]\u001b[0m\u001b[0;34m\u001b[0m\u001b[0;34m\u001b[0m\u001b[0m\n\u001b[0m",
      "\u001b[0;31mAttributeError\u001b[0m: 'list' object has no attribute 'findAll'"
     ]
    }
   ],
   "source": [
    "grade_prices[12].findAll('tr')[1:].findAll('td')[-1]"
   ]
  },
  {
   "cell_type": "code",
   "execution_count": null,
   "metadata": {},
   "outputs": [],
   "source": [
    "name, url, count, category\n"
   ]
  },
  {
   "cell_type": "code",
   "execution_count": null,
   "metadata": {},
   "outputs": [],
   "source": [
    "CSV_FILE_PATH='logs/allauctionprices.csv'\n",
    "with open(CSV_FILE_PATH) as csvfile:\n",
    "    auction_items= csv.reader(csvfile, delimiter=',')\n",
    "    for row in auction_items:\n",
    "        try:\n",
    "            name, url, count, category = row\n",
    "            global_identifiers = [name, url, count, category]\n",
    "            driver = load_driver()\n",
    "            driver.get(url)\n",
    "            soup=BeautifulSoup(driver.page_source, features=\"lxml\")\n",
    "            grade_prices = soup.find_all(\"table\", attrs={\"class\": \"set-items-results\"})\n",
    "            unit = grade_prices[4]\n",
    "            specifics = unit.findAll('tr')\n",
    "            grade = specifics[0].findAll('td')[-1].contents[0]\n",
    "            most_recent_prices = specifics[1].findAll('td')[-1].contents[0]\n",
    "            average_price = specifics[2].findAll('td')[-1].contents[0]\n",
    "            smr_price = specifics[3].findAll('td')[-1].contents[0]\n",
    "            population = specifics[4].findAll('td')[-1].contents[0]\n",
    "            pop_higher = specifics[5].findAll('td')[-1].contents[0]\n",
    "\n",
    "            if str(most_recent_prices) != '—':\n",
    "                parse_amount_details(most_recent_prices, global_identifiers, 'Most Recent Price')\n",
    "\n",
    "            if str(average_price) != '—':\n",
    "                parse_amount_details(average_price, global_identifiers, 'Average Price')\n",
    "\n",
    "            if str(smr_price) != '—':\n",
    "                parse_amount_details(most_recent_prices, global_identifiers, 'SMR Price' )\n",
    "\n",
    "            driver.quit()\n",
    "        except:\n",
    "            print (\"Error ....\")\n"
   ]
  },
  {
   "cell_type": "code",
   "execution_count": null,
   "metadata": {},
   "outputs": [],
   "source": []
  },
  {
   "cell_type": "code",
   "execution_count": null,
   "metadata": {},
   "outputs": [],
   "source": []
  },
  {
   "cell_type": "code",
   "execution_count": null,
   "metadata": {},
   "outputs": [],
   "source": []
  },
  {
   "cell_type": "code",
   "execution_count": null,
   "metadata": {},
   "outputs": [],
   "source": []
  },
  {
   "cell_type": "code",
   "execution_count": null,
   "metadata": {},
   "outputs": [],
   "source": []
  },
  {
   "cell_type": "code",
   "execution_count": null,
   "metadata": {},
   "outputs": [],
   "source": []
  },
  {
   "cell_type": "code",
   "execution_count": null,
   "metadata": {},
   "outputs": [],
   "source": [
    "def main():\n",
    "    \n",
    "if __name__ == '__main__':\n",
    "    main()\n"
   ]
  }
 ],
 "metadata": {
  "kernelspec": {
   "display_name": "Python 3",
   "language": "python",
   "name": "python3"
  },
  "language_info": {
   "codemirror_mode": {
    "name": "ipython",
    "version": 3
   },
   "file_extension": ".py",
   "mimetype": "text/x-python",
   "name": "python",
   "nbconvert_exporter": "python",
   "pygments_lexer": "ipython3",
   "version": "3.7.6"
  }
 },
 "nbformat": 4,
 "nbformat_minor": 4
}
