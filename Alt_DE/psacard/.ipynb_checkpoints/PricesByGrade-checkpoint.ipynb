{
 "cells": [
  {
   "cell_type": "code",
   "execution_count": 345,
   "metadata": {},
   "outputs": [],
   "source": [
    "import pandas as pd\n",
    "from selenium import webdriver\n",
    "from bs4 import BeautifulSoup\n",
    "import csv\n",
    "import os\n",
    "import re"
   ]
  },
  {
   "cell_type": "code",
   "execution_count": 610,
   "metadata": {},
   "outputs": [],
   "source": [
    "def save_to_csv(data, SAVE_PATH, MODE):\n",
    "    if not os.path.exists(SAVE_PATH.split('/')[0]):\n",
    "        os.makedirs(SAVE_PATH.split('/')[0])\n",
    "\n",
    "    fileWriter = csv.DictWriter(open(SAVE_PATH, MODE), data[0].keys(), delimiter=',', quotechar='\"', quoting=csv.QUOTE_MINIMAL)\n",
    "    fileWriter.writerows(data)\n",
    "    \n",
    "def parse_population_details(population, SAVE_PATH='logs/population_report.csv', MODE='a'):\n",
    "    rel_url = population['href'].split('/')[3:]\n",
    "    auction_year = rel_url[0]\n",
    "    population_id = rel_url[-1]\n",
    "    url = BASE_PATH + population['href']\n",
    "    driver.get(url)\n",
    "    soup=BeautifulSoup(driver.page_source)\n",
    "    all_details = soup.find_all(\"div\", attrs={\"class\": \"dataTables_wrapper\"})[0]\n",
    "\n",
    "    population_arr = []\n",
    "    for row in all_details.findAll('tr')[1:]:\n",
    "        try:\n",
    "            population_row = {}\n",
    "            all_td = row.findAll('td')[1:]\n",
    "            metrices = [th.text.strip() for th in all_details.findAll('th')[3:]]\n",
    "            auction_meta = str(all_td[0])\n",
    "            population_row['auction_player'] = auction_meta[auction_meta.index('<strong>')+len('<strong>'):auction_meta.index('</strong>')].strip()\n",
    "            population_row['auction_league'] = auction_meta[auction_meta.index('<br/>')+8: auction_meta.index('<span')-3].strip()\n",
    "            population_row['population_id'] = population_id\n",
    "            population_row['auction_year'] = auction_year\n",
    "            \n",
    "\n",
    "            # Collecting all metrices for the player\n",
    "            idx = 0\n",
    "            for item in all_td[2:]:\n",
    "                cells = item.findAll('span')\n",
    "                population_row[metrices[idx]] = {'Grade': cells[0].contents[0], '+': cells[1].contents[0], 'Q': cells[2].contents[0]}\n",
    "                idx += 1\n",
    "            population_arr.append(population_row)\n",
    "        except:\n",
    "            continue\n",
    "    \n",
    "    # Append to the csv file \n",
    "    save_to_csv(population_arr, SAVE_PATH, MODE)\n",
    "    return\n",
    "    \n",
    "def parse_amount_details(rel_url, tag='None', SAVE_PATH='logs/transaction.csv', MODE='a'):\n",
    "    identifiers = rel_url['href'].split('/')[3:]\n",
    "    auction_name = identifiers[0]\n",
    "    auction_player = identifiers[1]\n",
    "    value = rel_url.text\n",
    "    summary_id = re.sub(r'#.*', '', identifiers[-1])\n",
    "    \n",
    "    url = BASE_PATH + most_recent_prices['href']\n",
    "    driver.get(url)\n",
    "    soup=BeautifulSoup(driver.page_source)\n",
    "    all_details = soup.find_all(\"div\", attrs={\"class\": \"item-lots-summary\"})[0].find_all(\"div\", attrs={\"class\": \"item-row\"})\n",
    "    amount_arr = []\n",
    "    for fine_details in all_details[1:]:\n",
    "        specifics = {}\n",
    "        specifics['auction_name'] = auction_name\n",
    "        specifics['auction_player'] = auction_player\n",
    "        specifics['value'] = value \n",
    "        specifics['summary_id'] = summary_id\n",
    "        specifics['date'] = fine_details['data-date']\n",
    "        specifics['price'] = fine_details['data-price']\n",
    "        specifics['grade'] = fine_details['data-gradevalue']\n",
    "        specifics['lot_number'] = fine_details['data-lot']\n",
    "        specifics['auction_house'] = fine_details['data-auctionhouse']\n",
    "        specifics['auction_seller'] = fine_details['data-auctionname']\n",
    "        specifics['auction_type'] = fine_details['data-auctiontype']\n",
    "        specifics['cert'] = fine_details['data-cert']\n",
    "        specifics['tag'] = tag\n",
    "        amount_arr.append(specifics)\n",
    "        \n",
    "    # Save to File\n",
    "    save_to_csv(amount_arr, SAVE_PATH, MODE)\n",
    "    return"
   ]
  },
  {
   "cell_type": "code",
   "execution_count": null,
   "metadata": {},
   "outputs": [],
   "source": [
    "SELENIUM_EXECUTABLE_PATH=r'/mnt/c/Users/adity/Downloads/Chrome/geckodriver-v0.27.0-win64/geckodriver.exe'\n",
    "BASE_PATH='https://www.psacard.com'\n",
    "AUCTION_PRICES_PATH=BASE_PATH + '/auctionprices/#2basketball%20cards%7Cbasketb'\n",
    "SAVE_PATH='logs/allauctionprices.csv'"
   ]
  },
  {
   "cell_type": "code",
   "execution_count": 83,
   "metadata": {},
   "outputs": [],
   "source": [
    "# Read the csv file\n",
    "auction_items = csv.reader(SAVE_PATH, delimiter=',')"
   ]
  },
  {
   "cell_type": "code",
   "execution_count": 544,
   "metadata": {},
   "outputs": [],
   "source": [
    "# Read the csv file\n",
    "with open(SAVE_PATH) as csvfile:\n",
    "    auction_items= csv.reader(csvfile, delimiter=',')\n",
    "    for row in auction_items:\n",
    "        exit"
   ]
  },
  {
   "cell_type": "code",
   "execution_count": 611,
   "metadata": {},
   "outputs": [
    {
     "ename": "TypeError",
     "evalue": "string indices must be integers",
     "output_type": "error",
     "traceback": [
      "\u001b[0;31m---------------------------------------------------------------------------\u001b[0m",
      "\u001b[0;31mTypeError\u001b[0m                                 Traceback (most recent call last)",
      "\u001b[0;32m<ipython-input-611-cdb1191268a1>\u001b[0m in \u001b[0;36m<module>\u001b[0;34m\u001b[0m\n\u001b[1;32m     22\u001b[0m \u001b[0;34m\u001b[0m\u001b[0m\n\u001b[1;32m     23\u001b[0m \u001b[0;32mif\u001b[0m \u001b[0mstr\u001b[0m\u001b[0;34m(\u001b[0m\u001b[0mpopulation\u001b[0m\u001b[0;34m)\u001b[0m \u001b[0;34m!=\u001b[0m \u001b[0;34m'—'\u001b[0m\u001b[0;34m:\u001b[0m\u001b[0;34m\u001b[0m\u001b[0;34m\u001b[0m\u001b[0m\n\u001b[0;32m---> 24\u001b[0;31m     \u001b[0mparse_population_details\u001b[0m\u001b[0;34m(\u001b[0m\u001b[0mpopulation\u001b[0m\u001b[0;34m,\u001b[0m \u001b[0;34m'Most Recent Prices'\u001b[0m\u001b[0;34m)\u001b[0m\u001b[0;34m\u001b[0m\u001b[0;34m\u001b[0m\u001b[0m\n\u001b[0m",
      "\u001b[0;32m<ipython-input-610-dee1715a669e>\u001b[0m in \u001b[0;36mparse_population_details\u001b[0;34m(url, population, SAVE_PATH, MODE)\u001b[0m\n\u001b[1;32m      7\u001b[0m \u001b[0;34m\u001b[0m\u001b[0m\n\u001b[1;32m      8\u001b[0m \u001b[0;32mdef\u001b[0m \u001b[0mparse_population_details\u001b[0m\u001b[0;34m(\u001b[0m\u001b[0murl\u001b[0m\u001b[0;34m,\u001b[0m \u001b[0mpopulation\u001b[0m\u001b[0;34m,\u001b[0m \u001b[0mSAVE_PATH\u001b[0m\u001b[0;34m=\u001b[0m\u001b[0;34m'logs/population_report.csv'\u001b[0m\u001b[0;34m,\u001b[0m \u001b[0mMODE\u001b[0m\u001b[0;34m=\u001b[0m\u001b[0;34m'a'\u001b[0m\u001b[0;34m)\u001b[0m\u001b[0;34m:\u001b[0m\u001b[0;34m\u001b[0m\u001b[0;34m\u001b[0m\u001b[0m\n\u001b[0;32m----> 9\u001b[0;31m     \u001b[0mrel_url\u001b[0m \u001b[0;34m=\u001b[0m \u001b[0mpopulation\u001b[0m\u001b[0;34m[\u001b[0m\u001b[0;34m'href'\u001b[0m\u001b[0;34m]\u001b[0m\u001b[0;34m.\u001b[0m\u001b[0msplit\u001b[0m\u001b[0;34m(\u001b[0m\u001b[0;34m'/'\u001b[0m\u001b[0;34m)\u001b[0m\u001b[0;34m[\u001b[0m\u001b[0;36m3\u001b[0m\u001b[0;34m:\u001b[0m\u001b[0;34m]\u001b[0m\u001b[0;34m\u001b[0m\u001b[0;34m\u001b[0m\u001b[0m\n\u001b[0m\u001b[1;32m     10\u001b[0m     \u001b[0mauction_year\u001b[0m \u001b[0;34m=\u001b[0m \u001b[0mrel_url\u001b[0m\u001b[0;34m[\u001b[0m\u001b[0;36m0\u001b[0m\u001b[0;34m]\u001b[0m\u001b[0;34m\u001b[0m\u001b[0;34m\u001b[0m\u001b[0m\n\u001b[1;32m     11\u001b[0m     \u001b[0mpopulation_id\u001b[0m \u001b[0;34m=\u001b[0m \u001b[0mrel_url\u001b[0m\u001b[0;34m[\u001b[0m\u001b[0;34m-\u001b[0m\u001b[0;36m1\u001b[0m\u001b[0;34m]\u001b[0m\u001b[0;34m\u001b[0m\u001b[0;34m\u001b[0m\u001b[0m\n",
      "\u001b[0;31mTypeError\u001b[0m: string indices must be integers"
     ]
    }
   ],
   "source": [
    "name, url, count = row\n",
    "driver.get(url)\n",
    "soup=BeautifulSoup(driver.page_source)\n",
    "grade_prices = soup.find_all(\"table\", attrs={\"class\": \"set-items-results\"})\n",
    "unit = grade_prices[4]\n",
    "specifics = unit.findAll('tr')\n",
    "grade = specifics[0].findAll('td')[-1].contents[0]\n",
    "most_recent_prices = specifics[1].findAll('td')[-1].contents[0]\n",
    "average_price = specifics[2].findAll('td')[-1].contents[0]\n",
    "smr_price = specifics[3].findAll('td')[-1].contents[0]\n",
    "population = specifics[4].findAll('td')[-1].contents[0]\n",
    "pop_higher = specifics[5].findAll('td')[-1].contents[0]\n",
    "\n",
    "# if str(most_recent_prices) != '—':\n",
    "#     parse_amount_details(most_recent_prices, 'Most Recent Price')\n",
    "    \n",
    "# if str(average_price) != '—':\n",
    "#     parse_amount_details(average_price, 'Average Price')\n",
    "    \n",
    "# if str(smr_price) != '—':\n",
    "#     parse_amount_details(most_recent_prices, 'SMR Price' )\n",
    "    \n",
    "if str(population) != '—':\n",
    "    parse_population_details(population, 'Most Recent Prices')"
   ]
  },
  {
   "cell_type": "code",
   "execution_count": 609,
   "metadata": {},
   "outputs": [
    {
     "data": {
      "text/plain": [
       "<a href=\"/pop/basketball-cards/1948/topps-magic-photos-all-american-basketball/54721\" target=\"_blank\">2</a>"
      ]
     },
     "execution_count": 609,
     "metadata": {},
     "output_type": "execute_result"
    }
   ],
   "source": [
    "population"
   ]
  },
  {
   "cell_type": "code",
   "execution_count": 606,
   "metadata": {},
   "outputs": [
    {
     "data": {
      "text/plain": [
       "<a href=\"/pop/basketball-cards/1948/topps-magic-photos-all-american-basketball/54721\" target=\"_blank\">4</a>"
      ]
     },
     "execution_count": 606,
     "metadata": {},
     "output_type": "execute_result"
    }
   ],
   "source": [
    "population"
   ]
  },
  {
   "cell_type": "code",
   "execution_count": 607,
   "metadata": {},
   "outputs": [
    {
     "data": {
      "text/plain": [
       "['1948', 'topps-magic-photos-all-american-basketball', '54721']"
      ]
     },
     "execution_count": 607,
     "metadata": {},
     "output_type": "execute_result"
    }
   ],
   "source": [
    "rel_url = population['href'].split('/')[3:]\n",
    "rel_url"
   ]
  },
  {
   "cell_type": "code",
   "execution_count": null,
   "metadata": {},
   "outputs": [],
   "source": []
  },
  {
   "cell_type": "code",
   "execution_count": null,
   "metadata": {},
   "outputs": [],
   "source": [
    "rel_url = population['href'].split('/')[3:]\n",
    "auction_name = rel_url[1]\n",
    "auction_player = rel_url[2]\n",
    "auction_year = rel_url[0]"
   ]
  },
  {
   "cell_type": "code",
   "execution_count": null,
   "metadata": {},
   "outputs": [],
   "source": []
  },
  {
   "cell_type": "code",
   "execution_count": null,
   "metadata": {},
   "outputs": [],
   "source": []
  },
  {
   "cell_type": "code",
   "execution_count": 601,
   "metadata": {},
   "outputs": [
    {
     "data": {
      "text/plain": [
       "False"
      ]
     },
     "execution_count": 601,
     "metadata": {},
     "output_type": "execute_result"
    }
   ],
   "source": [
    "'—' == ''"
   ]
  },
  {
   "cell_type": "code",
   "execution_count": 578,
   "metadata": {},
   "outputs": [],
   "source": [
    "parse_amount_details(average_price)"
   ]
  },
  {
   "cell_type": "code",
   "execution_count": 571,
   "metadata": {},
   "outputs": [
    {
     "data": {
      "text/plain": [
       "['topps-magic-photos-all-american-basketball',\n",
       " 'murray-wier',\n",
       " 'values',\n",
       " '633272#g=5']"
      ]
     },
     "execution_count": 571,
     "metadata": {},
     "output_type": "execute_result"
    }
   ],
   "source": [
    "identifiers = url['href'].split('/')[3:]\n",
    "identifiers"
   ]
  },
  {
   "cell_type": "code",
   "execution_count": 579,
   "metadata": {},
   "outputs": [
    {
     "data": {
      "text/plain": [
       "'633272'"
      ]
     },
     "execution_count": 579,
     "metadata": {},
     "output_type": "execute_result"
    }
   ],
   "source": [
    "summary_id"
   ]
  },
  {
   "cell_type": "code",
   "execution_count": 585,
   "metadata": {},
   "outputs": [],
   "source": []
  },
  {
   "cell_type": "code",
   "execution_count": 589,
   "metadata": {},
   "outputs": [],
   "source": [
    "parse_amount_details(average_price)"
   ]
  },
  {
   "cell_type": "code",
   "execution_count": 586,
   "metadata": {},
   "outputs": [
    {
     "data": {
      "text/plain": [
       "<a href=\"/auctionprices/basketball-cards/topps-magic-photos-all-american-basketball/murray-wier/values/633272#g=5\">$10.61</a>"
      ]
     },
     "execution_count": 586,
     "metadata": {},
     "output_type": "execute_result"
    }
   ],
   "source": [
    "most_recent_prices"
   ]
  },
  {
   "cell_type": "code",
   "execution_count": 228,
   "metadata": {},
   "outputs": [],
   "source": [
    "# Extract Fine-details (Amount)\n",
    "#Ip: most_recent_prices\n",
    "foreign_keys = url[8:].split('/')[3:]\n",
    "auction_name = foreign_keys[0]\n",
    "auction_player = foreign_keys[1]\n",
    "value = most_recent_prices.text\n",
    "\n",
    "\n",
    "\n",
    "# Expose in another table"
   ]
  },
  {
   "cell_type": "code",
   "execution_count": 229,
   "metadata": {},
   "outputs": [
    {
     "data": {
      "text/plain": [
       "[{'auction_name': 'topps-magic-photos-all-american-basketball',\n",
       "  'auction_player': 'murray-wier',\n",
       "  'date': '12/23/2018',\n",
       "  'price': '10.61',\n",
       "  'grade': '5',\n",
       "  'lot_number': '382680512913',\n",
       "  'auction_house': 'eBay',\n",
       "  'auction_seller': 'just_collect',\n",
       "  'auction_type': 'Auction',\n",
       "  'cert': '41599722'},\n",
       " {'auction_name': 'topps-magic-photos-all-american-basketball',\n",
       "  'auction_player': 'murray-wier',\n",
       "  'date': '6/21/2017',\n",
       "  'price': '19.78',\n",
       "  'grade': '3',\n",
       "  'lot_number': '311898718015',\n",
       "  'auction_house': 'eBay',\n",
       "  'auction_seller': 'xsed58a',\n",
       "  'auction_type': 'Buy It Now',\n",
       "  'cert': '27342757'}]"
      ]
     },
     "execution_count": 229,
     "metadata": {},
     "output_type": "execute_result"
    }
   ],
   "source": [
    "returned_details"
   ]
  },
  {
   "cell_type": "code",
   "execution_count": 558,
   "metadata": {},
   "outputs": [
    {
     "data": {
      "text/plain": [
       "'https://www.psacard.com/auctionprices/basketball-cards/1948-topps-magic-photos-all-american-basketball/murray-wier/summary/633272'"
      ]
     },
     "execution_count": 558,
     "metadata": {},
     "output_type": "execute_result"
    }
   ],
   "source": [
    "url"
   ]
  },
  {
   "cell_type": "code",
   "execution_count": 559,
   "metadata": {},
   "outputs": [],
   "source": [
    "url = BASE_PATH + population['href']"
   ]
  },
  {
   "cell_type": "code",
   "execution_count": 561,
   "metadata": {},
   "outputs": [
    {
     "data": {
      "text/plain": [
       "'54721'"
      ]
     },
     "execution_count": 561,
     "metadata": {},
     "output_type": "execute_result"
    }
   ],
   "source": [
    "url.split('/')[-1]"
   ]
  },
  {
   "cell_type": "code",
   "execution_count": 555,
   "metadata": {},
   "outputs": [],
   "source": []
  },
  {
   "cell_type": "code",
   "execution_count": 554,
   "metadata": {},
   "outputs": [],
   "source": [
    "parse_population_details(url, population)"
   ]
  },
  {
   "cell_type": "code",
   "execution_count": 547,
   "metadata": {},
   "outputs": [
    {
     "data": {
      "text/plain": [
       "<a href=\"/pop/basketball-cards/1948/topps-magic-photos-all-american-basketball/54721\" target=\"_blank\">4</a>"
      ]
     },
     "execution_count": 547,
     "metadata": {},
     "output_type": "execute_result"
    }
   ],
   "source": [
    "population"
   ]
  },
  {
   "cell_type": "code",
   "execution_count": 234,
   "metadata": {},
   "outputs": [],
   "source": [
    "# Extract Fine-details (Population)\n",
    "foreign_keys = url[8:].split('/')[3:]\n",
    "auction_name = foreign_keys[0]\n",
    "auction_player = foreign_keys[1]\n"
   ]
  },
  {
   "cell_type": "code",
   "execution_count": 366,
   "metadata": {},
   "outputs": [
    {
     "data": {
      "text/plain": [
       "'[\\'\\\\n\\', <strong>Manhattan</strong>, \\'\\\\n\\', <br/>, \\'All American Basketball                        \\', <span class=\"shop-link\" data-id=\"633276\">Shop</span>, \\'\\\\n\\']'"
      ]
     },
     "execution_count": 366,
     "metadata": {},
     "output_type": "execute_result"
    }
   ],
   "source": [
    "str(td)"
   ]
  },
  {
   "cell_type": "code",
   "execution_count": 393,
   "metadata": {},
   "outputs": [],
   "source": [
    "auction_meta = str(td)\n",
    "#player+start = \n",
    "auction_player = auction_meta[auction_meta.index('<strong>')+len('<strong>'):auction_meta.index('</strong>')].strip()\n",
    "auction_league = auction_meta[auction_meta.index('<br/>')+8: auction_meta.index('<span')-3].strip()"
   ]
  },
  {
   "cell_type": "code",
   "execution_count": 394,
   "metadata": {},
   "outputs": [
    {
     "data": {
      "text/plain": [
       "'All American Basketball'"
      ]
     },
     "execution_count": 394,
     "metadata": {},
     "output_type": "execute_result"
    }
   ],
   "source": [
    "auction_league"
   ]
  },
  {
   "cell_type": "code",
   "execution_count": 390,
   "metadata": {},
   "outputs": [
    {
     "data": {
      "text/plain": [
       "99"
      ]
     },
     "execution_count": 390,
     "metadata": {},
     "output_type": "execute_result"
    }
   ],
   "source": [
    "auction_meta.index('<span')"
   ]
  },
  {
   "cell_type": "code",
   "execution_count": 337,
   "metadata": {},
   "outputs": [
    {
     "data": {
      "text/plain": [
       "'<strong>Ralph Beard</strong>'"
      ]
     },
     "execution_count": 337,
     "metadata": {},
     "output_type": "execute_result"
    }
   ],
   "source": [
    "'<strong>Ralph Beard</strong>'.replace('<.*>', '')"
   ]
  },
  {
   "cell_type": "code",
   "execution_count": 329,
   "metadata": {},
   "outputs": [
    {
     "data": {
      "text/plain": [
       "['\\n',\n",
       " <strong>Ralph Beard</strong>,\n",
       " '\\n',\n",
       " <br/>,\n",
       " 'All American Basketball                        ',\n",
       " <span class=\"shop-link\" data-id=\"633271\">Shop</span>,\n",
       " '\\n']"
      ]
     },
     "execution_count": 329,
     "metadata": {},
     "output_type": "execute_result"
    }
   ],
   "source": [
    "all_details.findAll('tr')[1].findAll('td')[1].contents"
   ]
  },
  {
   "cell_type": "code",
   "execution_count": 290,
   "metadata": {},
   "outputs": [
    {
     "data": {
      "text/plain": [
       "'Card No.NameAuth 1  1.5  2  3  4  5  6  7  8  9  10 Total'"
      ]
     },
     "execution_count": 290,
     "metadata": {},
     "output_type": "execute_result"
    }
   ],
   "source": [
    "row.text"
   ]
  },
  {
   "cell_type": "code",
   "execution_count": null,
   "metadata": {},
   "outputs": [],
   "source": []
  },
  {
   "cell_type": "code",
   "execution_count": null,
   "metadata": {},
   "outputs": [],
   "source": []
  },
  {
   "cell_type": "code",
   "execution_count": null,
   "metadata": {},
   "outputs": [],
   "source": []
  },
  {
   "cell_type": "code",
   "execution_count": null,
   "metadata": {},
   "outputs": [],
   "source": []
  },
  {
   "cell_type": "code",
   "execution_count": null,
   "metadata": {},
   "outputs": [],
   "source": []
  },
  {
   "cell_type": "code",
   "execution_count": null,
   "metadata": {},
   "outputs": [],
   "source": []
  },
  {
   "cell_type": "code",
   "execution_count": null,
   "metadata": {},
   "outputs": [],
   "source": []
  },
  {
   "cell_type": "code",
   "execution_count": null,
   "metadata": {},
   "outputs": [],
   "source": []
  },
  {
   "cell_type": "code",
   "execution_count": null,
   "metadata": {},
   "outputs": [],
   "source": []
  },
  {
   "cell_type": "code",
   "execution_count": null,
   "metadata": {},
   "outputs": [],
   "source": []
  },
  {
   "cell_type": "code",
   "execution_count": 204,
   "metadata": {},
   "outputs": [],
   "source": [
    "all_details = soup.find_all(\"div\", attrs={\"class\": \"item-lots-summary\"})[0].find_all(\"div\", attrs={\"class\": \"item-row\"})"
   ]
  },
  {
   "cell_type": "code",
   "execution_count": 207,
   "metadata": {},
   "outputs": [
    {
     "data": {
      "text/plain": [
       "<div class=\"item-row\" data-auctionhouse=\"eBay\" data-auctionname=\"just_collect\" data-auctiontype=\"Auction\" data-cert=\"41599722\" data-date=\"12/23/2018\" data-gradevalue=\"5\" data-hasqualifier=\"False\" data-lot=\"382680512913\" data-price=\"10.61\" style=\"display: table-row; background-color: rgb(242, 244, 248);\">\n",
       "<div class=\"item-image\"> <a href=\"https://d1w8cc2yygc27j.cloudfront.net/-3425784339091053077/4762457083403360376.jpg\" rel=\"lightbox\"><img class=\"lazy-loaded\" data-src=\"https://d1w8cc2yygc27j.cloudfront.net/-3425784339091053077/4762457083403360376_thumbnail.jpg\" src=\"https://d1w8cc2yygc27j.cloudfront.net/-3425784339091053077/4762457083403360376_thumbnail.jpg\"/></a></div>\n",
       "<div class=\"item item-date\">12/23/2018</div>\n",
       "<div class=\"item item-price\">$10.61</div>\n",
       "<div class=\"item item-grade\"><span style=\"display:none;\">PSA </span>5  </div>\n",
       "<div class=\"item item-lot\"><span style=\"display:none;\">Lot# </span><a href=\"/auctionprices/basketball-cards/1948-topps-magic-photos-all-american-basketball/murray-wier/auction/2200741\">382680512913</a></div>\n",
       "<div class=\"item item-auctionhouse\">eBay</div>\n",
       "<div class=\"item item-auctionname\">just_collect</div>\n",
       "<div class=\"item item-auctiontype\">Auction</div>\n",
       "<div class=\"item item-cert\"><span style=\"display:none;\">Cert </span>41599722</div>\n",
       "</div>"
      ]
     },
     "execution_count": 207,
     "metadata": {},
     "output_type": "execute_result"
    }
   ],
   "source": [
    "all_details[1]"
   ]
  },
  {
   "cell_type": "code",
   "execution_count": 191,
   "metadata": {},
   "outputs": [
    {
     "data": {
      "text/plain": [
       "'eBay'"
      ]
     },
     "execution_count": 191,
     "metadata": {},
     "output_type": "execute_result"
    }
   ],
   "source": [
    "fine_details['data-auctionhouse']"
   ]
  },
  {
   "cell_type": "code",
   "execution_count": 175,
   "metadata": {},
   "outputs": [
    {
     "data": {
      "text/plain": [
       "<div class=\"item-row\" data-auctionhouse=\"eBay\" data-auctionname=\"just_collect\" data-auctiontype=\"Auction\" data-cert=\"41599722\" data-date=\"12/23/2018\" data-gradevalue=\"5\" data-hasqualifier=\"False\" data-lot=\"382680512913\" data-price=\"10.61\" style=\"display: table-row; background-color: rgb(242, 244, 248);\">\n",
       "<div class=\"item-image\"> <a href=\"https://d1w8cc2yygc27j.cloudfront.net/-3425784339091053077/4762457083403360376.jpg\" rel=\"lightbox\"><img class=\"lazy-loaded\" data-src=\"https://d1w8cc2yygc27j.cloudfront.net/-3425784339091053077/4762457083403360376_thumbnail.jpg\" src=\"https://d1w8cc2yygc27j.cloudfront.net/-3425784339091053077/4762457083403360376_thumbnail.jpg\"/></a></div>\n",
       "<div class=\"item item-date\">12/23/2018</div>\n",
       "<div class=\"item item-price\">$10.61</div>\n",
       "<div class=\"item item-grade\"><span style=\"display:none;\">PSA </span>5  </div>\n",
       "<div class=\"item item-lot\"><span style=\"display:none;\">Lot# </span><a href=\"/auctionprices/basketball-cards/1948-topps-magic-photos-all-american-basketball/murray-wier/auction/2200741\">382680512913</a></div>\n",
       "<div class=\"item item-auctionhouse\">eBay</div>\n",
       "<div class=\"item item-auctionname\">just_collect</div>\n",
       "<div class=\"item item-auctiontype\">Auction</div>\n",
       "<div class=\"item item-cert\"><span style=\"display:none;\">Cert </span>41599722</div>\n",
       "</div>"
      ]
     },
     "execution_count": 175,
     "metadata": {},
     "output_type": "execute_result"
    }
   ],
   "source": [
    "fine_details"
   ]
  },
  {
   "cell_type": "code",
   "execution_count": 167,
   "metadata": {},
   "outputs": [
    {
     "data": {
      "text/plain": [
       "[<div class=\"item-lots-summary result-table result-table-sortable\">\n",
       " <div id=\"item-prices\">\n",
       " <div class=\"item-row header-row\" style=\"display: table-row; background-color: rgb(255, 255, 255);\">\n",
       " <div class=\"item header-item\"></div>\n",
       " <div class=\"item header-item\" data-coltype=\"date\" data-direction=\"desc\">Date</div>\n",
       " <div class=\"item header-item\" data-coltype=\"price\" data-direction=\"asc\">Price</div>\n",
       " <div class=\"item header-item\" data-coltype=\"gradevalue\" data-direction=\"asc\">Grade</div>\n",
       " <div class=\"item header-item\" data-coltype=\"lot\" data-direction=\"asc\">Lot #</div>\n",
       " <div class=\"item header-item\" data-coltype=\"auctionhouse\" data-direction=\"asc\">Auction House</div>\n",
       " <div class=\"item header-item\" data-coltype=\"auctionname\" data-direction=\"asc\">Auction / Seller</div>\n",
       " <div class=\"item header-item\" data-coltype=\"auctiontype\" data-direction=\"asc\">Type</div>\n",
       " <div class=\"item header-item\" data-coltype=\"cert\" data-direction=\"asc\">Cert</div>\n",
       " </div>\n",
       " <div class=\"item-row\" data-auctionhouse=\"eBay\" data-auctionname=\"just_collect\" data-auctiontype=\"Auction\" data-cert=\"41599722\" data-date=\"12/23/2018\" data-gradevalue=\"5\" data-hasqualifier=\"False\" data-lot=\"382680512913\" data-price=\"10.61\" style=\"display: table-row; background-color: rgb(242, 244, 248);\">\n",
       " <div class=\"item-image\"> <a href=\"https://d1w8cc2yygc27j.cloudfront.net/-3425784339091053077/4762457083403360376.jpg\" rel=\"lightbox\"><img class=\"lazy-loaded\" data-src=\"https://d1w8cc2yygc27j.cloudfront.net/-3425784339091053077/4762457083403360376_thumbnail.jpg\" src=\"https://d1w8cc2yygc27j.cloudfront.net/-3425784339091053077/4762457083403360376_thumbnail.jpg\"/></a></div>\n",
       " <div class=\"item item-date\">12/23/2018</div>\n",
       " <div class=\"item item-price\">$10.61</div>\n",
       " <div class=\"item item-grade\"><span style=\"display:none;\">PSA </span>5  </div>\n",
       " <div class=\"item item-lot\"><span style=\"display:none;\">Lot# </span><a href=\"/auctionprices/basketball-cards/1948-topps-magic-photos-all-american-basketball/murray-wier/auction/2200741\">382680512913</a></div>\n",
       " <div class=\"item item-auctionhouse\">eBay</div>\n",
       " <div class=\"item item-auctionname\">just_collect</div>\n",
       " <div class=\"item item-auctiontype\">Auction</div>\n",
       " <div class=\"item item-cert\"><span style=\"display:none;\">Cert </span>41599722</div>\n",
       " </div>\n",
       " <div class=\"item-row\" data-auctionhouse=\"eBay\" data-auctionname=\"xsed58a\" data-auctiontype=\"Buy It Now\" data-cert=\"27342757\" data-date=\"6/21/2017\" data-gradevalue=\"3\" data-hasqualifier=\"False\" data-lot=\"311898718015\" data-price=\"19.78\" style=\"display: none; background-color: rgb(255, 255, 255);\">\n",
       " <div class=\"item-image\"> <a href=\"https://d9nvuahg4xykp.cloudfront.net/3933551738979489583/-2156605621843796835.jpg\" rel=\"lightbox\"><img data-src=\"https://d9nvuahg4xykp.cloudfront.net/3933551738979489583/-2156605621843796835_thumbnail.jpg\" src=\"data:image/gif;base64,R0lGODlhAQABAIAAAAAAAP///yH5BAEAAAAALAAAAAABAAEAAAIBRAA7\"/></a></div>\n",
       " <div class=\"item item-date\">6/21/2017</div>\n",
       " <div class=\"item item-price\">$19.78</div>\n",
       " <div class=\"item item-grade\"><span style=\"display:none;\">PSA </span>3  </div>\n",
       " <div class=\"item item-lot\"><span style=\"display:none;\">Lot# </span><a href=\"/auctionprices/basketball-cards/1948-topps-magic-photos-all-american-basketball/murray-wier/auction/477549\">311898718015</a></div>\n",
       " <div class=\"item item-auctionhouse\">eBay</div>\n",
       " <div class=\"item item-auctionname\">xsed58a</div>\n",
       " <div class=\"item item-auctiontype\">Buy It Now</div>\n",
       " <div class=\"item item-cert\"><span style=\"display:none;\">Cert </span>27342757</div>\n",
       " </div>\n",
       " </div>\n",
       " </div>]"
      ]
     },
     "execution_count": 167,
     "metadata": {},
     "output_type": "execute_result"
    }
   ],
   "source": [
    "fine_details"
   ]
  },
  {
   "cell_type": "code",
   "execution_count": 21,
   "metadata": {},
   "outputs": [],
   "source": [
    "driver = webdriver.Firefox(executable_path=SELENIUM_EXECUTABLE_PATH)\n",
    "driver.get(AUCTION_PRICES_PATH)\n",
    "soup=BeautifulSoup(driver.page_source)\n",
    "auction_items = soup.find_all(\"table\", attrs={\"class\": \"auction-summary-results\"})\n",
    "auction_data = []"
   ]
  },
  {
   "cell_type": "code",
   "execution_count": 62,
   "metadata": {},
   "outputs": [],
   "source": [
    "auction_data = []"
   ]
  },
  {
   "cell_type": "code",
   "execution_count": 63,
   "metadata": {},
   "outputs": [],
   "source": [
    "for item in auction_items:\n",
    "    item_info = {}\n",
    "    item_info['name'] = item.find('a').contents[0]\n",
    "    item_info['url'] = BASE_PATH + item.find('a')['href']\n",
    "    item_info['count'] = int(item.findAll('td')[-1].contents[0])\n",
    "    item_info['category'] = 'basketball_cards'\n",
    "    auction_data.append(item_info)"
   ]
  },
  {
   "cell_type": "code",
   "execution_count": 55,
   "metadata": {},
   "outputs": [
    {
     "data": {
      "text/plain": [
       "'1948 Topps Magic Photos All-American Basketball Murray Wier #2B All American Basketball'"
      ]
     },
     "execution_count": 55,
     "metadata": {},
     "output_type": "execute_result"
    }
   ],
   "source": [
    "item.find('a').contents[0]"
   ]
  },
  {
   "cell_type": "code",
   "execution_count": 69,
   "metadata": {},
   "outputs": [
    {
     "data": {
      "text/plain": [
       "'logs'"
      ]
     },
     "execution_count": 69,
     "metadata": {},
     "output_type": "execute_result"
    }
   ],
   "source": [
    "SAVE_PATH.split('/')[0]"
   ]
  },
  {
   "cell_type": "code",
   "execution_count": 80,
   "metadata": {},
   "outputs": [],
   "source": [
    "\n",
    "if not os.path.exists(SAVE_PATH.split('/')[0]):\n",
    "    os.makedirs(SAVE_PATH.split('/')[0])\n",
    "        \n",
    "wtr = csv.DictWriter(open(SAVE_PATH, 'w'), auction_data[0].keys(), delimiter=',', quotechar='\"', quoting=csv.QUOTE_MINIMAL)\n",
    "wtr.writerows(auction_data)"
   ]
  },
  {
   "cell_type": "code",
   "execution_count": 64,
   "metadata": {},
   "outputs": [
    {
     "data": {
      "text/plain": [
       "{'name': '1948 Topps Magic Photos All-American Basketball Murray Wier #2B All American Basketball',\n",
       " 'url': 'https://www.psacard.com/auctionprices/basketball-cards/1948-topps-magic-photos-all-american-basketball/murray-wier/summary/633272',\n",
       " 'count': 2}"
      ]
     },
     "execution_count": 64,
     "metadata": {},
     "output_type": "execute_result"
    }
   ],
   "source": [
    "auction_data[0]"
   ]
  }
 ],
 "metadata": {
  "kernelspec": {
   "display_name": "Python 3",
   "language": "python",
   "name": "python3"
  },
  "language_info": {
   "codemirror_mode": {
    "name": "ipython",
    "version": 3
   },
   "file_extension": ".py",
   "mimetype": "text/x-python",
   "name": "python",
   "nbconvert_exporter": "python",
   "pygments_lexer": "ipython3",
   "version": "3.7.6"
  }
 },
 "nbformat": 4,
 "nbformat_minor": 4
}
