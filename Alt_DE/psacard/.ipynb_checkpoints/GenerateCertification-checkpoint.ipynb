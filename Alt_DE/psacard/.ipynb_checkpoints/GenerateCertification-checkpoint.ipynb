{
 "cells": [
  {
   "cell_type": "code",
   "execution_count": 1,
   "metadata": {},
   "outputs": [],
   "source": [
    "import pandas as pd\n",
    "from selenium import webdriver\n",
    "from bs4 import BeautifulSoup\n",
    "import csv\n",
    "import os\n",
    "import re\n",
    "from dateutil.parser import parse\n"
   ]
  },
  {
   "cell_type": "code",
   "execution_count": 84,
   "metadata": {},
   "outputs": [],
   "source": [
    "def load_driver(SELENIUM_EXECUTABLE_PATH=r'/mnt/c/Users/adity/Downloads/Chrome/geckodriver-v0.27.0-win64/geckodriver.exe'):\n",
    "    driver = webdriver.Firefox(executable_path=SELENIUM_EXECUTABLE_PATH)\n",
    "    return driver\n",
    "\n",
    "def save_to_csv(data, SAVE_PATH, MODE):\n",
    "    if not os.path.exists(SAVE_PATH.split('/')[0]):\n",
    "        os.makedirs(SAVE_PATH.split('/')[0])\n",
    "\n",
    "    fileWriter = csv.DictWriter(open(SAVE_PATH, MODE), data[0].keys(), delimiter=',', quotechar='\"', quoting=csv.QUOTE_MINIMAL)\n",
    "    fileWriter.writerows(data)\n",
    "    \n",
    "def validate_date(date):\n",
    "    try:\n",
    "        parse(date)\n",
    "        return True\n",
    "    except ValueError:\n",
    "        return False"
   ]
  },
  {
   "cell_type": "code",
   "execution_count": 4,
   "metadata": {},
   "outputs": [],
   "source": [
    "certificate_id = '41599722'\n",
    "BASE_PATH='https://www.psacard.com/cert'\n",
    "url = '/'.join([BASE_PATH, certificate_id])\n",
    "driver = load_driver()\n",
    "driver.get(url)\n",
    "soup=BeautifulSoup(driver.page_source)"
   ]
  },
  {
   "cell_type": "code",
   "execution_count": 53,
   "metadata": {},
   "outputs": [],
   "source": [
    "certificate_details = soup.find_all(\"div\", attrs={\"class\": \"cert-container\"})[0].findAll('tr')[2:]\n",
    "certificate_map = {'certificate_number': certificate_id}\n",
    "certificate_map['reverse_cert_number'] = certificate_details[0].contents[-1].contents[0]\n",
    "certificate_map['year'] = certificate_details[1].contents[-1].contents[0]\n",
    "certificate_map['brand'] = certificate_details[2].contents[-1].contents[0]\n",
    "certificate_map['sport'] = certificate_details[3].contents[-1].contents[0]\n",
    "certificate_map['card_number'] = certificate_details[4].contents[-1].contents[0]\n",
    "certificate_map['player'] = certificate_details[5].contents[-1].contents[0]\n",
    "certificate_map['variety_or_pedigree'] = certificate_details[6].contents[-1].contents[0]\n",
    "certificate_map['grade'] = certificate_details[7].contents[-1].contents[0]"
   ]
  },
  {
   "cell_type": "code",
   "execution_count": 71,
   "metadata": {},
   "outputs": [],
   "source": [
    "# Adding PSA Auction Prices Realized\n",
    "realized_auction_prices = soup.find_all('table', attrs={\"class\": \"apritem-results\"})[0].findAll('tr')\n",
    "date = realized_auction_prices[0].contents[-1].contents[0]\n",
    "if validate_date(date):\n",
    "    certificate_map['date'] = date\n",
    "    certificate_map['price'] = realized_auction_prices[1].contents[-1].contents[0]\n",
    "    certificate_map['auction_house'] = realized_auction_prices[2].contents[-1].contents[0]\n",
    "    certificate_map['lot_number'] = realized_auction_prices[3].contents[-1].contents[0]\n",
    "else:\n",
    "    certificate_map['date'] = certificate_map['price'] = certificate_map['auction_house'] = certificate_map['lot_number'] = None\n"
   ]
  },
  {
   "cell_type": "code",
   "execution_count": 79,
   "metadata": {},
   "outputs": [
    {
     "data": {
      "text/plain": [
       "'12/23/2018'"
      ]
     },
     "execution_count": 79,
     "metadata": {},
     "output_type": "execute_result"
    }
   ],
   "source": []
  },
  {
   "cell_type": "code",
   "execution_count": 85,
   "metadata": {},
   "outputs": [
    {
     "data": {
      "text/plain": [
       "[<tr class=\"\"><td class=\"st-key\">Date</td><td class=\"st-val\">12/23/2018</td></tr>,\n",
       " <tr class=\"\"><td class=\"st-key\">Price</td><td class=\"st-val\">$10.61</td></tr>,\n",
       " <tr class=\"\"><td class=\"st-key\">Auction House</td><td class=\"st-val\">eBay (just_collect)</td></tr>,\n",
       " <tr class=\"\"><td class=\"st-key\">Lot Number</td><td class=\"st-val\"><a href=\"/auctionprices/auction/2200741\" target=\"_blank\">382680512913</a><span class=\"glyphicon glyphicon-new-window\"></span></td></tr>]"
      ]
     },
     "execution_count": 85,
     "metadata": {},
     "output_type": "execute_result"
    }
   ],
   "source": [
    "realized_auction_prices"
   ]
  },
  {
   "cell_type": "code",
   "execution_count": null,
   "metadata": {},
   "outputs": [],
   "source": [
    "PSA Auction Prices Realized:\n",
    "DATE\tPRICE\tAUCTION HOUSE\tLOT NUMBER\n",
    "12/23/2018\t$10.61\teBay (just_collect)\t382680512913"
   ]
  },
  {
   "cell_type": "code",
   "execution_count": 80,
   "metadata": {},
   "outputs": [],
   "source": [
    "\n"
   ]
  },
  {
   "cell_type": "code",
   "execution_count": 83,
   "metadata": {},
   "outputs": [
    {
     "data": {
      "text/plain": [
       "False"
      ]
     },
     "execution_count": 83,
     "metadata": {},
     "output_type": "execute_result"
    }
   ],
   "source": [
    "validate_date('-')"
   ]
  },
  {
   "cell_type": "code",
   "execution_count": null,
   "metadata": {},
   "outputs": [],
   "source": [
    "from dateutil.parser import parse\n",
    "\n",
    "def is_date(string, fuzzy=False):\n",
    "    \"\"\"\n",
    "    Return whether the string can be interpreted as a date.\n",
    "\n",
    "    :param string: str, string to check for date\n",
    "    :param fuzzy: bool, ignore unknown tokens in string if True\n",
    "    \"\"\"\n",
    "    try: \n",
    "        parse(string, fuzzy=fuzzy)\n",
    "        return True\n",
    "\n",
    "    except ValueError:\n",
    "        return False"
   ]
  },
  {
   "cell_type": "code",
   "execution_count": null,
   "metadata": {},
   "outputs": [],
   "source": []
  }
 ],
 "metadata": {
  "kernelspec": {
   "display_name": "Python 3",
   "language": "python",
   "name": "python3"
  },
  "language_info": {
   "codemirror_mode": {
    "name": "ipython",
    "version": 3
   },
   "file_extension": ".py",
   "mimetype": "text/x-python",
   "name": "python",
   "nbconvert_exporter": "python",
   "pygments_lexer": "ipython3",
   "version": "3.7.6"
  }
 },
 "nbformat": 4,
 "nbformat_minor": 4
}
