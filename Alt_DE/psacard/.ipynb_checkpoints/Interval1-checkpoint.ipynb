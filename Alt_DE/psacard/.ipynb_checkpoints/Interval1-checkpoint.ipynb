{
 "cells": [
  {
   "cell_type": "code",
   "execution_count": 95,
   "metadata": {},
   "outputs": [],
   "source": [
    "import pandas as pd\n",
    "from bs4 import BeautifulSoup\n",
    "import time\n",
    "from selenium import webdriver"
   ]
  },
  {
   "cell_type": "code",
   "execution_count": 96,
   "metadata": {},
   "outputs": [],
   "source": [
    "SELENIUM_EXECUTABLE_PATH=r'/mnt/c/Users/adity/Downloads/Chrome/geckodriver-v0.27.0-win64/geckodriver.exe'\n",
    "BASE_PATH='https://www.psacard.com'\n",
    "AUCTION_PRICES_PATH=BASE_PATH + '/auctionprices/#2basketball%20cards%7Cbasketb'"
   ]
  },
  {
   "cell_type": "code",
   "execution_count": 98,
   "metadata": {},
   "outputs": [
    {
     "data": {
      "text/plain": [
       "'https://www.psacard.comauctionprices/#2basketball%20cards%7Cbasketb'"
      ]
     },
     "execution_count": 98,
     "metadata": {},
     "output_type": "execute_result"
    }
   ],
   "source": [
    "AUCTION_PRICES_PATH"
   ]
  },
  {
   "cell_type": "code",
   "execution_count": 97,
   "metadata": {},
   "outputs": [
    {
     "ename": "WebDriverException",
     "evalue": "Message: Reached error page: about:neterror?e=dnsNotFound&u=https%3A//www.psacard.comauctionprices/%232basketball%2520cards%257Cbasketb&c=UTF-8&d=We%20can%E2%80%99t%20connect%20to%20the%20server%20at%20www.psacard.comauctionprices.\n",
     "output_type": "error",
     "traceback": [
      "\u001b[0;31m---------------------------------------------------------------------------\u001b[0m",
      "\u001b[0;31mWebDriverException\u001b[0m                        Traceback (most recent call last)",
      "\u001b[0;32m<ipython-input-97-d90fba5aacbd>\u001b[0m in \u001b[0;36m<module>\u001b[0;34m\u001b[0m\n\u001b[1;32m      1\u001b[0m \u001b[0mdriver\u001b[0m \u001b[0;34m=\u001b[0m \u001b[0mwebdriver\u001b[0m\u001b[0;34m.\u001b[0m\u001b[0mFirefox\u001b[0m\u001b[0;34m(\u001b[0m\u001b[0mexecutable_path\u001b[0m\u001b[0;34m=\u001b[0m\u001b[0mSELENIUM_EXECUTABLE_PATH\u001b[0m\u001b[0;34m)\u001b[0m\u001b[0;34m\u001b[0m\u001b[0;34m\u001b[0m\u001b[0m\n\u001b[0;32m----> 2\u001b[0;31m \u001b[0mdriver\u001b[0m\u001b[0;34m.\u001b[0m\u001b[0mget\u001b[0m\u001b[0;34m(\u001b[0m\u001b[0mAUCTION_PRICES_PATH\u001b[0m\u001b[0;34m)\u001b[0m\u001b[0;34m\u001b[0m\u001b[0;34m\u001b[0m\u001b[0m\n\u001b[0m\u001b[1;32m      3\u001b[0m \u001b[0msoup\u001b[0m\u001b[0;34m=\u001b[0m\u001b[0mBeautifulSoup\u001b[0m\u001b[0;34m(\u001b[0m\u001b[0mdriver\u001b[0m\u001b[0;34m.\u001b[0m\u001b[0mpage_source\u001b[0m\u001b[0;34m)\u001b[0m\u001b[0;34m\u001b[0m\u001b[0;34m\u001b[0m\u001b[0m\n\u001b[1;32m      4\u001b[0m \u001b[0mtime\u001b[0m\u001b[0;34m.\u001b[0m\u001b[0msleep\u001b[0m\u001b[0;34m(\u001b[0m\u001b[0;36m5\u001b[0m\u001b[0;34m)\u001b[0m\u001b[0;34m\u001b[0m\u001b[0;34m\u001b[0m\u001b[0m\n",
      "\u001b[0;32m~/.local/lib/python3.7/site-packages/selenium/webdriver/remote/webdriver.py\u001b[0m in \u001b[0;36mget\u001b[0;34m(self, url)\u001b[0m\n\u001b[1;32m    331\u001b[0m         \u001b[0mLoads\u001b[0m \u001b[0ma\u001b[0m \u001b[0mweb\u001b[0m \u001b[0mpage\u001b[0m \u001b[0;32min\u001b[0m \u001b[0mthe\u001b[0m \u001b[0mcurrent\u001b[0m \u001b[0mbrowser\u001b[0m \u001b[0msession\u001b[0m\u001b[0;34m.\u001b[0m\u001b[0;34m\u001b[0m\u001b[0;34m\u001b[0m\u001b[0m\n\u001b[1;32m    332\u001b[0m         \"\"\"\n\u001b[0;32m--> 333\u001b[0;31m         \u001b[0mself\u001b[0m\u001b[0;34m.\u001b[0m\u001b[0mexecute\u001b[0m\u001b[0;34m(\u001b[0m\u001b[0mCommand\u001b[0m\u001b[0;34m.\u001b[0m\u001b[0mGET\u001b[0m\u001b[0;34m,\u001b[0m \u001b[0;34m{\u001b[0m\u001b[0;34m'url'\u001b[0m\u001b[0;34m:\u001b[0m \u001b[0murl\u001b[0m\u001b[0;34m}\u001b[0m\u001b[0;34m)\u001b[0m\u001b[0;34m\u001b[0m\u001b[0;34m\u001b[0m\u001b[0m\n\u001b[0m\u001b[1;32m    334\u001b[0m \u001b[0;34m\u001b[0m\u001b[0m\n\u001b[1;32m    335\u001b[0m     \u001b[0;34m@\u001b[0m\u001b[0mproperty\u001b[0m\u001b[0;34m\u001b[0m\u001b[0;34m\u001b[0m\u001b[0m\n",
      "\u001b[0;32m~/.local/lib/python3.7/site-packages/selenium/webdriver/remote/webdriver.py\u001b[0m in \u001b[0;36mexecute\u001b[0;34m(self, driver_command, params)\u001b[0m\n\u001b[1;32m    319\u001b[0m         \u001b[0mresponse\u001b[0m \u001b[0;34m=\u001b[0m \u001b[0mself\u001b[0m\u001b[0;34m.\u001b[0m\u001b[0mcommand_executor\u001b[0m\u001b[0;34m.\u001b[0m\u001b[0mexecute\u001b[0m\u001b[0;34m(\u001b[0m\u001b[0mdriver_command\u001b[0m\u001b[0;34m,\u001b[0m \u001b[0mparams\u001b[0m\u001b[0;34m)\u001b[0m\u001b[0;34m\u001b[0m\u001b[0;34m\u001b[0m\u001b[0m\n\u001b[1;32m    320\u001b[0m         \u001b[0;32mif\u001b[0m \u001b[0mresponse\u001b[0m\u001b[0;34m:\u001b[0m\u001b[0;34m\u001b[0m\u001b[0;34m\u001b[0m\u001b[0m\n\u001b[0;32m--> 321\u001b[0;31m             \u001b[0mself\u001b[0m\u001b[0;34m.\u001b[0m\u001b[0merror_handler\u001b[0m\u001b[0;34m.\u001b[0m\u001b[0mcheck_response\u001b[0m\u001b[0;34m(\u001b[0m\u001b[0mresponse\u001b[0m\u001b[0;34m)\u001b[0m\u001b[0;34m\u001b[0m\u001b[0;34m\u001b[0m\u001b[0m\n\u001b[0m\u001b[1;32m    322\u001b[0m             response['value'] = self._unwrap_value(\n\u001b[1;32m    323\u001b[0m                 response.get('value', None))\n",
      "\u001b[0;32m~/.local/lib/python3.7/site-packages/selenium/webdriver/remote/errorhandler.py\u001b[0m in \u001b[0;36mcheck_response\u001b[0;34m(self, response)\u001b[0m\n\u001b[1;32m    240\u001b[0m                 \u001b[0malert_text\u001b[0m \u001b[0;34m=\u001b[0m \u001b[0mvalue\u001b[0m\u001b[0;34m[\u001b[0m\u001b[0;34m'alert'\u001b[0m\u001b[0;34m]\u001b[0m\u001b[0;34m.\u001b[0m\u001b[0mget\u001b[0m\u001b[0;34m(\u001b[0m\u001b[0;34m'text'\u001b[0m\u001b[0;34m)\u001b[0m\u001b[0;34m\u001b[0m\u001b[0;34m\u001b[0m\u001b[0m\n\u001b[1;32m    241\u001b[0m             \u001b[0;32mraise\u001b[0m \u001b[0mexception_class\u001b[0m\u001b[0;34m(\u001b[0m\u001b[0mmessage\u001b[0m\u001b[0;34m,\u001b[0m \u001b[0mscreen\u001b[0m\u001b[0;34m,\u001b[0m \u001b[0mstacktrace\u001b[0m\u001b[0;34m,\u001b[0m \u001b[0malert_text\u001b[0m\u001b[0;34m)\u001b[0m\u001b[0;34m\u001b[0m\u001b[0;34m\u001b[0m\u001b[0m\n\u001b[0;32m--> 242\u001b[0;31m         \u001b[0;32mraise\u001b[0m \u001b[0mexception_class\u001b[0m\u001b[0;34m(\u001b[0m\u001b[0mmessage\u001b[0m\u001b[0;34m,\u001b[0m \u001b[0mscreen\u001b[0m\u001b[0;34m,\u001b[0m \u001b[0mstacktrace\u001b[0m\u001b[0;34m)\u001b[0m\u001b[0;34m\u001b[0m\u001b[0;34m\u001b[0m\u001b[0m\n\u001b[0m\u001b[1;32m    243\u001b[0m \u001b[0;34m\u001b[0m\u001b[0m\n\u001b[1;32m    244\u001b[0m     \u001b[0;32mdef\u001b[0m \u001b[0m_value_or_default\u001b[0m\u001b[0;34m(\u001b[0m\u001b[0mself\u001b[0m\u001b[0;34m,\u001b[0m \u001b[0mobj\u001b[0m\u001b[0;34m,\u001b[0m \u001b[0mkey\u001b[0m\u001b[0;34m,\u001b[0m \u001b[0mdefault\u001b[0m\u001b[0;34m)\u001b[0m\u001b[0;34m:\u001b[0m\u001b[0;34m\u001b[0m\u001b[0;34m\u001b[0m\u001b[0m\n",
      "\u001b[0;31mWebDriverException\u001b[0m: Message: Reached error page: about:neterror?e=dnsNotFound&u=https%3A//www.psacard.comauctionprices/%232basketball%2520cards%257Cbasketb&c=UTF-8&d=We%20can%E2%80%99t%20connect%20to%20the%20server%20at%20www.psacard.comauctionprices.\n"
     ]
    }
   ],
   "source": [
    "driver = webdriver.Firefox(executable_path=SELENIUM_EXECUTABLE_PATH)\n",
    "driver.get(AUCTION_PRICES_PATH)\n",
    "soup=BeautifulSoup(driver.page_source)\n",
    "time.sleep(5)"
   ]
  },
  {
   "cell_type": "code",
   "execution_count": null,
   "metadata": {},
   "outputs": [],
   "source": [
    "soup"
   ]
  },
  {
   "cell_type": "code",
   "execution_count": 94,
   "metadata": {},
   "outputs": [
    {
     "data": {
      "text/plain": [
       "[]"
      ]
     },
     "execution_count": 94,
     "metadata": {},
     "output_type": "execute_result"
    }
   ],
   "source": [
    "table_entries = soup.find_all(\"table\", attrs={\"class\": \"auction-summary-results\"})\n",
    "table_entries"
   ]
  },
  {
   "cell_type": "code",
   "execution_count": 45,
   "metadata": {},
   "outputs": [
    {
     "data": {
      "text/plain": [
       "['1948 Topps Magic Photos All-American Basketball Murray Wier #2B All American Basketball']"
      ]
     },
     "execution_count": 45,
     "metadata": {},
     "output_type": "execute_result"
    }
   ],
   "source": [
    "table_entries[0].find('a').contents"
   ]
  },
  {
   "cell_type": "code",
   "execution_count": 46,
   "metadata": {},
   "outputs": [
    {
     "data": {
      "text/plain": [
       "'/auctionprices/basketball-cards/1948-topps-magic-photos-all-american-basketball/murray-wier/summary/633272'"
      ]
     },
     "execution_count": 46,
     "metadata": {},
     "output_type": "execute_result"
    }
   ],
   "source": [
    "table_entries[0].find('a')['href']"
   ]
  },
  {
   "cell_type": "code",
   "execution_count": 51,
   "metadata": {},
   "outputs": [
    {
     "data": {
      "text/plain": [
       "['2']"
      ]
     },
     "execution_count": 51,
     "metadata": {},
     "output_type": "execute_result"
    }
   ],
   "source": [
    "table_entries[0].findAll('td')[-1].contents"
   ]
  },
  {
   "cell_type": "code",
   "execution_count": 55,
   "metadata": {},
   "outputs": [],
   "source": [
    "NEW_PATH=BASE_PATH+'/auctionprices/basketball-cards/1948-topps-magic-photos-all-american-basketball/murray-wier/summary/633272'"
   ]
  },
  {
   "cell_type": "code",
   "execution_count": 56,
   "metadata": {},
   "outputs": [],
   "source": [
    "driver.get(NEW_PATH)\n",
    "soup=BeautifulSoup(driver.page_source)\n",
    "time.sleep(5)"
   ]
  },
  {
   "cell_type": "code",
   "execution_count": 59,
   "metadata": {},
   "outputs": [
    {
     "data": {
      "text/plain": [
       "[<table class=\"set-items-results text-center stacktable small-only\"><tbody><tr class=\"\"><td class=\"st-key\">Grade</td><td class=\"st-val\">GEM - MT 10</td></tr><tr class=\"\"><td class=\"st-key\">Most Recent Price</td><td class=\"st-val\">—</td></tr><tr class=\"\"><td class=\"st-key\">Average Price</td><td class=\"st-val\">—</td></tr><tr class=\"\"><td class=\"st-key\">SMR Price</td><td class=\"st-val\">—</td></tr><tr class=\"\"><td class=\"st-key\">Population</td><td class=\"st-val\">—</td></tr><tr class=\"\"><td class=\"st-key\">POP Higher</td><td class=\"st-val\">—</td></tr></tbody></table>,\n",
       " <table class=\"set-items-results text-center stacktable small-only\"><tbody><tr class=\"\"><td class=\"st-key\">Grade</td><td class=\"st-val\">MINT 9</td></tr><tr class=\"\"><td class=\"st-key\">Most Recent Price</td><td class=\"st-val\">—</td></tr><tr class=\"\"><td class=\"st-key\">Average Price</td><td class=\"st-val\">—</td></tr><tr class=\"\"><td class=\"st-key\">SMR Price</td><td class=\"st-val\">—</td></tr><tr class=\"\"><td class=\"st-key\">Population</td><td class=\"st-val\">—</td></tr><tr class=\"\"><td class=\"st-key\">POP Higher</td><td class=\"st-val\">—</td></tr></tbody></table>,\n",
       " <table class=\"set-items-results text-center stacktable small-only\"><tbody><tr class=\"\"><td class=\"st-key\">Grade</td><td class=\"st-val\">NM - MT 8</td></tr><tr class=\"\"><td class=\"st-key\">Most Recent Price</td><td class=\"st-val\">—</td></tr><tr class=\"\"><td class=\"st-key\">Average Price</td><td class=\"st-val\">—</td></tr><tr class=\"\"><td class=\"st-key\">SMR Price</td><td class=\"st-val\">—</td></tr><tr class=\"\"><td class=\"st-key\">Population</td><td class=\"st-val\">—</td></tr><tr class=\"\"><td class=\"st-key\">POP Higher</td><td class=\"st-val\">—</td></tr></tbody></table>,\n",
       " <table class=\"set-items-results text-center stacktable small-only\"><tbody><tr class=\"\"><td class=\"st-key\">Grade</td><td class=\"st-val\">NM 7</td></tr><tr class=\"\"><td class=\"st-key\">Most Recent Price</td><td class=\"st-val\">—</td></tr><tr class=\"\"><td class=\"st-key\">Average Price</td><td class=\"st-val\">—</td></tr><tr class=\"\"><td class=\"st-key\">SMR Price</td><td class=\"st-val\">—</td></tr><tr class=\"\"><td class=\"st-key\">Population</td><td class=\"st-val\">—</td></tr><tr class=\"\"><td class=\"st-key\">POP Higher</td><td class=\"st-val\">—</td></tr></tbody></table>,\n",
       " <table class=\"set-items-results text-center stacktable small-only\"><tbody><tr class=\"\"><td class=\"st-key\">Grade</td><td class=\"st-val\">EX - MT 6</td></tr><tr class=\"\"><td class=\"st-key\">Most Recent Price</td><td class=\"st-val\">—</td></tr><tr class=\"\"><td class=\"st-key\">Average Price</td><td class=\"st-val\">—</td></tr><tr class=\"\"><td class=\"st-key\">SMR Price</td><td class=\"st-val\">—</td></tr><tr class=\"\"><td class=\"st-key\">Population</td><td class=\"st-val\"><a href=\"/pop/basketball-cards/1948/topps-magic-photos-all-american-basketball/54721\" target=\"_blank\">2</a></td></tr><tr class=\"\"><td class=\"st-key\">POP Higher</td><td class=\"st-val\">—</td></tr></tbody></table>,\n",
       " <table class=\"set-items-results text-center stacktable small-only\"><tbody><tr class=\"\"><td class=\"st-key\">Grade</td><td class=\"st-val\">EX 5</td></tr><tr class=\"\"><td class=\"st-key\">Most Recent Price</td><td class=\"st-val\"><a href=\"/auctionprices/basketball-cards/topps-magic-photos-all-american-basketball/murray-wier/values/633272#g=5\">$10.61</a></td></tr><tr class=\"\"><td class=\"st-key\">Average Price</td><td class=\"st-val\"><a href=\"/auctionprices/basketball-cards/topps-magic-photos-all-american-basketball/murray-wier/values/633272#g=5\">$10.61</a></td></tr><tr class=\"\"><td class=\"st-key\">SMR Price</td><td class=\"st-val\">—</td></tr><tr class=\"\"><td class=\"st-key\">Population</td><td class=\"st-val\"><a href=\"/pop/basketball-cards/1948/topps-magic-photos-all-american-basketball/54721\" target=\"_blank\">4</a></td></tr><tr class=\"\"><td class=\"st-key\">POP Higher</td><td class=\"st-val\">2</td></tr></tbody></table>,\n",
       " <table class=\"set-items-results text-center stacktable small-only\"><tbody><tr class=\"\"><td class=\"st-key\">Grade</td><td class=\"st-val\">VG - EX 4</td></tr><tr class=\"\"><td class=\"st-key\">Most Recent Price</td><td class=\"st-val\">—</td></tr><tr class=\"\"><td class=\"st-key\">Average Price</td><td class=\"st-val\">—</td></tr><tr class=\"\"><td class=\"st-key\">SMR Price</td><td class=\"st-val\">—</td></tr><tr class=\"\"><td class=\"st-key\">Population</td><td class=\"st-val\"><a href=\"/pop/basketball-cards/1948/topps-magic-photos-all-american-basketball/54721\" target=\"_blank\">3</a></td></tr><tr class=\"\"><td class=\"st-key\">POP Higher</td><td class=\"st-val\">6</td></tr></tbody></table>,\n",
       " <table class=\"set-items-results text-center stacktable small-only\"><tbody><tr class=\"\"><td class=\"st-key\">Grade</td><td class=\"st-val\">VG 3</td></tr><tr class=\"\"><td class=\"st-key\">Most Recent Price</td><td class=\"st-val\"><a href=\"/auctionprices/basketball-cards/topps-magic-photos-all-american-basketball/murray-wier/values/633272#g=3\">$19.78</a></td></tr><tr class=\"\"><td class=\"st-key\">Average Price</td><td class=\"st-val\"><a href=\"/auctionprices/basketball-cards/topps-magic-photos-all-american-basketball/murray-wier/values/633272#g=3\">$19.78</a></td></tr><tr class=\"\"><td class=\"st-key\">SMR Price</td><td class=\"st-val\">—</td></tr><tr class=\"\"><td class=\"st-key\">Population</td><td class=\"st-val\"><a href=\"/pop/basketball-cards/1948/topps-magic-photos-all-american-basketball/54721\" target=\"_blank\">2</a></td></tr><tr class=\"\"><td class=\"st-key\">POP Higher</td><td class=\"st-val\">10</td></tr></tbody></table>,\n",
       " <table class=\"set-items-results text-center stacktable small-only\"><tbody><tr class=\"\"><td class=\"st-key\">Grade</td><td class=\"st-val\">GOOD 2</td></tr><tr class=\"\"><td class=\"st-key\">Most Recent Price</td><td class=\"st-val\">—</td></tr><tr class=\"\"><td class=\"st-key\">Average Price</td><td class=\"st-val\">—</td></tr><tr class=\"\"><td class=\"st-key\">SMR Price</td><td class=\"st-val\">—</td></tr><tr class=\"\"><td class=\"st-key\">Population</td><td class=\"st-val\"><a href=\"/pop/basketball-cards/1948/topps-magic-photos-all-american-basketball/54721\" target=\"_blank\">2</a></td></tr><tr class=\"\"><td class=\"st-key\">POP Higher</td><td class=\"st-val\">12</td></tr></tbody></table>,\n",
       " <table class=\"set-items-results text-center stacktable small-only\"><tbody><tr class=\"\"><td class=\"st-key\">Grade</td><td class=\"st-val\">FR 1.5</td></tr><tr class=\"\"><td class=\"st-key\">Most Recent Price</td><td class=\"st-val\">—</td></tr><tr class=\"\"><td class=\"st-key\">Average Price</td><td class=\"st-val\">—</td></tr><tr class=\"\"><td class=\"st-key\">SMR Price</td><td class=\"st-val\">—</td></tr><tr class=\"\"><td class=\"st-key\">Population</td><td class=\"st-val\">—</td></tr><tr class=\"\"><td class=\"st-key\">POP Higher</td><td class=\"st-val\">16</td></tr></tbody></table>,\n",
       " <table class=\"set-items-results text-center stacktable small-only\"><tbody><tr class=\"\"><td class=\"st-key\">Grade</td><td class=\"st-val\">PR 1</td></tr><tr class=\"\"><td class=\"st-key\">Most Recent Price</td><td class=\"st-val\">—</td></tr><tr class=\"\"><td class=\"st-key\">Average Price</td><td class=\"st-val\">—</td></tr><tr class=\"\"><td class=\"st-key\">SMR Price</td><td class=\"st-val\">—</td></tr><tr class=\"\"><td class=\"st-key\">Population</td><td class=\"st-val\">—</td></tr><tr class=\"\"><td class=\"st-key\">POP Higher</td><td class=\"st-val\">16</td></tr></tbody></table>,\n",
       " <table class=\"set-items-results text-center stacktable small-only\"><tbody><tr class=\"\"><td class=\"st-key\">Grade</td><td class=\"st-val\">Auth</td></tr><tr class=\"\"><td class=\"st-key\">Most Recent Price</td><td class=\"st-val\">—</td></tr><tr class=\"\"><td class=\"st-key\">Average Price</td><td class=\"st-val\">—</td></tr><tr class=\"\"><td class=\"st-key\">SMR Price</td><td class=\"st-val\">—</td></tr><tr class=\"\"><td class=\"st-key\">Population</td><td class=\"st-val\">—</td></tr><tr class=\"\"><td class=\"st-key\">POP Higher</td><td class=\"st-val\">16</td></tr></tbody></table>,\n",
       " <table class=\"set-items-results text-center stacktable large-only\">\n",
       " <thead>\n",
       " <tr>\n",
       " <th>Grade</th>\n",
       " <th>Most Recent Price</th>\n",
       " <th>Average Price</th>\n",
       " <th>SMR Price</th>\n",
       " <th>Population</th>\n",
       " <th>POP Higher</th>\n",
       " </tr>\n",
       " </thead>\n",
       " <tbody>\n",
       " <tr>\n",
       " <td>GEM - MT 10</td>\n",
       " <td>—</td>\n",
       " <td>—</td>\n",
       " <td>—</td>\n",
       " <td>—</td>\n",
       " <td>—</td>\n",
       " </tr>\n",
       " <tr>\n",
       " <td>MINT 9</td>\n",
       " <td>—</td>\n",
       " <td>—</td>\n",
       " <td>—</td>\n",
       " <td>—</td>\n",
       " <td>—</td>\n",
       " </tr>\n",
       " <tr>\n",
       " <td>NM - MT 8</td>\n",
       " <td>—</td>\n",
       " <td>—</td>\n",
       " <td>—</td>\n",
       " <td>—</td>\n",
       " <td>—</td>\n",
       " </tr>\n",
       " <tr>\n",
       " <td>NM 7</td>\n",
       " <td>—</td>\n",
       " <td>—</td>\n",
       " <td>—</td>\n",
       " <td>—</td>\n",
       " <td>—</td>\n",
       " </tr>\n",
       " <tr>\n",
       " <td>EX - MT 6</td>\n",
       " <td>—</td>\n",
       " <td>—</td>\n",
       " <td>—</td>\n",
       " <td><a href=\"/pop/basketball-cards/1948/topps-magic-photos-all-american-basketball/54721\" target=\"_blank\">2</a></td>\n",
       " <td>—</td>\n",
       " </tr>\n",
       " <tr>\n",
       " <td>EX 5</td>\n",
       " <td><a href=\"/auctionprices/basketball-cards/topps-magic-photos-all-american-basketball/murray-wier/values/633272#g=5\">$10.61</a></td>\n",
       " <td><a href=\"/auctionprices/basketball-cards/topps-magic-photos-all-american-basketball/murray-wier/values/633272#g=5\">$10.61</a></td>\n",
       " <td>—</td>\n",
       " <td><a href=\"/pop/basketball-cards/1948/topps-magic-photos-all-american-basketball/54721\" target=\"_blank\">4</a></td>\n",
       " <td>2</td>\n",
       " </tr>\n",
       " <tr>\n",
       " <td>VG - EX 4</td>\n",
       " <td>—</td>\n",
       " <td>—</td>\n",
       " <td>—</td>\n",
       " <td><a href=\"/pop/basketball-cards/1948/topps-magic-photos-all-american-basketball/54721\" target=\"_blank\">3</a></td>\n",
       " <td>6</td>\n",
       " </tr>\n",
       " <tr>\n",
       " <td>VG 3</td>\n",
       " <td><a href=\"/auctionprices/basketball-cards/topps-magic-photos-all-american-basketball/murray-wier/values/633272#g=3\">$19.78</a></td>\n",
       " <td><a href=\"/auctionprices/basketball-cards/topps-magic-photos-all-american-basketball/murray-wier/values/633272#g=3\">$19.78</a></td>\n",
       " <td>—</td>\n",
       " <td><a href=\"/pop/basketball-cards/1948/topps-magic-photos-all-american-basketball/54721\" target=\"_blank\">2</a></td>\n",
       " <td>10</td>\n",
       " </tr>\n",
       " <tr>\n",
       " <td>GOOD 2</td>\n",
       " <td>—</td>\n",
       " <td>—</td>\n",
       " <td>—</td>\n",
       " <td><a href=\"/pop/basketball-cards/1948/topps-magic-photos-all-american-basketball/54721\" target=\"_blank\">2</a></td>\n",
       " <td>12</td>\n",
       " </tr>\n",
       " <tr>\n",
       " <td>FR 1.5</td>\n",
       " <td>—</td>\n",
       " <td>—</td>\n",
       " <td>—</td>\n",
       " <td>—</td>\n",
       " <td>16</td>\n",
       " </tr>\n",
       " <tr>\n",
       " <td>PR 1</td>\n",
       " <td>—</td>\n",
       " <td>—</td>\n",
       " <td>—</td>\n",
       " <td>—</td>\n",
       " <td>16</td>\n",
       " </tr>\n",
       " <tr>\n",
       " <td>Auth</td>\n",
       " <td>—</td>\n",
       " <td>—</td>\n",
       " <td>—</td>\n",
       " <td>—</td>\n",
       " <td>16</td>\n",
       " </tr>\n",
       " </tbody>\n",
       " </table>]"
      ]
     },
     "execution_count": 59,
     "metadata": {},
     "output_type": "execute_result"
    }
   ],
   "source": [
    "table_entries = soup.find_all(\"table\", attrs={\"class\": \"set-items-results\"})\n",
    "table_entries"
   ]
  },
  {
   "cell_type": "code",
   "execution_count": 84,
   "metadata": {},
   "outputs": [
    {
     "data": {
      "text/plain": [
       "[<tr class=\"\"><td class=\"st-key\">Grade</td><td class=\"st-val\">EX 5</td></tr>,\n",
       " <tr class=\"\"><td class=\"st-key\">Most Recent Price</td><td class=\"st-val\"><a href=\"/auctionprices/basketball-cards/topps-magic-photos-all-american-basketball/murray-wier/values/633272#g=5\">$10.61</a></td></tr>,\n",
       " <tr class=\"\"><td class=\"st-key\">Average Price</td><td class=\"st-val\"><a href=\"/auctionprices/basketball-cards/topps-magic-photos-all-american-basketball/murray-wier/values/633272#g=5\">$10.61</a></td></tr>,\n",
       " <tr class=\"\"><td class=\"st-key\">SMR Price</td><td class=\"st-val\">—</td></tr>,\n",
       " <tr class=\"\"><td class=\"st-key\">Population</td><td class=\"st-val\"><a href=\"/pop/basketball-cards/1948/topps-magic-photos-all-american-basketball/54721\" target=\"_blank\">4</a></td></tr>,\n",
       " <tr class=\"\"><td class=\"st-key\">POP Higher</td><td class=\"st-val\">2</td></tr>]"
      ]
     },
     "execution_count": 84,
     "metadata": {},
     "output_type": "execute_result"
    }
   ],
   "source": [
    "table_entries[5].findAll('tr')"
   ]
  },
  {
   "cell_type": "code",
   "execution_count": 91,
   "metadata": {},
   "outputs": [
    {
     "data": {
      "text/plain": [
       "<a href=\"/auctionprices/basketball-cards/topps-magic-photos-all-american-basketball/murray-wier/values/633272#g=5\">$10.61</a>"
      ]
     },
     "execution_count": 91,
     "metadata": {},
     "output_type": "execute_result"
    }
   ],
   "source": [
    "table_entries[5].findAll('tr')[1].find('a')"
   ]
  },
  {
   "cell_type": "code",
   "execution_count": null,
   "metadata": {},
   "outputs": [],
   "source": []
  },
  {
   "cell_type": "code",
   "execution_count": null,
   "metadata": {},
   "outputs": [],
   "source": []
  },
  {
   "cell_type": "code",
   "execution_count": null,
   "metadata": {},
   "outputs": [],
   "source": []
  },
  {
   "cell_type": "code",
   "execution_count": null,
   "metadata": {},
   "outputs": [],
   "source": []
  },
  {
   "cell_type": "code",
   "execution_count": null,
   "metadata": {},
   "outputs": [],
   "source": []
  },
  {
   "cell_type": "code",
   "execution_count": null,
   "metadata": {},
   "outputs": [],
   "source": []
  }
 ],
 "metadata": {
  "kernelspec": {
   "display_name": "Python 3",
   "language": "python",
   "name": "python3"
  },
  "language_info": {
   "codemirror_mode": {
    "name": "ipython",
    "version": 3
   },
   "file_extension": ".py",
   "mimetype": "text/x-python",
   "name": "python",
   "nbconvert_exporter": "python",
   "pygments_lexer": "ipython3",
   "version": "3.7.6"
  }
 },
 "nbformat": 4,
 "nbformat_minor": 4
}
